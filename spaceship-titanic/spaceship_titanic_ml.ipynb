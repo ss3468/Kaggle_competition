{
 "cells": [
  {
   "cell_type": "code",
   "execution_count": 1,
   "id": "405196fa-59e5-48f9-a8fe-dd634a5641ad",
   "metadata": {},
   "outputs": [],
   "source": [
    "import pandas as pd\n",
    "import numpy as np\n",
    "from sklearn.model_selection import train_test_split\n",
    "from sklearn import metrics\n",
    "from sklearn.metrics import *"
   ]
  },
  {
   "cell_type": "code",
   "execution_count": 2,
   "id": "cbd32cd3-1f3c-48f4-8ea7-030509ffb7e3",
   "metadata": {},
   "outputs": [],
   "source": [
    "train_data = pd.read_csv('train.csv')\n",
    "test_data = pd.read_csv('test.csv')"
   ]
  },
  {
   "cell_type": "code",
   "execution_count": 3,
   "id": "a952c985-c820-4e04-be21-4b2ca859fc21",
   "metadata": {},
   "outputs": [
    {
     "name": "stdout",
     "output_type": "stream",
     "text": [
      "Transported\n",
      "True     4378\n",
      "False    4315\n",
      "Name: count, dtype: int64\n"
     ]
    },
    {
     "data": {
      "image/png": "[encoded data removed]",
      "text/plain": [
       "<Figure size 600x600 with 1 Axes>"
      ]
     },
     "metadata": {},
     "output_type": "display_data"
    }
   ],
   "source": [
    "#EDA\n",
    "import seaborn as sns\n",
    "import matplotlib.pyplot as plt\n",
    "\n",
    "# Calculate counts of each category\n",
    "counts = train_data['Transported'].value_counts()\n",
    "print(counts)\n",
    "\n",
    "# Plotting\n",
    "plt.figure(figsize=(6, 6))\n",
    "counts.plot(kind='bar')\n",
    "plt.title('Distribution of Binary Output')\n",
    "plt.xlabel('Categories')\n",
    "plt.ylabel('Counts')\n",
    "plt.xticks(rotation=0)  # Rotate x-labels if needed\n",
    "plt.show()"
   ]
  },
  {
   "cell_type": "code",
   "execution_count": 4,
   "id": "0ac23709-ce6d-4f46-bd37-4ea5c9deecbf",
   "metadata": {},
   "outputs": [
    {
     "name": "stdout",
     "output_type": "stream",
     "text": [
      "HomePlanet 201\n",
      "CryoSleep 217\n",
      "Cabin 199\n",
      "Destination 182\n",
      "Age 179\n",
      "VIP 203\n",
      "RoomService 181\n",
      "FoodCourt 183\n",
      "ShoppingMall 208\n",
      "Spa 183\n",
      "VRDeck 188\n",
      "Name 200\n"
     ]
    }
   ],
   "source": [
    "nulls = train_data.isnull().sum().to_frame()\n",
    "for index, row in nulls.iterrows():\n",
    "    if row[0] > 0:\n",
    "        print(index, row[0])\n",
    "    else:\n",
    "        continue"
   ]
  },
  {
   "cell_type": "code",
   "execution_count": 5,
   "id": "55c6de36-f336-4ca0-8e37-0e380a61a520",
   "metadata": {},
   "outputs": [],
   "source": [
    "X = train_data.drop('Transported', axis=1)\n",
    "y = train_data['Transported']\n",
    "# Split the data into training and testing sets with stratification\n",
    "X_train, X_valid, y_train, y_valid = train_test_split(X, y, test_size=0.2, stratify=y, random_state=21)\n",
    "\n",
    "# Creating dataframes from the split data\n",
    "train_df = pd.concat([X_train, y_train], axis=1)\n",
    "valid_df = pd.concat([X_valid, y_valid], axis=1)"
   ]
  },
  {
   "cell_type": "code",
   "execution_count": 6,
   "id": "cc3751c7-040a-431a-8147-a2786d1b271f",
   "metadata": {},
   "outputs": [
    {
     "name": "stdout",
     "output_type": "stream",
     "text": [
      "HomePlanet 159 0.02286453839516825\n",
      "CryoSleep 175 0.025165372447512224\n",
      "Cabin 160 0.02300834052343975\n",
      "Destination 140 0.02013229795800978\n",
      "Age 148 0.021282714984181765\n",
      "VIP 160 0.02300834052343975\n",
      "RoomService 139 0.01998849582973828\n",
      "FoodCourt 149 0.021426517112453265\n",
      "ShoppingMall 172 0.02473396606269773\n",
      "Spa 146 0.02099511072763877\n",
      "VRDeck 150 0.021570319240724764\n",
      "Name 152 0.02185792349726776\n"
     ]
    }
   ],
   "source": [
    "nulls = train_df.isnull().sum().to_frame()\n",
    "for index, row in nulls.iterrows():\n",
    "    if row[0] > 0:\n",
    "        print(index,row[0],row[0]/len(train_df))\n",
    "    else:\n",
    "        continue"
   ]
  },
  {
   "cell_type": "code",
   "execution_count": 7,
   "id": "06b1f0b8-3dc6-4b22-aa68-b0b4dc1f4c32",
   "metadata": {},
   "outputs": [
    {
     "name": "stdout",
     "output_type": "stream",
     "text": [
      "HomePlanet 42\n",
      "CryoSleep 42\n",
      "Cabin 39\n",
      "Destination 42\n",
      "Age 31\n",
      "VIP 43\n",
      "RoomService 42\n",
      "FoodCourt 34\n",
      "ShoppingMall 36\n",
      "Spa 37\n",
      "VRDeck 38\n",
      "Name 48\n"
     ]
    }
   ],
   "source": [
    "nulls = valid_df.isnull().sum().to_frame()\n",
    "for index, row in nulls.iterrows():\n",
    "    if row[0] > 0:\n",
    "        print(index, row[0])\n",
    "    else:\n",
    "        continue"
   ]
  },
  {
   "cell_type": "code",
   "execution_count": 8,
   "id": "e81fe044-638d-4806-9808-510120d6e68d",
   "metadata": {},
   "outputs": [
    {
     "name": "stdout",
     "output_type": "stream",
     "text": [
      "HomePlanet 87\n",
      "CryoSleep 93\n",
      "Cabin 100\n",
      "Destination 92\n",
      "Age 91\n",
      "VIP 93\n",
      "RoomService 82\n",
      "FoodCourt 106\n",
      "ShoppingMall 98\n",
      "Spa 101\n",
      "VRDeck 80\n",
      "Name 94\n"
     ]
    }
   ],
   "source": [
    "nulls = test_data.isnull().sum().to_frame()\n",
    "for index, row in nulls.iterrows():\n",
    "    if row[0] > 0:\n",
    "        print(index, row[0])\n",
    "    else:\n",
    "        continue"
   ]
  },
  {
   "cell_type": "code",
   "execution_count": 9,
   "id": "57be4b10-1440-47f1-aaaa-48394724148c",
   "metadata": {},
   "outputs": [],
   "source": [
    "import feature_engineering as fe\n",
    "# train_df=fe.feature_expansion(train_df,'Transported')\n",
    "# valid_df=fe.feature_expansion(valid_df,'Transported')\n",
    "# test_data=fe.feature_expansion(test_data)\n",
    "expense_col=['RoomService','FoodCourt','ShoppingMall','Spa','VRDeck']\n",
    "train_df,valid_df,test_data=fe.engineer_data(expense_col,train_df,test_data,valid_df)\n",
    "train_df_og=train_df.copy()"
   ]
  },
  {
   "cell_type": "code",
   "execution_count": 10,
   "id": "05ea6800-a000-40d0-8fcc-2e6fc5d2a445",
   "metadata": {},
   "outputs": [],
   "source": [
    "train_df.to_csv('training.csv',index=False)\n",
    "valid_df.to_csv('validation.csv',index=False)\n",
    "test_data.to_csv('testing.csv',index=False)"
   ]
  },
  {
   "cell_type": "code",
   "execution_count": 11,
   "id": "f11000a0-2d42-400b-bd4e-8fa2ae9f4c63",
   "metadata": {},
   "outputs": [
    {
     "name": "stdout",
     "output_type": "stream",
     "text": [
      "Chi-Square statistic: 268.2181593878133\n",
      "p-value: 5.716980564864095e-59\n"
     ]
    }
   ],
   "source": [
    "import pandas as pd\n",
    "from scipy.stats import chi2_contingency\n",
    "\n",
    "# Create a crosstab of a categorical feature and the target variable\n",
    "crosstab = pd.crosstab(train_df['HomePlanet'], train_df['Transported'])\n",
    "\n",
    "# Perform the Chi-Square test\n",
    "chi2, p, dof, expected = chi2_contingency(crosstab)\n",
    "\n",
    "print(f'Chi-Square statistic: {chi2}')\n",
    "print(f'p-value: {p}')\n"
   ]
  },
  {
   "cell_type": "code",
   "execution_count": 12,
   "id": "d1ecc6a2-9820-4e13-82fd-99abf79f3b5a",
   "metadata": {},
   "outputs": [
    {
     "name": "stdout",
     "output_type": "stream",
     "text": [
      "Chi-Square statistic: 5399.405345426091\n",
      "p-value: 0.061977681976171824\n"
     ]
    }
   ],
   "source": [
    "# Create a crosstab of a categorical feature and the target variable\n",
    "crosstab = pd.crosstab(train_df['Group'], train_df['Transported'])\n",
    "\n",
    "# Perform the Chi-Square test\n",
    "chi2, p, dof, expected = chi2_contingency(crosstab)\n",
    "\n",
    "print(f'Chi-Square statistic: {chi2}')\n",
    "print(f'p-value: {p}')"
   ]
  },
  {
   "cell_type": "code",
   "execution_count": 13,
   "id": "5504beac-e362-4831-95da-ca4d1e6fb0ba",
   "metadata": {},
   "outputs": [
    {
     "name": "stdout",
     "output_type": "stream",
     "text": [
      "Chi-Square statistic: 319.47135887931876\n",
      "p-value: 4.18226893341016e-65\n"
     ]
    }
   ],
   "source": [
    "# Create a crosstab of a categorical feature and the target variable\n",
    "crosstab = pd.crosstab(train_df['deck'], train_df['Transported'])\n",
    "\n",
    "# Perform the Chi-Square test\n",
    "chi2, p, dof, expected = chi2_contingency(crosstab)\n",
    "\n",
    "print(f'Chi-Square statistic: {chi2}')\n",
    "print(f'p-value: {p}')"
   ]
  },
  {
   "cell_type": "code",
   "execution_count": 14,
   "id": "027ff0e5-2622-4340-8264-40272c9e15dd",
   "metadata": {},
   "outputs": [
    {
     "name": "stdout",
     "output_type": "stream",
     "text": [
      "Chi-Square statistic: 2300.7672036180097\n",
      "p-value: 0.0023103244493922525\n"
     ]
    }
   ],
   "source": [
    "# Create a crosstab of a categorical feature and the target variable\n",
    "crosstab = pd.crosstab(train_df['Surname'], train_df['Transported'])\n",
    "\n",
    "# Perform the Chi-Square test\n",
    "chi2, p, dof, expected = chi2_contingency(crosstab)\n",
    "\n",
    "print(f'Chi-Square statistic: {chi2}')\n",
    "print(f'p-value: {p}')"
   ]
  },
  {
   "cell_type": "code",
   "execution_count": 15,
   "id": "12ca6ddb-3820-42d2-8cf3-ddd0b457c6fa",
   "metadata": {},
   "outputs": [],
   "source": [
    "train_df,valid_df,test_data=fe.fill_missing_values(train_df,test_data,valid_df)\n",
    "train_df.to_csv('training_filled.csv',index=False)\n",
    "valid_df.to_csv('validation_filled.csv',index=False)\n",
    "test_data.to_csv('testing_filled.csv',index=False)\n",
    "combined_df = pd.concat([train_df, valid_df], ignore_index=True)\n",
    "sorted_df = combined_df.sort_values(by='PassengerId')\n",
    "sorted_df.to_csv('train_filled.csv',index=False)"
   ]
  },
  {
   "cell_type": "code",
   "execution_count": 16,
   "id": "1e2a2b62-fa45-4c1a-91d7-5d4a53b7d35f",
   "metadata": {},
   "outputs": [
    {
     "name": "stdout",
     "output_type": "stream",
     "text": [
      "Destination 139 0.01998849582973828\n",
      "Age 148 0.021282714984181765\n",
      "VIP 43 0.006183491515674432\n",
      "RoomService 82 0.01179177451826287\n",
      "FoodCourt 85 0.012223180903077365\n",
      "ShoppingMall 82 0.01179177451826287\n",
      "Spa 89 0.01279838941616336\n",
      "VRDeck 84 0.012079378774805867\n",
      "Surname 152 0.02185792349726776\n",
      "deck 160 0.02300834052343975\n",
      "num 160 0.02300834052343975\n",
      "side 160 0.02300834052343975\n",
      "expenses 407 0.05852746620649986\n"
     ]
    }
   ],
   "source": [
    "nulls = train_df.isnull().sum().to_frame()\n",
    "for index, row in nulls.iterrows():\n",
    "    if row[0] > 0:\n",
    "        print(index,row[0],row[0]/len(train_df))\n",
    "    else:\n",
    "        continue"
   ]
  },
  {
   "cell_type": "code",
   "execution_count": 17,
   "id": "a7606184-7ac2-496a-a7f9-cb36bfd046c1",
   "metadata": {},
   "outputs": [
    {
     "name": "stdout",
     "output_type": "stream",
     "text": [
      "Destination 41\n",
      "Age 31\n",
      "VIP 11\n",
      "RoomService 25\n",
      "FoodCourt 21\n",
      "ShoppingMall 19\n",
      "Spa 24\n",
      "VRDeck 21\n",
      "Surname 48\n",
      "deck 39\n",
      "num 39\n",
      "side 39\n",
      "expenses 106\n"
     ]
    }
   ],
   "source": [
    "nulls = valid_df.isnull().sum().to_frame()\n",
    "for index, row in nulls.iterrows():\n",
    "    if row[0] > 0:\n",
    "        print(index, row[0])\n",
    "    else:\n",
    "        continue"
   ]
  },
  {
   "cell_type": "code",
   "execution_count": 18,
   "id": "caa72a37-4fe9-468c-b273-d82a1f62a776",
   "metadata": {},
   "outputs": [
    {
     "name": "stdout",
     "output_type": "stream",
     "text": [
      "Destination 92\n",
      "Age 91\n",
      "VIP 41\n",
      "RoomService 55\n",
      "FoodCourt 65\n",
      "ShoppingMall 60\n",
      "Spa 51\n",
      "VRDeck 43\n",
      "Surname 94\n",
      "deck 100\n",
      "num 100\n",
      "side 100\n",
      "expenses 266\n"
     ]
    }
   ],
   "source": [
    "nulls = test_data.isnull().sum().to_frame()\n",
    "for index, row in nulls.iterrows():\n",
    "    if row[0] > 0:\n",
    "        print(index, row[0])\n",
    "    else:\n",
    "        continue"
   ]
  },
  {
   "cell_type": "code",
   "execution_count": 19,
   "id": "77b0ed18-f145-4648-8e39-3563c955e9c2",
   "metadata": {},
   "outputs": [
    {
     "name": "stdout",
     "output_type": "stream",
     "text": [
      "Contingency Table:\n",
      " HomePlanet  Earth  Europa  Mars\n",
      "HomePlanet                     \n",
      "Earth        1591     709   639\n",
      "Europa        714     363   284\n",
      "Mars          619     296   227\n",
      "Chi-Square Test p-value: 0.3182\n",
      "No significant difference between original and imputed distributions.\n"
     ]
    },
    {
     "data": {
      "image/png": "[encoded data removed]",
      "text/plain": [
       "<Figure size 1200x600 with 1 Axes>"
      ]
     },
     "metadata": {},
     "output_type": "display_data"
    }
   ],
   "source": [
    "from eda_mod import check_feature_bias,bias_plot\n",
    "chi2, p, dof, ex=check_feature_bias(train_df_og,train_df,'HomePlanet')\n",
    "if p < 0.05:\n",
    "    print(\"Significant difference between original and imputed distributions, indicating potential bias.\")\n",
    "else:\n",
    "    print(\"No significant difference between original and imputed distributions.\")\n",
    "bias_plot(train_df_og,train_df,'HomePlanet')"
   ]
  },
  {
   "cell_type": "code",
   "execution_count": 20,
   "id": "70adca75-9385-4fe0-889b-71afd5514c68",
   "metadata": {},
   "outputs": [
    {
     "name": "stdout",
     "output_type": "stream",
     "text": [
      "Contingency Table:\n",
      " CryoSleep  False  True \n",
      "CryoSleep              \n",
      "False       2173   1304\n",
      "True        1283    670\n",
      "Chi-Square Test p-value: 0.0203\n",
      "Significant difference between original and imputed distributions, indicating potential bias.\n"
     ]
    },
    {
     "data": {
      "image/png": "[encoded data removed]",
      "text/plain": [
       "<Figure size 1200x600 with 1 Axes>"
      ]
     },
     "metadata": {},
     "output_type": "display_data"
    }
   ],
   "source": [
    "chi2, p, dof, ex=check_feature_bias(train_df_og,train_df,'CryoSleep')\n",
    "if p < 0.05:\n",
    "    print(\"Significant difference between original and imputed distributions, indicating potential bias.\")\n",
    "else:\n",
    "    print(\"No significant difference between original and imputed distributions.\")\n",
    "bias_plot(train_df_og,train_df,'CryoSleep')"
   ]
  },
  {
   "cell_type": "code",
   "execution_count": 21,
   "id": "da860ee3-30b5-4d76-bf5f-ec940838c38b",
   "metadata": {},
   "outputs": [
    {
     "name": "stdout",
     "output_type": "stream",
     "text": [
      "Contingency Table:\n",
      " VIP    False  True \n",
      "VIP                \n",
      "False   5158    134\n",
      "True     116      5\n",
      "Chi-Square Test p-value: 0.4182\n",
      "No significant difference between original and imputed distributions.\n"
     ]
    },
    {
     "data": {
      "image/png": "[encoded data removed]",
      "text/plain": [
       "<Figure size 1200x600 with 1 Axes>"
      ]
     },
     "metadata": {},
     "output_type": "display_data"
    }
   ],
   "source": [
    "chi2, p, dof, ex=check_feature_bias(train_df_og,train_df,'VIP')\n",
    "if p < 0.05:\n",
    "    print(\"Significant difference between original and imputed distributions, indicating potential bias.\")\n",
    "else:\n",
    "    print(\"No significant difference between original and imputed distributions.\")\n",
    "bias_plot(train_df_og,train_df,'VIP')"
   ]
  },
  {
   "cell_type": "code",
   "execution_count": 22,
   "id": "4b16709f-5ed4-4d40-bb09-9c50ccb3048b",
   "metadata": {},
   "outputs": [
    {
     "name": "stdout",
     "output_type": "stream",
     "text": [
      "\n",
      "Filtered Correlation Matrix:\n",
      "                   Surname_Acobson  Surname_Acobsond  Surname_Adavisons  \\\n",
      "HomePlanet_Earth          0.022041          0.015583           0.031179   \n",
      "HomePlanet_Europa        -0.013838         -0.009783          -0.019575   \n",
      "HomePlanet_Mars          -0.012297         -0.008694          -0.017396   \n",
      "\n",
      "                   Surname_Adkinson  Surname_Admingried  Surname_Aginge  \\\n",
      "HomePlanet_Earth           0.019087           -0.022612       -0.013053   \n",
      "HomePlanet_Europa         -0.011983            0.036018        0.020792   \n",
      "HomePlanet_Mars           -0.010649           -0.010649       -0.006147   \n",
      "\n",
      "                   Surname_Ailled  Surname_Aillyber  Surname_Aiming  \\\n",
      "HomePlanet_Earth        -0.013053         -0.022612       -0.013053   \n",
      "HomePlanet_Europa        0.020792          0.036018        0.020792   \n",
      "HomePlanet_Mars         -0.006147         -0.010649       -0.006147   \n",
      "\n",
      "                   Surname_Ainatint  ...  Surname_Wooterston  \\\n",
      "HomePlanet_Earth          -0.018462  ...            0.019087   \n",
      "HomePlanet_Europa          0.029406  ...           -0.011983   \n",
      "HomePlanet_Mars           -0.008694  ...           -0.010649   \n",
      "\n",
      "                   Surname_Workmans  Surname_Workmanson  Surname_Wrempeedly  \\\n",
      "HomePlanet_Earth           0.019087            0.011018           -0.013053   \n",
      "HomePlanet_Europa         -0.011983           -0.006917            0.020792   \n",
      "HomePlanet_Mars           -0.010649           -0.006147           -0.006147   \n",
      "\n",
      "                   Surname_Wriggins  Surname_Wynneyerson  Surname_Yanton  \\\n",
      "HomePlanet_Earth           0.011018             0.015583        0.029164   \n",
      "HomePlanet_Europa         -0.006917            -0.009783       -0.018309   \n",
      "HomePlanet_Mars           -0.006147            -0.008694       -0.016271   \n",
      "\n",
      "                   Surname_Yatters  Surname_Yorkland  Surname_Youngrayes  \n",
      "HomePlanet_Earth          0.022041          0.033073            0.011018  \n",
      "HomePlanet_Europa        -0.013838         -0.020764           -0.006917  \n",
      "HomePlanet_Mars          -0.012297         -0.018453           -0.006147  \n",
      "\n",
      "[3 rows x 2113 columns]\n",
      "\n",
      "Feature Pairs with Correlation Exceeding Threshold:\n",
      "num - Group: 0.6803472500747471\n",
      "expenses - FoodCourt: 0.7365363330204195\n",
      "expenses - Spa: 0.597687173035837\n",
      "expenses - VRDeck: 0.5940278024190002\n",
      "expenses_w_o_na - FoodCourt: 0.7378328718837467\n",
      "expenses_w_o_na - Spa: 0.5950415547858084\n",
      "expenses_w_o_na - VRDeck: 0.5988856811916637\n",
      "expenses_w_o_na - expenses: 1.0\n",
      "HomePlanet_Europa - HomePlanet_Earth: -0.6278165642972692\n",
      "HomePlanet_Mars - HomePlanet_Earth: -0.5579389415534557\n",
      "Destination_TRAPPIST-1e - Destination_55 Cancri e: -0.7501846633245967\n",
      "deck_B - HomePlanet_Europa: 0.5519692387588846\n",
      "deck_C - HomePlanet_Europa: 0.5317846836139359\n",
      "deck_G - HomePlanet_Earth: 0.5977073398423758\n",
      "deck_T - Surname_Unsible: 0.5772672270792807\n",
      "side_S - side_P: -0.9550130185507618\n"
     ]
    }
   ],
   "source": [
    "from statsmodels.stats.outliers_influence import variance_inflation_factor\n",
    "tem_train=pd.get_dummies(train_df.drop(columns=['PassengerId','Transported']), columns=['HomePlanet', 'Destination','Surname','deck','side'])\n",
    "c_m=tem_train.corr()\n",
    "filter_criteria_x = [col for col in c_m.columns if 'HomePlanet' in col]\n",
    "filter_criteria_y = [col for col in c_m.columns if 'Surname' in col]\n",
    "filtered_correlation_matrix = c_m.loc[filter_criteria_x, filter_criteria_y]\n",
    "\n",
    "print(\"\\nFiltered Correlation Matrix:\")\n",
    "print(filtered_correlation_matrix)\n",
    "threshold = 0.5\n",
    "high_corr_matrix = c_m.abs() > threshold\n",
    "np.fill_diagonal(high_corr_matrix.values, False)\n",
    "# Find the pairs of features with high correlation\n",
    "high_corr_pairs = [(i, j) for i in range(len(high_corr_matrix.columns)) \n",
    "                            for j in range(i) \n",
    "                            if high_corr_matrix.iloc[i, j]]\n",
    "\n",
    "# Print the pairs with their correlation values\n",
    "print(\"\\nFeature Pairs with Correlation Exceeding Threshold:\")\n",
    "for i, j in high_corr_pairs:\n",
    "    print(f\"{c_m.columns[i]} - {c_m.columns[j]}: {c_m.iloc[i, j]}\")"
   ]
  },
  {
   "cell_type": "code",
   "execution_count": null,
   "id": "9d011d6a-9ce2-4e5c-a2dc-4940991322b3",
   "metadata": {},
   "outputs": [],
   "source": []
  }
 ],
 "metadata": {
  "kernelspec": {
   "display_name": "Python 3 (ipykernel)",
   "language": "python",
   "name": "python3"
  },
  "language_info": {
   "codemirror_mode": {
    "name": "ipython",
    "version": 3
   },
   "file_extension": ".py",
   "mimetype": "text/x-python",
   "name": "python",
   "nbconvert_exporter": "python",
   "pygments_lexer": "ipython3",
   "version": "3.11.5"
  }
 },
 "nbformat": 4,
 "nbformat_minor": 5
}
