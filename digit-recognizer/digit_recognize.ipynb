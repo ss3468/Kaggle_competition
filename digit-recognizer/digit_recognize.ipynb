{
 "cells": [
  {
   "cell_type": "code",
   "execution_count": 1,
   "id": "a2302153",
   "metadata": {},
   "outputs": [],
   "source": [
    "# Python imports to be incorporated\n",
    "# Python ≥3.5 is required\n",
    "# Anaconda prompt\n",
    "# conda activate tfradeon\n",
    "import sys\n",
    "assert sys.version_info >= (3, 5)\n",
    "\n",
    "# Scikit-Learn ≥0.20 is required\n",
    "import sklearn\n",
    "assert sklearn.__version__ >= \"0.20\"\n",
    "import tensorflow as tf\n",
    "from tensorflow import keras\n",
    "try:\n",
    "    if not tf.config.list_physical_devices('GPU'):\n",
    "        assert tf.__version__ >= \"2.0\"\n",
    "except:\n",
    "    if not tf.test.is_gpu_available():\n",
    "        assert tf.__version__ >= \"2.0\"\n",
    "\n",
    "%load_ext tensorboard\n",
    "\n",
    "# Common imports\n",
    "import pandas as pd\n",
    "import numpy as np\n",
    "import os\n",
    "# to make this notebook's output stable across runs\n",
    "np.random.seed(42)\n",
    "    \n",
    "\n",
    "# To plot pretty figures\n",
    "%matplotlib inline\n",
    "import matplotlib as mpl\n",
    "import matplotlib.pyplot as plt\n",
    "mpl.rc('axes', labelsize=14)\n",
    "mpl.rc('xtick', labelsize=12)\n",
    "mpl.rc('ytick', labelsize=12)\n",
    "from sklearn.model_selection import train_test_split\n",
    "from sklearn.preprocessing import StandardScaler"
   ]
  },
  {
   "cell_type": "code",
   "execution_count": 2,
   "id": "5731d9ae",
   "metadata": {},
   "outputs": [
    {
     "name": "stdout",
     "output_type": "stream",
     "text": [
      "[PhysicalDevice(name='/physical_device:GPU:0', device_type='GPU')]\n",
      "GPU is available\n"
     ]
    }
   ],
   "source": [
    "print(tf.config.list_physical_devices('GPU')) \n",
    "\n",
    "# Check if a GPU is available\n",
    "if tf.config.list_physical_devices('GPU'):\n",
    "    print('GPU is available')\n",
    "else:\n",
    "    print('GPU is not available')"
   ]
  },
  {
   "cell_type": "code",
   "execution_count": 3,
   "id": "b1a26f47",
   "metadata": {},
   "outputs": [],
   "source": [
    "data_train=pd.read_csv('train.csv')\n",
    "data_test=pd.read_csv('test.csv')"
   ]
  },
  {
   "cell_type": "code",
   "execution_count": 4,
   "id": "bd0ecded",
   "metadata": {},
   "outputs": [
    {
     "data": {
      "text/plain": [
       "(29866, 784)"
      ]
     },
     "execution_count": 4,
     "metadata": {},
     "output_type": "execute_result"
    }
   ],
   "source": [
    "features=data_train.columns[data_train.columns!='label']\n",
    "X_train, X_tester, y_train, y_tester = train_test_split((data_train[features]/ 255.0), data_train[['label']],test_size=0.2,random_state=42)\n",
    "X_train, X_valid, y_train, y_valid = train_test_split(X_train, y_train,test_size=(1/9),random_state=42)\n",
    "X_test=(data_test/255.0)\n",
    "X_train.shape"
   ]
  },
  {
   "cell_type": "code",
   "execution_count": 5,
   "id": "9b06a6df",
   "metadata": {},
   "outputs": [],
   "source": [
    "def save_to_multiple_csv_files(data, name_prefix, header=None, n_parts=10):\n",
    "    digit_dir = os.path.join(\"datasets\", \"digits\")\n",
    "    os.makedirs(digit_dir, exist_ok=True)\n",
    "    path_format = os.path.join(digit_dir, \"my_{}_{:02d}.csv\")\n",
    "\n",
    "    filepaths = []\n",
    "    m = len(data)\n",
    "    for file_idx, row_indices in enumerate(np.array_split(np.arange(m), n_parts)):\n",
    "        part_csv = path_format.format(name_prefix, file_idx)\n",
    "        filepaths.append(part_csv)\n",
    "        with open(part_csv, \"wt\", encoding=\"utf-8\") as f:\n",
    "            if header is not None:\n",
    "                f.write(header)\n",
    "                f.write(\"\\n\")\n",
    "            for row_idx in row_indices:\n",
    "                f.write(\",\".join([repr(col) for col in data[row_idx]]))\n",
    "                f.write(\"\\n\")\n",
    "    return filepaths\n",
    "n_inputs =X_train.shape[-1]\n",
    "#@tf.function\n",
    "def preprocess_ne(line):\n",
    "    defs = [0.] * n_inputs + [tf.constant([], dtype=tf.float32)]\n",
    "    fields = tf.io.decode_csv(line, record_defaults=defs)\n",
    "    x = tf.stack(fields[:-1])\n",
    "    y = tf.stack(fields[-1:])\n",
    "    return (x) / 255.0, y\n",
    "def preprocess_og(line):\n",
    "    defs = [0.] * n_inputs + [tf.constant([], dtype=tf.float32)]\n",
    "    fields = tf.io.decode_csv(line, record_defaults=defs)\n",
    "    x = tf.stack(fields[:-1])\n",
    "    y = tf.stack(fields[-1:])\n",
    "    return (x), y\n",
    "def csv_reader_dataset_og(filepaths, repeat=1, n_readers=5,  # number of files or filepaths\n",
    "                       n_read_threads=None, shuffle_buffer_size=10000,\n",
    "                       n_parse_threads=5, batch_size=32):\n",
    "    \n",
    "    # pick multiple files randomly and read them simultaneously, interleaving their records\n",
    "    # list_files() function returns a dataset that \"shuffles\" the file paths, then repeat 'repeat' times\n",
    "    dataset = tf.data.Dataset.list_files(filepaths).repeat(repeat)\n",
    "    \n",
    "    \n",
    "    \n",
    "    # interleave() method to read from cycle_length(=n_readers) files at a time and\n",
    "    # \"interleave their lines\" (called cycle) : reading one line at a time from each until all datasets are out of items\n",
    "    # Then it will get the next five file paths from the 'dataset' and interleave them the same way,\n",
    "    # and so on until it runs out of file paths\n",
    "    dataset = dataset.interleave(\n",
    "        lambda filepath: tf.data.TextLineDataset(filepath).skip(1), # skip the header row via map_func\n",
    "        cycle_length=n_readers, # 'interleave' pull cycle_length(=n_readers) file paths(1 by 1) from the 'dataset'\n",
    "        num_parallel_calls=n_read_threads) \n",
    "    #and for each one(filepath) it will call the function you gave it(lambda) to create a new dataset(TextLineDataset)\n",
    "    #the interleave dataset including cycle_length(=n_readers) datasets\n",
    "    \n",
    "    \n",
    "    # Then on top of that you can add a shuffling buffer using the shuffle() method\n",
    "    dataset = dataset.shuffle(shuffle_buffer_size)\n",
    "    dataset = dataset.map(preprocess_og, num_parallel_calls=n_parse_threads)  # call preprocess()\n",
    "    dataset = dataset.batch(batch_size) #group the items of the previous dataset in batches of 'batch_size' items\n",
    "    \n",
    "    \n",
    "    # See the notes below\n",
    "    return dataset.prefetch(1)\n",
    "def csv_reader_dataset(filepaths, repeat=1, n_readers=5,  # number of files or filepaths\n",
    "                       n_read_threads=None, shuffle_buffer_size=10000,\n",
    "                       n_parse_threads=5, batch_size=32):\n",
    "    \n",
    "    # pick multiple files randomly and read them simultaneously, interleaving their records\n",
    "    # list_files() function returns a dataset that \"shuffles\" the file paths, then repeat 'repeat' times\n",
    "    dataset = tf.data.Dataset.list_files(filepaths).repeat(repeat)\n",
    "    \n",
    "    \n",
    "    \n",
    "    # interleave() method to read from cycle_length(=n_readers) files at a time and\n",
    "    # \"interleave their lines\" (called cycle) : reading one line at a time from each until all datasets are out of items\n",
    "    # Then it will get the next five file paths from the 'dataset' and interleave them the same way,\n",
    "    # and so on until it runs out of file paths\n",
    "    dataset = dataset.interleave(\n",
    "        lambda filepath: tf.data.TextLineDataset(filepath).skip(1), # skip the header row via map_func\n",
    "        cycle_length=n_readers, # 'interleave' pull cycle_length(=n_readers) file paths(1 by 1) from the 'dataset'\n",
    "        num_parallel_calls=n_read_threads) \n",
    "    #and for each one(filepath) it will call the function you gave it(lambda) to create a new dataset(TextLineDataset)\n",
    "    #the interleave dataset including cycle_length(=n_readers) datasets\n",
    "    \n",
    "    \n",
    "    # Then on top of that you can add a shuffling buffer using the shuffle() method\n",
    "    dataset = dataset.shuffle(shuffle_buffer_size)\n",
    "    dataset = dataset.map(preprocess_ne, num_parallel_calls=n_parse_threads)  # call preprocess()\n",
    "    dataset = dataset.batch(batch_size) #group the items of the previous dataset in batches of 'batch_size' items\n",
    "    \n",
    "    \n",
    "    # See the notes below\n",
    "    return dataset.prefetch(1)"
   ]
  },
  {
   "cell_type": "code",
   "execution_count": 6,
   "id": "b3c7a95a",
   "metadata": {},
   "outputs": [
    {
     "name": "stdout",
     "output_type": "stream",
     "text": [
      "WARNING:tensorflow:From C:\\Users\\Sajin.LAPTOP-RE0DL8PH\\AppData\\Local\\Temp\\ipykernel_17396\\36588981.py:16: is_gpu_available (from tensorflow.python.framework.test_util) is deprecated and will be removed in a future version.\n",
      "Instructions for updating:\n",
      "Use `tf.config.list_physical_devices('GPU')` instead.\n"
     ]
    }
   ],
   "source": [
    "train_data = np.c_[X_train, y_train]\n",
    "valid_data = np.c_[X_valid, y_valid]\n",
    "test_data=np.c_[X_tester, y_tester]\n",
    "header_cols = data_train.columns\n",
    "header = \",\".join(header_cols)\n",
    "\n",
    "train_filepaths = save_to_multiple_csv_files(train_data, \"train\", header, n_parts=20)\n",
    "valid_filepaths = save_to_multiple_csv_files(valid_data, \"valid\", header, n_parts=10)\n",
    "test_filepaths = save_to_multiple_csv_files(test_data, \"test\", header, n_parts=10)\n",
    "try:\n",
    "    if not tf.config.list_physical_devices('GPU'):\n",
    "        tf.random.set_seed(42)\n",
    "    else:\n",
    "        tf.random.set_random_seed(42)\n",
    "except:\n",
    "    if not tf.test.is_gpu_available():\n",
    "        tf.random.set_random_seed(42)\n",
    "    else:\n",
    "        tf.random.set_seed(42)\n",
    "train_set = csv_reader_dataset_og(train_filepaths, repeat=None)\n",
    "valid_set = csv_reader_dataset_og(valid_filepaths)\n",
    "test_set = csv_reader_dataset_og(test_filepaths)"
   ]
  },
  {
   "cell_type": "code",
   "execution_count": 7,
   "id": "e93b6946",
   "metadata": {},
   "outputs": [],
   "source": [
    "class Standardization(keras.layers.Layer):\n",
    "    def adapt(self, data_sample):\n",
    "        self.means_ = np.mean(data_sample, axis=0)\n",
    "        self.stds_ = np.std(data_sample, axis=0)\n",
    "    def call(self, inputs):\n",
    "        return (inputs - self.means_) / (self.stds_ + keras.backend.epsilon())\n",
    "std_layer = Standardization()\n",
    "std_layer.adapt(X_train)\n",
    "beta=1.1\n",
    "def my_softplus(z): # return value is just tf.nn.softplus(z)\n",
    "    return (1/beta)*tf.math.log(tf.exp(beta*z) + 1.0)\n",
    "alpha=0.009#0.01\n",
    "def my_l1_regularizer(weights):\n",
    "    return tf.reduce_sum(tf.abs(alpha * weights))\n",
    "def my_glorot_initializer(shape, dtype=tf.float32):\n",
    "    stddev = tf.sqrt(2. / (shape[0] + shape[1]))\n",
    "    return tf.random.normal(shape, stddev=stddev, dtype=dtype)\n",
    "def my_positive_weights(weights): # return value is just tf.nn.relu(weights)\n",
    "    return tf.where(weights < 0., tf.zeros_like(weights), weights)"
   ]
  },
  {
   "cell_type": "code",
   "execution_count": 8,
   "id": "9beec677",
   "metadata": {},
   "outputs": [
    {
     "name": "stdout",
     "output_type": "stream",
     "text": [
      "Model: \"sequential\"\n",
      "_________________________________________________________________\n",
      " Layer (type)                Output Shape              Param #   \n",
      "=================================================================\n",
      " lambda (Lambda)             (None, 784)               0         \n",
      "                                                                 \n",
      " reshape (Reshape)           (None, 28, 28, 1)         0         \n",
      "                                                                 \n",
      " conv2d (Conv2D)             (None, 28, 28, 64)        3200      \n",
      "                                                                 \n",
      " batch_normalization (BatchN  (None, 28, 28, 64)       256       \n",
      " ormalization)                                                   \n",
      "                                                                 \n",
      " max_pooling2d (MaxPooling2D  (None, 14, 14, 64)       0         \n",
      " )                                                               \n",
      "                                                                 \n",
      " conv2d_1 (Conv2D)           (None, 14, 14, 64)        36928     \n",
      "                                                                 \n",
      " batch_normalization_1 (Batc  (None, 14, 14, 64)       256       \n",
      " hNormalization)                                                 \n",
      "                                                                 \n",
      " conv2d_2 (Conv2D)           (None, 14, 14, 64)        36928     \n",
      "                                                                 \n",
      " batch_normalization_2 (Batc  (None, 14, 14, 64)       256       \n",
      " hNormalization)                                                 \n",
      "                                                                 \n",
      " conv2d_3 (Conv2D)           (None, 14, 14, 64)        36928     \n",
      "                                                                 \n",
      " batch_normalization_3 (Batc  (None, 14, 14, 64)       256       \n",
      " hNormalization)                                                 \n",
      "                                                                 \n",
      " conv2d_4 (Conv2D)           (None, 14, 14, 64)        36928     \n",
      "                                                                 \n",
      " batch_normalization_4 (Batc  (None, 14, 14, 64)       256       \n",
      " hNormalization)                                                 \n",
      "                                                                 \n",
      " conv2d_5 (Conv2D)           (None, 14, 14, 64)        36928     \n",
      "                                                                 \n",
      " batch_normalization_5 (Batc  (None, 14, 14, 64)       256       \n",
      " hNormalization)                                                 \n",
      "                                                                 \n",
      " conv2d_6 (Conv2D)           (None, 14, 14, 64)        36928     \n",
      "                                                                 \n",
      " batch_normalization_6 (Batc  (None, 14, 14, 64)       256       \n",
      " hNormalization)                                                 \n",
      "                                                                 \n",
      " max_pooling2d_1 (MaxPooling  (None, 7, 7, 64)         0         \n",
      " 2D)                                                             \n",
      "                                                                 \n",
      " conv2d_7 (Conv2D)           (None, 7, 7, 128)         73856     \n",
      "                                                                 \n",
      " batch_normalization_7 (Batc  (None, 7, 7, 128)        512       \n",
      " hNormalization)                                                 \n",
      "                                                                 \n",
      " conv2d_8 (Conv2D)           (None, 7, 7, 128)         147584    \n",
      "                                                                 \n",
      " batch_normalization_8 (Batc  (None, 7, 7, 128)        512       \n",
      " hNormalization)                                                 \n",
      "                                                                 \n",
      " conv2d_9 (Conv2D)           (None, 7, 7, 128)         147584    \n",
      "                                                                 \n",
      " batch_normalization_9 (Batc  (None, 7, 7, 128)        512       \n",
      " hNormalization)                                                 \n",
      "                                                                 \n",
      " conv2d_10 (Conv2D)          (None, 7, 7, 128)         147584    \n",
      "                                                                 \n",
      " batch_normalization_10 (Bat  (None, 7, 7, 128)        512       \n",
      " chNormalization)                                                \n",
      "                                                                 \n",
      " conv2d_11 (Conv2D)          (None, 7, 7, 128)         147584    \n",
      "                                                                 \n",
      " batch_normalization_11 (Bat  (None, 7, 7, 128)        512       \n",
      " chNormalization)                                                \n",
      "                                                                 \n",
      " conv2d_12 (Conv2D)          (None, 7, 7, 128)         147584    \n",
      "                                                                 \n",
      " batch_normalization_12 (Bat  (None, 7, 7, 128)        512       \n",
      " chNormalization)                                                \n",
      "                                                                 \n",
      " max_pooling2d_2 (MaxPooling  (None, 3, 3, 128)        0         \n",
      " 2D)                                                             \n",
      "                                                                 \n",
      " flatten (Flatten)           (None, 1152)              0         \n",
      "                                                                 \n",
      " dense (Dense)               (None, 64)                73728     \n",
      "                                                                 \n",
      " batch_normalization_13 (Bat  (None, 64)               256       \n",
      " chNormalization)                                                \n",
      "                                                                 \n",
      " dropout (Dropout)           (None, 64)                0         \n",
      "                                                                 \n",
      " dense_1 (Dense)             (None, 32)                2048      \n",
      "                                                                 \n",
      " batch_normalization_14 (Bat  (None, 32)               128       \n",
      " chNormalization)                                                \n",
      "                                                                 \n",
      " dropout_1 (Dropout)         (None, 32)                0         \n",
      "                                                                 \n",
      " dense_2 (Dense)             (None, 10)                330       \n",
      "                                                                 \n",
      "=================================================================\n",
      "Total params: 1,117,898\n",
      "Trainable params: 1,115,274\n",
      "Non-trainable params: 2,624\n",
      "_________________________________________________________________\n"
     ]
    }
   ],
   "source": [
    "try:\n",
    "    if not tf.config.list_physical_devices('GPU'):\n",
    "        tf.random.set_seed(42)\n",
    "    else:\n",
    "        tf.random.set_random_seed(42)\n",
    "except:\n",
    "    if not tf.test.is_gpu_available():\n",
    "        tf.random.set_random_seed(42)\n",
    "    else:\n",
    "        tf.random.set_seed(42)\n",
    "model = keras.models.Sequential([\n",
    "    keras.layers.Lambda(std_layer,input_shape=X_train.shape[1:]),\n",
    "    keras.layers.Reshape((28, 28,1)),\n",
    "    keras.layers.Conv2D(64, 7, activation='selu',padding='same', kernel_initializer=\"lecun_normal\"),\n",
    "    keras.layers.BatchNormalization(),\n",
    "    keras.layers.MaxPooling2D(2),\n",
    "    keras.layers.Conv2D(64, 3, activation='selu',padding='same', kernel_initializer=\"lecun_normal\"),\n",
    "    keras.layers.BatchNormalization(),\n",
    "    keras.layers.Conv2D(64, 3, activation='selu',padding='same', kernel_initializer=\"lecun_normal\"),\n",
    "    keras.layers.BatchNormalization(),\n",
    "    keras.layers.Conv2D(64, 3, activation='selu',padding='same', kernel_initializer=\"lecun_normal\"),\n",
    "    keras.layers.BatchNormalization(),\n",
    "    keras.layers.Conv2D(64, 3, activation='selu',padding='same', kernel_initializer=\"lecun_normal\"),\n",
    "    keras.layers.BatchNormalization(),\n",
    "    keras.layers.Conv2D(64, 3, activation='selu',padding='same', kernel_initializer=\"lecun_normal\"),\n",
    "    keras.layers.BatchNormalization(),\n",
    "    keras.layers.Conv2D(64, 3, activation='selu',padding='same', kernel_initializer=\"lecun_normal\"),\n",
    "    keras.layers.BatchNormalization(),\n",
    "    keras.layers.MaxPooling2D(2),\n",
    "    keras.layers.Conv2D(128, 3, activation='selu',padding='same', kernel_initializer=\"lecun_normal\"),\n",
    "    keras.layers.BatchNormalization(),\n",
    "    keras.layers.Conv2D(128, 3, activation='selu',padding='same', kernel_initializer=\"lecun_normal\"),\n",
    "    keras.layers.BatchNormalization(),\n",
    "    keras.layers.Conv2D(128, 3, activation='selu',padding='same', kernel_initializer=\"lecun_normal\"),\n",
    "    keras.layers.BatchNormalization(),\n",
    "    keras.layers.Conv2D(128, 3, activation='selu',padding='same', kernel_initializer=\"lecun_normal\"),\n",
    "    keras.layers.BatchNormalization(),\n",
    "    keras.layers.Conv2D(128, 3, activation='selu',padding='same', kernel_initializer=\"lecun_normal\"),\n",
    "    keras.layers.BatchNormalization(),\n",
    "    keras.layers.Conv2D(128, 3, activation='selu',padding='same', kernel_initializer=\"lecun_normal\"),\n",
    "    keras.layers.BatchNormalization(),\n",
    "    keras.layers.MaxPooling2D(2),\n",
    "    keras.layers.Flatten(),\n",
    "    keras.layers.Dense(64, activation=\"tanh\",kernel_initializer=my_glorot_initializer,use_bias=False),\n",
    "    keras.layers.BatchNormalization(),\n",
    "    keras.layers.Dropout(0.25),\n",
    "    keras.layers.Dense(32,activation=my_softplus,kernel_initializer=my_glorot_initializer,use_bias=False),\n",
    "    keras.layers.BatchNormalization(),\n",
    "    keras.layers.Dropout(0.25),\n",
    "    keras.layers.Dense(10, activation=\"softmax\",kernel_regularizer=my_l1_regularizer,kernel_constraint=my_positive_weights)\n",
    "])\n",
    "model.summary()"
   ]
  },
  {
   "cell_type": "code",
   "execution_count": 9,
   "id": "66c2cc2b",
   "metadata": {},
   "outputs": [
    {
     "name": "stdout",
     "output_type": "stream",
     "text": [
      "Epoch 1/30\n",
      "933/933 [==============================] - 77s 78ms/step - loss: 0.5403 - accuracy: 0.9259 - val_loss: 0.2850 - val_accuracy: 0.9756\n",
      "Epoch 2/30\n",
      "933/933 [==============================] - 70s 75ms/step - loss: 0.3179 - accuracy: 0.9749 - val_loss: 0.2230 - val_accuracy: 0.9837\n",
      "Epoch 3/30\n",
      "933/933 [==============================] - 217s 233ms/step - loss: 0.2590 - accuracy: 0.9835 - val_loss: 0.2212 - val_accuracy: 0.9813\n",
      "Epoch 4/30\n",
      "933/933 [==============================] - 70s 75ms/step - loss: 0.2296 - accuracy: 0.9880 - val_loss: 0.1926 - val_accuracy: 0.9855\n",
      "Epoch 5/30\n",
      "933/933 [==============================] - 74s 80ms/step - loss: 0.2095 - accuracy: 0.9895 - val_loss: 0.1939 - val_accuracy: 0.9855\n",
      "Epoch 6/30\n",
      "933/933 [==============================] - 70s 75ms/step - loss: 0.1946 - accuracy: 0.9925 - val_loss: 0.1771 - val_accuracy: 0.9898\n",
      "Epoch 7/30\n",
      "933/933 [==============================] - 69s 74ms/step - loss: 0.1839 - accuracy: 0.9937 - val_loss: 0.1756 - val_accuracy: 0.9871\n",
      "Epoch 8/30\n",
      "933/933 [==============================] - 71s 76ms/step - loss: 0.1740 - accuracy: 0.9952 - val_loss: 0.1662 - val_accuracy: 0.9890\n",
      "Epoch 9/30\n",
      "933/933 [==============================] - 72s 77ms/step - loss: 0.1669 - accuracy: 0.9959 - val_loss: 0.1630 - val_accuracy: 0.9890\n",
      "Epoch 10/30\n",
      "933/933 [==============================] - 69s 74ms/step - loss: 0.1600 - accuracy: 0.9969 - val_loss: 0.1556 - val_accuracy: 0.9901\n",
      "Epoch 11/30\n",
      "933/933 [==============================] - 69s 74ms/step - loss: 0.1554 - accuracy: 0.9971 - val_loss: 0.1525 - val_accuracy: 0.9925\n",
      "Epoch 12/30\n",
      "933/933 [==============================] - 70s 75ms/step - loss: 0.1505 - accuracy: 0.9977 - val_loss: 0.1513 - val_accuracy: 0.9904\n",
      "Epoch 13/30\n",
      "933/933 [==============================] - 71s 77ms/step - loss: 0.1468 - accuracy: 0.9987 - val_loss: 0.1472 - val_accuracy: 0.9922\n",
      "Epoch 14/30\n",
      "933/933 [==============================] - 72s 78ms/step - loss: 0.1421 - accuracy: 0.9988 - val_loss: 0.1441 - val_accuracy: 0.9917\n",
      "Epoch 15/30\n",
      "933/933 [==============================] - 71s 76ms/step - loss: 0.1395 - accuracy: 0.9991 - val_loss: 0.1455 - val_accuracy: 0.9914\n",
      "Epoch 16/30\n",
      "933/933 [==============================] - 73s 79ms/step - loss: 0.1383 - accuracy: 0.9987 - val_loss: 0.1442 - val_accuracy: 0.9906\n",
      "Epoch 17/30\n",
      "933/933 [==============================] - 72s 77ms/step - loss: 0.1361 - accuracy: 0.9992 - val_loss: 0.1419 - val_accuracy: 0.9912\n",
      "Epoch 18/30\n",
      "933/933 [==============================] - 72s 78ms/step - loss: 0.1336 - accuracy: 0.9994 - val_loss: 0.1387 - val_accuracy: 0.9920\n",
      "Epoch 19/30\n",
      "933/933 [==============================] - 71s 76ms/step - loss: 0.1333 - accuracy: 0.9994 - val_loss: 0.1417 - val_accuracy: 0.9906\n",
      "Epoch 20/30\n",
      "933/933 [==============================] - 70s 74ms/step - loss: 0.1303 - accuracy: 0.9995 - val_loss: 0.1378 - val_accuracy: 0.9922\n",
      "Epoch 21/30\n",
      "933/933 [==============================] - 70s 75ms/step - loss: 0.1297 - accuracy: 0.9994 - val_loss: 0.1354 - val_accuracy: 0.9928\n",
      "Epoch 22/30\n",
      "933/933 [==============================] - 69s 74ms/step - loss: 0.1278 - accuracy: 0.9996 - val_loss: 0.1355 - val_accuracy: 0.9920\n",
      "Epoch 23/30\n",
      "933/933 [==============================] - 69s 74ms/step - loss: 0.1258 - accuracy: 0.9997 - val_loss: 0.1346 - val_accuracy: 0.9917\n",
      "Epoch 24/30\n",
      "933/933 [==============================] - 69s 74ms/step - loss: 0.1266 - accuracy: 0.9996 - val_loss: 0.1351 - val_accuracy: 0.9917\n",
      "Epoch 25/30\n",
      "933/933 [==============================] - 70s 75ms/step - loss: 0.1244 - accuracy: 0.9996 - val_loss: 0.1330 - val_accuracy: 0.9906\n",
      "Epoch 26/30\n",
      "933/933 [==============================] - 143s 154ms/step - loss: 0.1229 - accuracy: 0.9997 - val_loss: 0.1325 - val_accuracy: 0.9914\n",
      "Epoch 27/30\n",
      "933/933 [==============================] - 70s 75ms/step - loss: 0.1231 - accuracy: 0.9996 - val_loss: 0.1324 - val_accuracy: 0.9909\n",
      "Epoch 28/30\n",
      "933/933 [==============================] - 69s 74ms/step - loss: 0.1226 - accuracy: 0.9994 - val_loss: 0.1323 - val_accuracy: 0.9914\n",
      "Epoch 29/30\n",
      "933/933 [==============================] - 69s 74ms/step - loss: 0.1222 - accuracy: 0.9997 - val_loss: 0.1346 - val_accuracy: 0.9917\n",
      "Epoch 30/30\n",
      "933/933 [==============================] - 71s 76ms/step - loss: 0.1210 - accuracy: 0.9997 - val_loss: 0.1320 - val_accuracy: 0.9912\n"
     ]
    }
   ],
   "source": [
    "model.compile(loss=\"sparse_categorical_crossentropy\",\n",
    "              optimizer=keras.optimizers.legacy.SGD(learning_rate=0.01, decay=1e-4, momentum=0.9, nesterov=True,clipnorm=1.0),\n",
    "              metrics=[\"accuracy\"])\n",
    "batch_size=32\n",
    "val_batch_size=64\n",
    "history = model.fit(train_set, steps_per_epoch=(len(X_train)//batch_size), epochs=30,validation_data=valid_set)"
   ]
  },
  {
   "cell_type": "code",
   "execution_count": 10,
   "id": "9eaa9888",
   "metadata": {},
   "outputs": [
    {
     "data": {
      "image/png": "[encoded data removed]",
      "text/plain": [
       "<Figure size 800x500 with 1 Axes>"
      ]
     },
     "metadata": {},
     "output_type": "display_data"
    },
    {
     "data": {
      "text/plain": [
       "<matplotlib.legend.Legend at 0x2e99b16ee50>"
      ]
     },
     "execution_count": 10,
     "metadata": {},
     "output_type": "execute_result"
    },
    {
     "data": {
      "image/png": "[encoded data removed]",
      "text/plain": [
       "<Figure size 640x480 with 1 Axes>"
      ]
     },
     "metadata": {},
     "output_type": "display_data"
    }
   ],
   "source": [
    "import pandas as pd\n",
    "import matplotlib.pyplot as plt\n",
    "\n",
    "pd.DataFrame(history.history).plot(figsize=(8, 5))\n",
    "plt.grid(True)\n",
    "plt.gca().set_ylim(0, 1)\n",
    "plt.show()\n",
    "plt.plot(history.history['loss'], 'blue')\n",
    "plt.plot(history.history['val_loss'], 'orange')\n",
    "plt.title('Model loss for the NN')\n",
    "plt.ylabel('loss')\n",
    "\n",
    "plt.xlabel('epoch')\n",
    "plt.legend(['train', 'validate'], loc='upper left')"
   ]
  },
  {
   "cell_type": "code",
   "execution_count": 11,
   "id": "a1c5eba3",
   "metadata": {},
   "outputs": [
    {
     "name": "stdout",
     "output_type": "stream",
     "text": [
      "263/263 [==============================] - 8s 27ms/step - loss: 0.1227 - accuracy: 0.9930\n"
     ]
    },
    {
     "data": {
      "text/plain": [
       "[0.1226513534784317, 0.992976188659668]"
      ]
     },
     "execution_count": 11,
     "metadata": {},
     "output_type": "execute_result"
    }
   ],
   "source": [
    "score = model.evaluate(X_tester, y_tester)\n",
    "score"
   ]
  },
  {
   "cell_type": "code",
   "execution_count": 12,
   "id": "a96df8fe",
   "metadata": {},
   "outputs": [
    {
     "name": "stdout",
     "output_type": "stream",
     "text": [
      "875/875 [==============================] - 18s 20ms/step\n"
     ]
    }
   ],
   "source": [
    "y_pred = np.argmax(model.predict(X_test),axis=1)\n",
    "id_values=pd.read_csv('sample_submission.csv')['ImageId']"
   ]
  },
  {
   "cell_type": "code",
   "execution_count": 13,
   "id": "e43470aa",
   "metadata": {},
   "outputs": [],
   "source": [
    "pd.DataFrame({'ImageId':np.array(id_values.values),'Label':np.array(y_pred)}).to_csv('submission.csv',index=False)"
   ]
  },
  {
   "cell_type": "code",
   "execution_count": null,
   "id": "9a61b2cb",
   "metadata": {},
   "outputs": [],
   "source": []
  }
 ],
 "metadata": {
  "kernelspec": {
   "display_name": "tf-directml",
   "language": "python",
   "name": "tf-directml"
  },
  "language_info": {
   "codemirror_mode": {
    "name": "ipython",
    "version": 3
   },
   "file_extension": ".py",
   "mimetype": "text/x-python",
   "name": "python",
   "nbconvert_exporter": "python",
   "pygments_lexer": "ipython3",
   "version": "3.8.18"
  }
 },
 "nbformat": 4,
 "nbformat_minor": 5
}
