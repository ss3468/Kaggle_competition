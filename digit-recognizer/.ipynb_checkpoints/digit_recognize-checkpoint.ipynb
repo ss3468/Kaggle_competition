{
 "cells": [
  {
   "cell_type": "code",
   "execution_count": 1,
   "id": "a2302153",
   "metadata": {},
   "outputs": [],
   "source": [
    "# Python ≥3.5 is required\n",
    "import sys\n",
    "assert sys.version_info >= (3, 5)\n",
    "\n",
    "# Scikit-Learn ≥0.20 is required\n",
    "import sklearn\n",
    "assert sklearn.__version__ >= \"0.20\"\n",
    "from sklearn.model_selection import train_test_split\n",
    "\n",
    "try:\n",
    "    # %tensorflow_version only exists in Colab.\n",
    "    %tensorflow_version 2.x\n",
    "except Exception:\n",
    "    pass\n",
    "\n",
    "# TensorFlow ≥2.0 is required\n",
    "import tensorflow as tf\n",
    "from tensorflow import keras\n",
    "assert tf.__version__ >= \"2.0\"\n",
    "\n",
    "%load_ext tensorboard\n",
    "\n",
    "# Common imports\n",
    "import pandas as pd\n",
    "import numpy as np\n",
    "import os\n",
    "\n",
    "# to make this notebook's output stable across runs\n",
    "np.random.seed(42)\n",
    "\n",
    "# To plot pretty figures\n",
    "%matplotlib inline\n",
    "import matplotlib as mpl\n",
    "import matplotlib.pyplot as plt\n",
    "mpl.rc('axes', labelsize=14)\n",
    "mpl.rc('xtick', labelsize=12)\n",
    "mpl.rc('ytick', labelsize=12)"
   ]
  },
  {
   "cell_type": "code",
   "execution_count": 2,
   "id": "b1a26f47",
   "metadata": {},
   "outputs": [],
   "source": [
    "data_train=pd.read_csv('train.csv')\n",
    "data_test=pd.read_csv('test.csv')"
   ]
  },
  {
   "cell_type": "code",
   "execution_count": 3,
   "id": "bd0ecded",
   "metadata": {},
   "outputs": [
    {
     "data": {
      "text/plain": [
       "(33600, 784)"
      ]
     },
     "execution_count": 3,
     "metadata": {},
     "output_type": "execute_result"
    }
   ],
   "source": [
    "features=data_train.columns[data_train.columns!='label']\n",
    "X_train, X_test,y_train, y_test = train_test_split((data_train[features]/ 255.0),data_train[['label']],random_state=104,test_size=0.2)\n",
    "X_train.shape"
   ]
  },
  {
   "cell_type": "code",
   "execution_count": 4,
   "id": "9beec677",
   "metadata": {},
   "outputs": [
    {
     "name": "stdout",
     "output_type": "stream",
     "text": [
      "Model: \"sequential\"\n",
      "_________________________________________________________________\n",
      " Layer (type)                Output Shape              Param #   \n",
      "=================================================================\n",
      " conv2d (Conv2D)             (None, 28, 28, 64)        3200      \n",
      "                                                                 \n",
      " max_pooling2d (MaxPooling2D  (None, 14, 14, 64)       0         \n",
      " )                                                               \n",
      "                                                                 \n",
      " conv2d_1 (Conv2D)           (None, 14, 14, 128)       73856     \n",
      "                                                                 \n",
      " conv2d_2 (Conv2D)           (None, 14, 14, 128)       147584    \n",
      "                                                                 \n",
      " max_pooling2d_1 (MaxPooling  (None, 7, 7, 128)        0         \n",
      " 2D)                                                             \n",
      "                                                                 \n",
      " conv2d_3 (Conv2D)           (None, 7, 7, 256)         295168    \n",
      "                                                                 \n",
      " conv2d_4 (Conv2D)           (None, 7, 7, 256)         590080    \n",
      "                                                                 \n",
      " max_pooling2d_2 (MaxPooling  (None, 3, 3, 256)        0         \n",
      " 2D)                                                             \n",
      "                                                                 \n",
      " flatten (Flatten)           (None, 2304)              0         \n",
      "                                                                 \n",
      " dense (Dense)               (None, 128)               295040    \n",
      "                                                                 \n",
      " dropout (Dropout)           (None, 128)               0         \n",
      "                                                                 \n",
      " dense_1 (Dense)             (None, 64)                8256      \n",
      "                                                                 \n",
      " dropout_1 (Dropout)         (None, 64)                0         \n",
      "                                                                 \n",
      " dense_2 (Dense)             (None, 10)                650       \n",
      "                                                                 \n",
      "=================================================================\n",
      "Total params: 1,413,834\n",
      "Trainable params: 1,413,834\n",
      "Non-trainable params: 0\n",
      "_________________________________________________________________\n"
     ]
    }
   ],
   "source": [
    "model = keras.models.Sequential([\n",
    "    keras.layers.Conv2D(64, 7, activation='relu', padding='same',\n",
    "                        input_shape=[28, 28, 1]),\n",
    "    keras.layers.MaxPooling2D(2),\n",
    "    keras.layers.Conv2D(128, 3, activation='relu', padding='same'),\n",
    "    keras.layers.Conv2D(128, 3, activation='relu', padding='same'),\n",
    "    keras.layers.MaxPooling2D(2),\n",
    "    keras.layers.Conv2D(256, 3, activation='relu', padding='same'),\n",
    "    keras.layers.Conv2D(256, 3, activation='relu', padding='same'),\n",
    "    keras.layers.MaxPooling2D(2),\n",
    "    keras.layers.Flatten(),\n",
    "    keras.layers.Dense(128,activation='relu', kernel_initializer='he_normal'),\n",
    "    keras.layers.Dropout(0.5),\n",
    "    keras.layers.Dense(64, activation='relu',kernel_initializer='he_normal'),\n",
    "    keras.layers.Dropout(0.5),\n",
    "    keras.layers.Dense(10, activation='softmax')\n",
    "])\n",
    "model.summary()"
   ]
  },
  {
   "cell_type": "code",
   "execution_count": 5,
   "id": "66c2cc2b",
   "metadata": {},
   "outputs": [
    {
     "name": "stdout",
     "output_type": "stream",
     "text": [
      "Epoch 1/10\n",
      "840/840 [==============================] - 141s 167ms/step - loss: 1.0018 - accuracy: 0.6587 - val_loss: 0.1680 - val_accuracy: 0.9580\n",
      "Epoch 2/10\n",
      "840/840 [==============================] - 141s 168ms/step - loss: 0.3604 - accuracy: 0.8901 - val_loss: 0.0993 - val_accuracy: 0.9737\n",
      "Epoch 3/10\n",
      "840/840 [==============================] - 136s 162ms/step - loss: 0.2382 - accuracy: 0.9322 - val_loss: 0.0723 - val_accuracy: 0.9805\n",
      "Epoch 4/10\n",
      "840/840 [==============================] - 145s 172ms/step - loss: 0.1825 - accuracy: 0.9478 - val_loss: 0.0798 - val_accuracy: 0.9799\n",
      "Epoch 5/10\n",
      "840/840 [==============================] - 139s 165ms/step - loss: 0.1486 - accuracy: 0.9602 - val_loss: 0.0631 - val_accuracy: 0.9839\n",
      "Epoch 6/10\n",
      "840/840 [==============================] - 138s 164ms/step - loss: 0.1259 - accuracy: 0.9658 - val_loss: 0.0586 - val_accuracy: 0.9856\n",
      "Epoch 7/10\n",
      "840/840 [==============================] - 143s 171ms/step - loss: 0.1048 - accuracy: 0.9724 - val_loss: 0.0525 - val_accuracy: 0.9868\n",
      "Epoch 8/10\n",
      "840/840 [==============================] - 141s 167ms/step - loss: 0.0940 - accuracy: 0.9756 - val_loss: 0.0591 - val_accuracy: 0.9869\n",
      "Epoch 9/10\n",
      "840/840 [==============================] - 135s 160ms/step - loss: 0.0745 - accuracy: 0.9800 - val_loss: 0.0518 - val_accuracy: 0.9884\n",
      "Epoch 10/10\n",
      "840/840 [==============================] - 150s 179ms/step - loss: 0.0711 - accuracy: 0.9823 - val_loss: 0.0500 - val_accuracy: 0.9874\n"
     ]
    }
   ],
   "source": [
    "model.compile(optimizer=keras.optimizers.Adam(learning_rate=0.0001), loss='sparse_categorical_crossentropy', metrics=['accuracy'])\n",
    "history = model.fit(X_train.values.reshape(-1,28,28,1), y_train, validation_split=0.2, verbose=True, epochs=10)"
   ]
  },
  {
   "cell_type": "code",
   "execution_count": 6,
   "id": "9eaa9888",
   "metadata": {},
   "outputs": [
    {
     "data": {
      "image/png": "[encoded data removed]",
      "text/plain": [
       "<Figure size 800x500 with 1 Axes>"
      ]
     },
     "metadata": {},
     "output_type": "display_data"
    }
   ],
   "source": [
    "import pandas as pd\n",
    "import matplotlib.pyplot as plt\n",
    "\n",
    "colors=[#\"blue\", \"gray\", #  loss      accuracy\n",
    "        \"red\", \"black\"] #   val_loss  val_accuracy\n",
    "                               #df[ [\"val_loss\",\"val_accuracy\"] ].plot(figsize=(8,5), color=colors)\n",
    "pd.DataFrame( history.history )[[\"val_loss\",\"val_accuracy\"]].plot(figsize=(8,5), color=colors)\n",
    "\n",
    "# the validation error is computed at the end of each epoch, while the training error is\n",
    "# computed using a running mean during each epoch. So the training curve should be shifted by\n",
    "# half an epoch to the left.\n",
    "#shift(-0.5)\n",
    "         #1D array                #list\n",
    "plt.plot(np.arange(-0.5,9,1), history.history[\"loss\"], c=\"blue\", label=\"loss\")    #must be put after previous code for plotting Dataframe\n",
    "plt.plot(np.arange(-0.5,9,1), history.history[\"accuracy\"], c=\"gray\", label=\"accuracy\")#must be put after previous code for plotting Dataframe\n",
    "plt.legend()\n",
    "plt.grid(True)\n",
    "plt.gca().set_ylim(0,1) # set the vertical range to [0-1]\n",
    "plt.show()"
   ]
  },
  {
   "cell_type": "code",
   "execution_count": 7,
   "id": "a1c5eba3",
   "metadata": {},
   "outputs": [
    {
     "name": "stdout",
     "output_type": "stream",
     "text": [
      "263/263 [==============================] - 10s 36ms/step - loss: 0.0446 - accuracy: 0.9889\n"
     ]
    },
    {
     "data": {
      "text/plain": [
       "[0.04455426335334778, 0.9889285564422607]"
      ]
     },
     "execution_count": 7,
     "metadata": {},
     "output_type": "execute_result"
    }
   ],
   "source": [
    "score = model.evaluate(X_test.values.reshape(-1,28,28,1), y_test)\n",
    "score"
   ]
  },
  {
   "cell_type": "code",
   "execution_count": 8,
   "id": "a96df8fe",
   "metadata": {},
   "outputs": [
    {
     "name": "stdout",
     "output_type": "stream",
     "text": [
      "875/875 [==============================] - 28s 32ms/step\n"
     ]
    }
   ],
   "source": [
    "y_pred = np.argmax(model.predict((data_test[features]/ 255.0).values.reshape(-1,28,28,1)),axis=1)\n",
    "id_values=pd.read_csv('sample_submission.csv')['ImageId']"
   ]
  },
  {
   "cell_type": "code",
   "execution_count": 9,
   "id": "e43470aa",
   "metadata": {},
   "outputs": [],
   "source": [
    "pd.DataFrame({'ImageId':np.array(id_values.values),'Label':np.array(y_pred)}).to_csv('submission.csv',index=False)"
   ]
  },
  {
   "cell_type": "code",
   "execution_count": null,
   "id": "9a61b2cb",
   "metadata": {},
   "outputs": [],
   "source": []
  }
 ],
 "metadata": {
  "kernelspec": {
   "display_name": "Python 3 (ipykernel)",
   "language": "python",
   "name": "python3"
  },
  "language_info": {
   "codemirror_mode": {
    "name": "ipython",
    "version": 3
   },
   "file_extension": ".py",
   "mimetype": "text/x-python",
   "name": "python",
   "nbconvert_exporter": "python",
   "pygments_lexer": "ipython3",
   "version": "3.10.9"
  }
 },
 "nbformat": 4,
 "nbformat_minor": 5
}
