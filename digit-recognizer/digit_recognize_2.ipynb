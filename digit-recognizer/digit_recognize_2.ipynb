{
 "cells": [
  {
   "cell_type": "code",
   "execution_count": 1,
   "id": "a2302153",
   "metadata": {},
   "outputs": [],
   "source": [
    "# Python imports to be incorporated\n",
    "# Python ≥3.5 is required\n",
    "# Anaconda prompt\n",
    "# conda activate tfradeon\n",
    "import sys\n",
    "assert sys.version_info >= (3, 5)\n",
    "\n",
    "# Scikit-Learn ≥0.20 is required\n",
    "import sklearn\n",
    "assert sklearn.__version__ >= \"0.20\"\n",
    "import tensorflow as tf\n",
    "from tensorflow import keras\n",
    "try:\n",
    "    if not tf.config.list_physical_devices('GPU'):\n",
    "        assert tf.__version__ >= \"2.0\"\n",
    "except:\n",
    "    if not tf.test.is_gpu_available():\n",
    "        assert tf.__version__ >= \"2.0\"\n",
    "\n",
    "%load_ext tensorboard\n",
    "\n",
    "# Common imports\n",
    "import pandas as pd\n",
    "import numpy as np\n",
    "import os\n",
    "# to make this notebook's output stable across runs\n",
    "np.random.seed(42)\n",
    "    \n",
    "\n",
    "# To plot pretty figures\n",
    "%matplotlib inline\n",
    "import matplotlib as mpl\n",
    "import matplotlib.pyplot as plt\n",
    "mpl.rc('axes', labelsize=14)\n",
    "mpl.rc('xtick', labelsize=12)\n",
    "mpl.rc('ytick', labelsize=12)\n",
    "from sklearn.model_selection import train_test_split\n",
    "from sklearn.preprocessing import StandardScaler"
   ]
  },
  {
   "cell_type": "code",
   "execution_count": 2,
   "id": "b1a26f47",
   "metadata": {},
   "outputs": [],
   "source": [
    "data_train=pd.read_csv('train.csv')\n",
    "data_test=pd.read_csv('test.csv')"
   ]
  },
  {
   "cell_type": "code",
   "execution_count": 3,
   "id": "bd0ecded",
   "metadata": {},
   "outputs": [
    {
     "data": {
      "text/plain": [
       "(29866, 784)"
      ]
     },
     "execution_count": 3,
     "metadata": {},
     "output_type": "execute_result"
    }
   ],
   "source": [
    "features=data_train.columns[data_train.columns!='label']\n",
    "X_train, X_tester, y_train, y_tester = train_test_split((data_train[features]/ 255.0), data_train[['label']],test_size=0.2,random_state=42)\n",
    "X_train, X_valid, y_train, y_valid = train_test_split(X_train, y_train,test_size=(1/9),random_state=42)\n",
    "X_test=(data_test/255.0)\n",
    "X_train.shape"
   ]
  },
  {
   "cell_type": "code",
   "execution_count": 4,
   "id": "9b06a6df",
   "metadata": {},
   "outputs": [],
   "source": [
    "def save_to_multiple_csv_files(data, name_prefix, header=None, n_parts=10):\n",
    "    digit_dir = os.path.join(\"datasets\", \"digits\")\n",
    "    os.makedirs(digit_dir, exist_ok=True)\n",
    "    path_format = os.path.join(digit_dir, \"my_{}_{:02d}.csv\")\n",
    "\n",
    "    filepaths = []\n",
    "    m = len(data)\n",
    "    for file_idx, row_indices in enumerate(np.array_split(np.arange(m), n_parts)):\n",
    "        part_csv = path_format.format(name_prefix, file_idx)\n",
    "        filepaths.append(part_csv)\n",
    "        with open(part_csv, \"wt\", encoding=\"utf-8\") as f:\n",
    "            if header is not None:\n",
    "                f.write(header)\n",
    "                f.write(\"\\n\")\n",
    "            for row_idx in row_indices:\n",
    "                f.write(\",\".join([repr(col) for col in data[row_idx]]))\n",
    "                f.write(\"\\n\")\n",
    "    return filepaths\n",
    "n_inputs =X_train.shape[-1]\n",
    "#@tf.function\n",
    "def preprocess_ne(line):\n",
    "    defs = [0.] * n_inputs + [tf.constant([], dtype=tf.float32)]\n",
    "    fields = tf.io.decode_csv(line, record_defaults=defs)\n",
    "    x = tf.stack(fields[:-1])\n",
    "    y = tf.stack(fields[-1:])\n",
    "    return (x) / 255.0, y\n",
    "def preprocess_og(line):\n",
    "    defs = [0.] * n_inputs + [tf.constant([], dtype=tf.float32)]\n",
    "    fields = tf.io.decode_csv(line, record_defaults=defs)\n",
    "    x = tf.stack(fields[:-1])\n",
    "    y = tf.stack(fields[-1:])\n",
    "    return (x), y\n",
    "def csv_reader_dataset_og(filepaths, repeat=1, n_readers=5,  # number of files or filepaths\n",
    "                       n_read_threads=None, shuffle_buffer_size=10000,\n",
    "                       n_parse_threads=5, batch_size=32):\n",
    "    \n",
    "    # pick multiple files randomly and read them simultaneously, interleaving their records\n",
    "    # list_files() function returns a dataset that \"shuffles\" the file paths, then repeat 'repeat' times\n",
    "    dataset = tf.data.Dataset.list_files(filepaths).repeat(repeat)\n",
    "    \n",
    "    \n",
    "    \n",
    "    # interleave() method to read from cycle_length(=n_readers) files at a time and\n",
    "    # \"interleave their lines\" (called cycle) : reading one line at a time from each until all datasets are out of items\n",
    "    # Then it will get the next five file paths from the 'dataset' and interleave them the same way,\n",
    "    # and so on until it runs out of file paths\n",
    "    dataset = dataset.interleave(\n",
    "        lambda filepath: tf.data.TextLineDataset(filepath).skip(1), # skip the header row via map_func\n",
    "        cycle_length=n_readers, # 'interleave' pull cycle_length(=n_readers) file paths(1 by 1) from the 'dataset'\n",
    "        num_parallel_calls=n_read_threads) \n",
    "    #and for each one(filepath) it will call the function you gave it(lambda) to create a new dataset(TextLineDataset)\n",
    "    #the interleave dataset including cycle_length(=n_readers) datasets\n",
    "    \n",
    "    \n",
    "    # Then on top of that you can add a shuffling buffer using the shuffle() method\n",
    "    dataset = dataset.shuffle(shuffle_buffer_size)\n",
    "    dataset = dataset.map(preprocess_og, num_parallel_calls=n_parse_threads)  # call preprocess()\n",
    "    dataset = dataset.batch(batch_size) #group the items of the previous dataset in batches of 'batch_size' items\n",
    "    \n",
    "    \n",
    "    # See the notes below\n",
    "    return dataset.prefetch(1)\n",
    "def csv_reader_dataset(filepaths, repeat=1, n_readers=5,  # number of files or filepaths\n",
    "                       n_read_threads=None, shuffle_buffer_size=10000,\n",
    "                       n_parse_threads=5, batch_size=32):\n",
    "    \n",
    "    # pick multiple files randomly and read them simultaneously, interleaving their records\n",
    "    # list_files() function returns a dataset that \"shuffles\" the file paths, then repeat 'repeat' times\n",
    "    dataset = tf.data.Dataset.list_files(filepaths).repeat(repeat)\n",
    "    \n",
    "    \n",
    "    \n",
    "    # interleave() method to read from cycle_length(=n_readers) files at a time and\n",
    "    # \"interleave their lines\" (called cycle) : reading one line at a time from each until all datasets are out of items\n",
    "    # Then it will get the next five file paths from the 'dataset' and interleave them the same way,\n",
    "    # and so on until it runs out of file paths\n",
    "    dataset = dataset.interleave(\n",
    "        lambda filepath: tf.data.TextLineDataset(filepath).skip(1), # skip the header row via map_func\n",
    "        cycle_length=n_readers, # 'interleave' pull cycle_length(=n_readers) file paths(1 by 1) from the 'dataset'\n",
    "        num_parallel_calls=n_read_threads) \n",
    "    #and for each one(filepath) it will call the function you gave it(lambda) to create a new dataset(TextLineDataset)\n",
    "    #the interleave dataset including cycle_length(=n_readers) datasets\n",
    "    \n",
    "    \n",
    "    # Then on top of that you can add a shuffling buffer using the shuffle() method\n",
    "    dataset = dataset.shuffle(shuffle_buffer_size)\n",
    "    dataset = dataset.map(preprocess_ne, num_parallel_calls=n_parse_threads)  # call preprocess()\n",
    "    dataset = dataset.batch(batch_size) #group the items of the previous dataset in batches of 'batch_size' items\n",
    "    \n",
    "    \n",
    "    # See the notes below\n",
    "    return dataset.prefetch(1)"
   ]
  },
  {
   "cell_type": "code",
   "execution_count": 5,
   "id": "b3c7a95a",
   "metadata": {},
   "outputs": [],
   "source": [
    "train_data = np.c_[X_train, y_train]\n",
    "valid_data = np.c_[X_valid, y_valid]\n",
    "test_data=np.c_[X_tester, y_tester]\n",
    "header_cols = data_train.columns\n",
    "header = \",\".join(header_cols)\n",
    "\n",
    "train_filepaths = save_to_multiple_csv_files(train_data, \"train\", header, n_parts=20)\n",
    "valid_filepaths = save_to_multiple_csv_files(valid_data, \"valid\", header, n_parts=10)\n",
    "test_filepaths = save_to_multiple_csv_files(test_data, \"test\", header, n_parts=10)\n",
    "try:\n",
    "    if not tf.config.list_physical_devices('GPU'):\n",
    "        tf.random.set_seed(42)\n",
    "    else:\n",
    "        tf.random.set_random_seed(42)\n",
    "except:\n",
    "    if not tf.test.is_gpu_available():\n",
    "        tf.random.set_seed(42)\n",
    "    else:\n",
    "        tf.random.set_random_seed(42)\n",
    "train_set = csv_reader_dataset_og(train_filepaths, repeat=None)\n",
    "valid_set = csv_reader_dataset_og(valid_filepaths)\n",
    "test_set = csv_reader_dataset_og(test_filepaths)"
   ]
  },
  {
   "cell_type": "code",
   "execution_count": 6,
   "id": "e93b6946",
   "metadata": {},
   "outputs": [],
   "source": [
    "class Standardization(keras.layers.Layer):\n",
    "    def adapt(self, data_sample):\n",
    "        self.means_ = np.mean(data_sample, axis=0)\n",
    "        self.stds_ = np.std(data_sample, axis=0)\n",
    "    def call(self, inputs):\n",
    "        return (inputs - self.means_) / (self.stds_ + keras.backend.epsilon())\n",
    "std_layer = Standardization()\n",
    "std_layer.adapt(X_train)\n",
    "def my_softplus(z): # return value is just tf.nn.softplus(z)\n",
    "    return tf.math.log(tf.exp(z) + 1.0)\n",
    "def my_l1_regularizer(weights):\n",
    "    return tf.reduce_sum(tf.abs(0.01 * weights))\n",
    "def my_glorot_initializer(shape, dtype=tf.float32):\n",
    "    stddev = tf.sqrt(2. / (shape[0] + shape[1]))\n",
    "    return tf.random.normal(shape, stddev=stddev, dtype=dtype)\n",
    "def my_positive_weights(weights): # return value is just tf.nn.relu(weights)\n",
    "    return tf.where(weights < 0., tf.zeros_like(weights), weights)"
   ]
  },
  {
   "cell_type": "code",
   "execution_count": 7,
   "id": "9beec677",
   "metadata": {},
   "outputs": [
    {
     "name": "stdout",
     "output_type": "stream",
     "text": [
      "Model: \"sequential\"\n",
      "_________________________________________________________________\n",
      " Layer (type)                Output Shape              Param #   \n",
      "=================================================================\n",
      " lambda (Lambda)             (None, 784)               0         \n",
      "                                                                 \n",
      " reshape (Reshape)           (None, 28, 28, 1)         0         \n",
      "                                                                 \n",
      " conv2d (Conv2D)             (None, 28, 28, 64)        3200      \n",
      "                                                                 \n",
      " batch_normalization (BatchN  (None, 28, 28, 64)       256       \n",
      " ormalization)                                                   \n",
      "                                                                 \n",
      " max_pooling2d (MaxPooling2D  (None, 14, 14, 64)       0         \n",
      " )                                                               \n",
      "                                                                 \n",
      " conv2d_1 (Conv2D)           (None, 14, 14, 128)       73856     \n",
      "                                                                 \n",
      " batch_normalization_1 (Batc  (None, 14, 14, 128)      512       \n",
      " hNormalization)                                                 \n",
      "                                                                 \n",
      " conv2d_2 (Conv2D)           (None, 14, 14, 128)       147584    \n",
      "                                                                 \n",
      " batch_normalization_2 (Batc  (None, 14, 14, 128)      512       \n",
      " hNormalization)                                                 \n",
      "                                                                 \n",
      " max_pooling2d_1 (MaxPooling  (None, 7, 7, 128)        0         \n",
      " 2D)                                                             \n",
      "                                                                 \n",
      " conv2d_3 (Conv2D)           (None, 7, 7, 256)         295168    \n",
      "                                                                 \n",
      " batch_normalization_3 (Batc  (None, 7, 7, 256)        1024      \n",
      " hNormalization)                                                 \n",
      "                                                                 \n",
      " conv2d_4 (Conv2D)           (None, 7, 7, 256)         590080    \n",
      "                                                                 \n",
      " batch_normalization_4 (Batc  (None, 7, 7, 256)        1024      \n",
      " hNormalization)                                                 \n",
      "                                                                 \n",
      " max_pooling2d_2 (MaxPooling  (None, 3, 3, 256)        0         \n",
      " 2D)                                                             \n",
      "                                                                 \n",
      " flatten (Flatten)           (None, 2304)              0         \n",
      "                                                                 \n",
      " dense (Dense)               (None, 1024)              2359296   \n",
      "                                                                 \n",
      " batch_normalization_5 (Batc  (None, 1024)             4096      \n",
      " hNormalization)                                                 \n",
      "                                                                 \n",
      " dropout (Dropout)           (None, 1024)              0         \n",
      "                                                                 \n",
      " dense_1 (Dense)             (None, 522)               534528    \n",
      "                                                                 \n",
      " batch_normalization_6 (Batc  (None, 522)              2088      \n",
      " hNormalization)                                                 \n",
      "                                                                 \n",
      " dropout_1 (Dropout)         (None, 522)               0         \n",
      "                                                                 \n",
      " dense_2 (Dense)             (None, 10)                5230      \n",
      "                                                                 \n",
      "=================================================================\n",
      "Total params: 4,018,454\n",
      "Trainable params: 4,013,698\n",
      "Non-trainable params: 4,756\n",
      "_________________________________________________________________\n"
     ]
    }
   ],
   "source": [
    "try:\n",
    "    if not tf.config.list_physical_devices('GPU'):\n",
    "        tf.random.set_seed(42)\n",
    "    else:\n",
    "        tf.random.set_random_seed(42)\n",
    "except:\n",
    "    if not tf.test.is_gpu_available():\n",
    "        tf.random.set_seed(42)\n",
    "    else:\n",
    "        tf.random.set_random_seed(42)\n",
    "model = keras.models.Sequential([\n",
    "    keras.layers.Lambda(std_layer,input_shape=X_train.shape[1:]),\n",
    "    keras.layers.Reshape((28, 28,1)),\n",
    "    keras.layers.Conv2D(64, 7, activation='selu',padding='same', kernel_initializer=\"lecun_normal\"),\n",
    "    keras.layers.BatchNormalization(),\n",
    "    keras.layers.MaxPooling2D(2),\n",
    "    keras.layers.Conv2D(128, 3, activation='selu',padding='same', kernel_initializer=\"lecun_normal\"),\n",
    "    keras.layers.BatchNormalization(),\n",
    "    keras.layers.Conv2D(128, 3, activation='selu',padding='same', kernel_initializer=\"lecun_normal\"),\n",
    "    keras.layers.BatchNormalization(),\n",
    "    keras.layers.MaxPooling2D(2),\n",
    "    keras.layers.Conv2D(256, 3, activation='selu',padding='same', kernel_initializer=\"lecun_normal\"),\n",
    "    keras.layers.BatchNormalization(),\n",
    "    keras.layers.Conv2D(256, 3, activation='selu',padding='same', kernel_initializer=\"lecun_normal\"),\n",
    "    keras.layers.BatchNormalization(),\n",
    "    keras.layers.MaxPooling2D(2),\n",
    "    keras.layers.Flatten(),\n",
    "    keras.layers.Dense(1024, activation=\"tanh\",kernel_initializer=\"glorot_normal\",use_bias=False),\n",
    "    keras.layers.BatchNormalization(),\n",
    "    keras.layers.Dropout(0.5),\n",
    "    keras.layers.Dense(522,activation=my_softplus,kernel_initializer=my_glorot_initializer,use_bias=False),\n",
    "    keras.layers.BatchNormalization(),\n",
    "    keras.layers.Dropout(0.5),\n",
    "    keras.layers.Dense(10, activation=\"softmax\",kernel_regularizer=my_l1_regularizer,kernel_constraint=my_positive_weights)\n",
    "])\n",
    "model.summary()"
   ]
  },
  {
   "cell_type": "code",
   "execution_count": 8,
   "id": "66c2cc2b",
   "metadata": {},
   "outputs": [
    {
     "name": "stdout",
     "output_type": "stream",
     "text": [
      "Epoch 1/30\n",
      "933/933 [==============================] - 159s 169ms/step - loss: 0.6566 - accuracy: 0.9324 - val_loss: 0.3151 - val_accuracy: 0.9788\n",
      "Epoch 2/30\n",
      "933/933 [==============================] - 156s 168ms/step - loss: 0.3568 - accuracy: 0.9735 - val_loss: 0.2760 - val_accuracy: 0.9861\n",
      "Epoch 3/30\n",
      "933/933 [==============================] - 158s 170ms/step - loss: 0.3086 - accuracy: 0.9835 - val_loss: 0.2586 - val_accuracy: 0.9877\n",
      "Epoch 4/30\n",
      "933/933 [==============================] - 165s 177ms/step - loss: 0.2903 - accuracy: 0.9866 - val_loss: 0.2480 - val_accuracy: 0.9869\n",
      "Epoch 5/30\n",
      "933/933 [==============================] - 163s 174ms/step - loss: 0.2779 - accuracy: 0.9882 - val_loss: 0.2425 - val_accuracy: 0.9877\n",
      "Epoch 6/30\n",
      "933/933 [==============================] - 158s 169ms/step - loss: 0.2622 - accuracy: 0.9906 - val_loss: 0.2300 - val_accuracy: 0.9890\n",
      "Epoch 7/30\n",
      "933/933 [==============================] - 157s 169ms/step - loss: 0.2542 - accuracy: 0.9916 - val_loss: 0.2232 - val_accuracy: 0.9912\n",
      "Epoch 8/30\n",
      "933/933 [==============================] - 159s 170ms/step - loss: 0.2449 - accuracy: 0.9938 - val_loss: 0.2172 - val_accuracy: 0.9920\n",
      "Epoch 9/30\n",
      "933/933 [==============================] - 157s 168ms/step - loss: 0.2366 - accuracy: 0.9942 - val_loss: 0.2099 - val_accuracy: 0.9896\n",
      "Epoch 10/30\n",
      "933/933 [==============================] - 183s 196ms/step - loss: 0.2307 - accuracy: 0.9952 - val_loss: 0.2116 - val_accuracy: 0.9912\n",
      "Epoch 11/30\n",
      "933/933 [==============================] - 162s 174ms/step - loss: 0.2235 - accuracy: 0.9961 - val_loss: 0.2066 - val_accuracy: 0.9920\n",
      "Epoch 12/30\n",
      "933/933 [==============================] - 159s 171ms/step - loss: 0.2192 - accuracy: 0.9963 - val_loss: 0.2046 - val_accuracy: 0.9914\n",
      "Epoch 13/30\n",
      "933/933 [==============================] - 153s 164ms/step - loss: 0.2148 - accuracy: 0.9974 - val_loss: 0.2046 - val_accuracy: 0.9920\n",
      "Epoch 14/30\n",
      "933/933 [==============================] - 157s 169ms/step - loss: 0.2105 - accuracy: 0.9971 - val_loss: 0.1979 - val_accuracy: 0.9906\n",
      "Epoch 15/30\n",
      "933/933 [==============================] - 157s 168ms/step - loss: 0.2057 - accuracy: 0.9979 - val_loss: 0.1986 - val_accuracy: 0.9920\n",
      "Epoch 16/30\n",
      "933/933 [==============================] - 155s 166ms/step - loss: 0.2044 - accuracy: 0.9977 - val_loss: 0.1949 - val_accuracy: 0.9925\n",
      "Epoch 17/30\n",
      "933/933 [==============================] - 154s 165ms/step - loss: 0.2034 - accuracy: 0.9976 - val_loss: 0.1932 - val_accuracy: 0.9920\n",
      "Epoch 18/30\n",
      "933/933 [==============================] - 155s 166ms/step - loss: 0.2007 - accuracy: 0.9978 - val_loss: 0.1888 - val_accuracy: 0.9928\n",
      "Epoch 19/30\n",
      "933/933 [==============================] - 158s 169ms/step - loss: 0.1972 - accuracy: 0.9983 - val_loss: 0.1897 - val_accuracy: 0.9922\n",
      "Epoch 20/30\n",
      "933/933 [==============================] - 153s 164ms/step - loss: 0.1954 - accuracy: 0.9986 - val_loss: 0.1899 - val_accuracy: 0.9933\n",
      "Epoch 21/30\n",
      "933/933 [==============================] - 156s 167ms/step - loss: 0.1933 - accuracy: 0.9988 - val_loss: 0.1900 - val_accuracy: 0.9909\n",
      "Epoch 22/30\n",
      "933/933 [==============================] - 155s 166ms/step - loss: 0.1919 - accuracy: 0.9989 - val_loss: 0.1868 - val_accuracy: 0.9920\n",
      "Epoch 23/30\n",
      "933/933 [==============================] - 894s 959ms/step - loss: 0.1898 - accuracy: 0.9986 - val_loss: 0.1858 - val_accuracy: 0.9914\n",
      "Epoch 24/30\n",
      "933/933 [==============================] - 155s 166ms/step - loss: 0.1880 - accuracy: 0.9986 - val_loss: 0.1825 - val_accuracy: 0.9928\n",
      "Epoch 25/30\n",
      "933/933 [==============================] - 162s 174ms/step - loss: 0.1867 - accuracy: 0.9987 - val_loss: 0.1823 - val_accuracy: 0.9914\n",
      "Epoch 26/30\n",
      "933/933 [==============================] - 162s 174ms/step - loss: 0.1841 - accuracy: 0.9991 - val_loss: 0.1825 - val_accuracy: 0.9922\n",
      "Epoch 27/30\n",
      "933/933 [==============================] - 162s 173ms/step - loss: 0.1854 - accuracy: 0.9991 - val_loss: 0.1818 - val_accuracy: 0.9928\n",
      "Epoch 28/30\n",
      "933/933 [==============================] - 159s 171ms/step - loss: 0.1847 - accuracy: 0.9989 - val_loss: 0.1794 - val_accuracy: 0.9925\n",
      "Epoch 29/30\n",
      "933/933 [==============================] - 160s 171ms/step - loss: 0.1825 - accuracy: 0.9992 - val_loss: 0.1785 - val_accuracy: 0.9922\n",
      "Epoch 30/30\n",
      "933/933 [==============================] - 162s 174ms/step - loss: 0.1807 - accuracy: 0.9993 - val_loss: 0.1786 - val_accuracy: 0.9925\n"
     ]
    }
   ],
   "source": [
    "model.compile(loss=\"sparse_categorical_crossentropy\",\n",
    "              optimizer=keras.optimizers.legacy.SGD(learning_rate=0.01, decay=1e-4, momentum=0.9, nesterov=True,clipnorm=1.0),\n",
    "              metrics=[\"accuracy\"])\n",
    "batch_size=32\n",
    "val_batch_size=64\n",
    "try:\n",
    "    history = model.fit(train_set, steps_per_epoch=(len(X_train)//batch_size), epochs=30,validation_data=valid_set)\n",
    "except:\n",
    "    history = model.fit(train_set, steps_per_epoch=(len(X_train)//batch_size), validation_steps=(len(X_valid)//val_batch_size), epochs=40,validation_data=valid_set)"
   ]
  },
  {
   "cell_type": "code",
   "execution_count": 10,
   "id": "9eaa9888",
   "metadata": {},
   "outputs": [
    {
     "data": {
      "image/png": "[encoded data removed]",
      "text/plain": [
       "<Figure size 800x500 with 1 Axes>"
      ]
     },
     "metadata": {},
     "output_type": "display_data"
    },
    {
     "data": {
      "text/plain": [
       "<matplotlib.legend.Legend at 0x17ac0364160>"
      ]
     },
     "execution_count": 10,
     "metadata": {},
     "output_type": "execute_result"
    },
    {
     "data": {
      "image/png": "[encoded data removed]",
      "text/plain": [
       "<Figure size 640x480 with 1 Axes>"
      ]
     },
     "metadata": {},
     "output_type": "display_data"
    }
   ],
   "source": [
    "import pandas as pd\n",
    "import matplotlib.pyplot as plt\n",
    "\n",
    "pd.DataFrame(history.history).plot(figsize=(8, 5))\n",
    "plt.grid(True)\n",
    "plt.gca().set_ylim(0, 1)\n",
    "plt.show()\n",
    "plt.plot(history.history['loss'], 'blue')\n",
    "plt.plot(history.history['val_loss'], 'orange')\n",
    "plt.title('Model loss for the NN')\n",
    "plt.ylabel('loss')\n",
    "plt.xlabel('epoch')\n",
    "plt.legend(['train', 'validate'], loc='upper left')"
   ]
  },
  {
   "cell_type": "code",
   "execution_count": 12,
   "id": "a1c5eba3",
   "metadata": {},
   "outputs": [
    {
     "name": "stdout",
     "output_type": "stream",
     "text": [
      "263/263 [==============================] - 13s 47ms/step - loss: 0.1691 - accuracy: 0.9931\n"
     ]
    },
    {
     "data": {
      "text/plain": [
       "[0.16910630464553833, 0.9930952191352844]"
      ]
     },
     "execution_count": 12,
     "metadata": {},
     "output_type": "execute_result"
    }
   ],
   "source": [
    "score = model.evaluate(X_tester, y_tester)\n",
    "score"
   ]
  },
  {
   "cell_type": "code",
   "execution_count": 13,
   "id": "a96df8fe",
   "metadata": {},
   "outputs": [
    {
     "name": "stdout",
     "output_type": "stream",
     "text": [
      "875/875 [==============================] - 45s 52ms/step\n"
     ]
    }
   ],
   "source": [
    "y_pred = np.argmax(model.predict(X_test),axis=1)\n",
    "id_values=pd.read_csv('sample_submission.csv')['ImageId']"
   ]
  },
  {
   "cell_type": "code",
   "execution_count": 14,
   "id": "e43470aa",
   "metadata": {},
   "outputs": [],
   "source": [
    "pd.DataFrame({'ImageId':np.array(id_values.values),'Label':np.array(y_pred)}).to_csv('submission.csv',index=False)"
   ]
  },
  {
   "cell_type": "code",
   "execution_count": null,
   "id": "9a61b2cb",
   "metadata": {},
   "outputs": [],
   "source": []
  }
 ],
 "metadata": {
  "kernelspec": {
   "display_name": "Python 3 (ipykernel)",
   "language": "python",
   "name": "python3"
  },
  "language_info": {
   "codemirror_mode": {
    "name": "ipython",
    "version": 3
   },
   "file_extension": ".py",
   "mimetype": "text/x-python",
   "name": "python",
   "nbconvert_exporter": "python",
   "pygments_lexer": "ipython3",
   "version": "3.10.9"
  }
 },
 "nbformat": 4,
 "nbformat_minor": 5
}
