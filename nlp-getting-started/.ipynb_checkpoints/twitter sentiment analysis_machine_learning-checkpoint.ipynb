{
 "cells": [
  {
   "cell_type": "code",
   "execution_count": null,
   "id": "38c87d8a",
   "metadata": {},
   "outputs": [],
   "source": [
    "import pandas as pd\n",
    "import numpy as np\n",
    "import warnings\n",
    "warnings.filterwarnings(\"ignore\")\n",
    "import nltk\n",
    "import spacy\n",
    "nltk.download('stopwords')\n",
    "nltk.download('punkt')\n",
    "# nltk.download('averaged_perceptron_tagger')\n",
    "#python -m pip install package_name\n",
    "from nltk.tokenize import word_tokenize\n",
    "from nltk.corpus import stopwords"
   ]
  },
  {
   "cell_type": "code",
   "execution_count": null,
   "id": "d9534f9e",
   "metadata": {},
   "outputs": [],
   "source": [
    "train_data = pd.read_csv('train.csv')\n",
    "test_data = pd.read_csv('test.csv')"
   ]
  },
  {
   "cell_type": "code",
   "execution_count": null,
   "id": "b69acbff",
   "metadata": {},
   "outputs": [],
   "source": [
    "import matplotlib.pyplot as plt\n",
    "\n",
    "# Calculate counts of each category\n",
    "counts = train_data['target'].value_counts()\n",
    "print(counts)\n",
    "\n",
    "# Plotting\n",
    "plt.figure(figsize=(6, 6))\n",
    "counts.plot(kind='bar')\n",
    "plt.title('Distribution of Binary Output')\n",
    "plt.xlabel('Categories')\n",
    "plt.ylabel('Counts')\n",
    "plt.xticks(rotation=0)  # Rotate x-labels if needed\n",
    "plt.show()"
   ]
  },
  {
   "cell_type": "code",
   "execution_count": null,
   "id": "a50f9288",
   "metadata": {},
   "outputs": [],
   "source": [
    "from twitter_clean import clean_text,text_deduplication\n",
    "train_data['clean_text']=train_data['text'].apply(clean_text)\n",
    "test_data['clean_text']=test_data['text'].apply(clean_text)\n",
    "train_data.to_csv('train_clean.csv',index=False)\n",
    "test_data.to_csv('test_clean.csv',index=False)"
   ]
  },
  {
   "cell_type": "code",
   "execution_count": null,
   "id": "7a79c61d",
   "metadata": {},
   "outputs": [],
   "source": [
    "stop_words = set(stopwords.words('english')+[\"among\", \"onto\", \"shall\", \"thrice\", \"thus\", \"twice\", \"unto\", \"us\", \"would\"])\n",
    "nlp = spacy.load(\"en_core_web_sm\")\n",
    "def preprocessing(text):\n",
    "    tokens=word_tokenize(text.lower().strip())\n",
    "    filtered_tokens=[token for token in tokens if token not in stop_words]\n",
    "    lemmatized_spacy = [token.lemma_ for token in nlp(\" \".join(filtered_tokens))]\n",
    "    return \" \".join(lemmatized_spacy)#' '.join(tokens)\n",
    "train_data['preprocessed_text']=train_data['clean_text'].apply(preprocessing)\n",
    "test_data['preprocessed_text']=test_data['clean_text'].apply(preprocessing)\n",
    "train_data.to_csv('train_preprocessed.csv',index=False)\n",
    "test_data.to_csv('test_preprocessed.csv',index=False)"
   ]
  },
  {
   "cell_type": "code",
   "execution_count": null,
   "id": "46ffeee8",
   "metadata": {},
   "outputs": [],
   "source": [
    "new_train=text_deduplication(train_data[['preprocessed_text','target']],'preprocessed_text','target')\n",
    "new_train.to_csv('new_train.csv')"
   ]
  },
  {
   "cell_type": "code",
   "execution_count": null,
   "id": "fc0cc411",
   "metadata": {},
   "outputs": [],
   "source": [
    "new_train"
   ]
  },
  {
   "cell_type": "code",
   "execution_count": null,
   "id": "592741a7",
   "metadata": {},
   "outputs": [],
   "source": []
  }
 ],
 "metadata": {
  "kernelspec": {
   "display_name": "Python 3 (ipykernel)",
   "language": "python",
   "name": "python3"
  },
  "language_info": {
   "codemirror_mode": {
    "name": "ipython",
    "version": 3
   },
   "file_extension": ".py",
   "mimetype": "text/x-python",
   "name": "python",
   "nbconvert_exporter": "python",
   "pygments_lexer": "ipython3",
   "version": "3.11.5"
  }
 },
 "nbformat": 4,
 "nbformat_minor": 5
}
