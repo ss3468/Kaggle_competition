{
 "cells": [
  {
   "cell_type": "code",
   "execution_count": null,
   "id": "568a8341",
   "metadata": {},
   "outputs": [],
   "source": [
    "import pandas as pd\n",
    "import numpy as np\n",
    "import warnings\n",
    "warnings.filterwarnings(\"ignore\")\n",
    "import nltk\n",
    "import spacy\n",
    "nltk.download('stopwords')\n",
    "nltk.download('punkt')\n",
    "nltk.download('averaged_perceptron_tagger')\n",
    "#python -m pip install package_name\n",
    "from nltk.tokenize import word_tokenize\n",
    "from nltk.corpus import stopwords"
   ]
  },
  {
   "cell_type": "code",
   "execution_count": null,
   "id": "8cb53cff",
   "metadata": {},
   "outputs": [],
   "source": [
    "train_data = pd.read_csv('train.csv')\n",
    "test_data = pd.read_csv('test.csv')"
   ]
  },
  {
   "cell_type": "code",
   "execution_count": null,
   "id": "49956c69",
   "metadata": {},
   "outputs": [],
   "source": [
    "import matplotlib.pyplot as plt\n",
    "\n",
    "# Calculate counts of each category\n",
    "counts = train_data['target'].value_counts()\n",
    "print(counts)\n",
    "\n",
    "# Plotting\n",
    "plt.figure(figsize=(6, 6))\n",
    "counts.plot(kind='bar')\n",
    "plt.title('Distribution of Binary Output')\n",
    "plt.xlabel('Categories')\n",
    "plt.ylabel('Counts')\n",
    "plt.xticks(rotation=0)  # Rotate x-labels if needed\n",
    "plt.show()"
   ]
  },
  {
   "cell_type": "code",
   "execution_count": null,
   "id": "89e99ef7",
   "metadata": {},
   "outputs": [],
   "source": [
    "from twitter_clean import clean_text,text_mislabels\n",
    "train_data['clean_text']=train_data['text'].apply(clean_text)\n",
    "test_data['clean_text']=test_data['text'].apply(clean_text)\n",
    "train_data.to_csv('train_clean.csv',index=False)\n",
    "test_data.to_csv('test_clean.csv',index=False)"
   ]
  },
  {
   "cell_type": "code",
   "execution_count": null,
   "id": "7d13fdb6",
   "metadata": {},
   "outputs": [],
   "source": [
    "stop_words = set(stopwords.words('english'))\n",
    "nlp = spacy.load(\"en_core_web_sm\")\n",
    "def preprocessing(text):\n",
    "    tokens=word_tokenize(text.lower().strip())\n",
    "    filtered_tokens=[token for token in tokens if token not in stop_words]\n",
    "    lemmatized_spacy = [token.lemma_ for token in nlp(\" \".join(filtered_tokens))]\n",
    "    return \" \".join(lemmatized_spacy)#' '.join(tokens)\n",
    "train_data['preprocessed_text']=train_data['clean_text'].apply(preprocessing)\n",
    "test_data['preprocessed_text']=test_data['clean_text'].apply(preprocessing)\n",
    "train_data.to_csv('train_preprocessed.csv',index=False)\n",
    "test_data.to_csv('test_preprocessed.csv',index=False)"
   ]
  },
  {
   "cell_type": "code",
   "execution_count": null,
   "id": "3415cfb2",
   "metadata": {},
   "outputs": [],
   "source": [
    "new_train=text_mislabels(train_data,'text','target')\n",
    "new_train.to_csv('new_train.csv',index=False)"
   ]
  },
  {
   "cell_type": "code",
   "execution_count": null,
   "id": "d2424e77-a866-45e4-b1a1-11670871c72a",
   "metadata": {},
   "outputs": [],
   "source": [
    "import matplotlib.pyplot as plt\n",
    "\n",
    "# Calculate counts of each category\n",
    "counts = new_train['new_target'].value_counts()\n",
    "print(counts)\n",
    "\n",
    "# Plotting\n",
    "plt.figure(figsize=(6, 6))\n",
    "counts.plot(kind='bar')\n",
    "plt.title('Distribution of Binary Output')\n",
    "plt.xlabel('Categories')\n",
    "plt.ylabel('Counts')\n",
    "plt.xticks(rotation=0)  # Rotate x-labels if needed\n",
    "plt.show()"
   ]
  },
  {
   "cell_type": "code",
   "execution_count": null,
   "id": "19e57bdb",
   "metadata": {},
   "outputs": [],
   "source": [
    "from sklearn.model_selection import train_test_split\n",
    "x_train, x_test, y_train, y_test = train_test_split(new_train['preprocessed_text'], new_train['new_target'], test_size=0.2, stratify=new_train['new_target'],random_state=11)\n",
    "x_train"
   ]
  },
  {
   "cell_type": "code",
   "execution_count": null,
   "id": "ba791f67",
   "metadata": {},
   "outputs": [],
   "source": [
    "from sklearn.feature_extraction.text import TfidfVectorizer\n",
    "from sklearn.naive_bayes import MultinomialNB\n",
    "tfidf_vect = TfidfVectorizer(analyzer='word')\n",
    "X_train_tfidf = tfidf_vect.fit_transform(x_train)\n",
    "X_valid_tfidf = tfidf_vect.transform(x_test)\n",
    "clf=MultinomialNB()\n",
    "clf.fit(X_train_tfidf,y_train)\n",
    "y_pred=clf.predict(X_valid_tfidf)"
   ]
  },
  {
   "cell_type": "code",
   "execution_count": null,
   "id": "8e30f745",
   "metadata": {},
   "outputs": [],
   "source": [
    "from sklearn.metrics import classification_report\n",
    "report = classification_report(y_test, y_pred)\n",
    "print(report)"
   ]
  },
  {
   "cell_type": "code",
   "execution_count": null,
   "id": "3975232c",
   "metadata": {},
   "outputs": [],
   "source": [
    "from sklearn.metrics import f1_score,accuracy_score\n",
    "\n",
    "# Calculate F1 score\n",
    "f1 = f1_score(y_test, y_pred)\n",
    "print(\"F1 Score:\", f1)\n",
    "\n",
    "# Calculate Accuracy\n",
    "a_s = accuracy_score(y_test, y_pred)\n",
    "print(\"Accuracy:\", a_s)"
   ]
  },
  {
   "cell_type": "code",
   "execution_count": null,
   "id": "d68b4572",
   "metadata": {},
   "outputs": [],
   "source": [
    "X_test_tfidf = tfidf_vect.transform(test_data['preprocessed_text'])\n",
    "y_pred_final=clf.predict(X_test_tfidf)\n",
    "tem=pd.read_csv('sample_submission.csv')\n",
    "tem['target']=y_pred_final\n",
    "tem['target']=tem['target'].apply(lambda x: 1 if x==1 else 0)\n",
    "tem.to_csv('test_prediction.csv',index=False)"
   ]
  },
  {
   "cell_type": "code",
   "execution_count": null,
   "id": "0a4f2afb",
   "metadata": {},
   "outputs": [],
   "source": [
    "import re\n",
    "\n",
    "def remove_hashtags(tweet):\n",
    "    # Define a pattern to match standalone hashtags\n",
    "    pattern = r'\\B#\\w*[a-zA-Z]+\\w*'  # This pattern matches hashtags that are not at the beginning of a word\n",
    "\n",
    "    # Remove hashtags from the tweet\n",
    "    cleaned_tweet = re.sub(pattern, '', tweet)\n",
    "\n",
    "    return cleaned_tweet\n",
    "\n",
    "# Example usage:\n",
    "tweet = \"Check out this cool #python library I found! #coding #programming\"\n",
    "cleaned_tweet = remove_hashtags(tweet)\n",
    "print(\"Original Tweet:\", tweet)\n",
    "print(\"Cleaned Tweet:\", cleaned_tweet)\n"
   ]
  },
  {
   "cell_type": "code",
   "execution_count": null,
   "id": "24124345",
   "metadata": {},
   "outputs": [],
   "source": [
    "for item in tfidf_vect.get_feature_names_out():\n",
    "    print(item)"
   ]
  },
  {
   "cell_type": "code",
   "execution_count": null,
   "id": "9459421a",
   "metadata": {},
   "outputs": [],
   "source": []
  }
 ],
 "metadata": {
  "kernelspec": {
   "display_name": "Python 3 (ipykernel)",
   "language": "python",
   "name": "python3"
  },
  "language_info": {
   "codemirror_mode": {
    "name": "ipython",
    "version": 3
   },
   "file_extension": ".py",
   "mimetype": "text/x-python",
   "name": "python",
   "nbconvert_exporter": "python",
   "pygments_lexer": "ipython3",
   "version": "3.11.5"
  }
 },
 "nbformat": 4,
 "nbformat_minor": 5
}
