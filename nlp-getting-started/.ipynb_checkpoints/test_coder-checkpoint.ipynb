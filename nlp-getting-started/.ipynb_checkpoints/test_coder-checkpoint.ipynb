{
 "cells": [
  {
   "cell_type": "code",
   "execution_count": 1,
   "id": "556bb0a2",
   "metadata": {},
   "outputs": [],
   "source": [
    "import pandas as pd\n",
    "import re\n",
    "import string"
   ]
  },
  {
   "cell_type": "code",
   "execution_count": 2,
   "id": "db122dbe",
   "metadata": {},
   "outputs": [],
   "source": [
    "slang_expressions = pd.read_csv('slang_words.csv', sep=',')\n",
    "slang_expressions_dict = dict(zip(slang_expressions.Slang_key, slang_expressions.Slang_value))\n",
    "def slang_cleaner(text):\n",
    "    for key in slang_expressions_dict:\n",
    "        text=re.sub((r\"\"+key),(r\"\"+slang_expressions_dict[key]),text)\n",
    "    return text"
   ]
  },
  {
   "cell_type": "code",
   "execution_count": 3,
   "id": "fa5a0edd",
   "metadata": {},
   "outputs": [
    {
     "data": {
      "text/plain": [
       "\"The greatest female beat boxer ever now but it's w/out ... Save babies outta burning buildings on my free time but ya know.. whatevs..\""
      ]
     },
     "execution_count": 3,
     "metadata": {},
     "output_type": "execute_result"
    }
   ],
   "source": [
    "tem=\"The greatest female beat boxer ever now but it's w/out ... Save babies outta burning buildings on my free time but ya know.. whatevs..\"\n",
    "re.sub(r\"w/((?=\\w{2})(?!out\\b))\",r\"with \\1\",tem)"
   ]
  },
  {
   "cell_type": "code",
   "execution_count": 4,
   "id": "4aca2a8d",
   "metadata": {},
   "outputs": [
    {
     "name": "stdout",
     "output_type": "stream",
     "text": [
      "w/((?=\\w{2})(?!out\\b))\n",
      "w/\\B\n"
     ]
    },
    {
     "ename": "error",
     "evalue": "invalid group reference 1 at position 6",
     "output_type": "error",
     "traceback": [
      "\u001b[1;31m---------------------------------------------------------------------------\u001b[0m",
      "\u001b[1;31merror\u001b[0m                                     Traceback (most recent call last)",
      "Cell \u001b[1;32mIn[4], line 2\u001b[0m\n\u001b[0;32m      1\u001b[0m tem\u001b[38;5;241m=\u001b[39m\u001b[38;5;124m\"\u001b[39m\u001b[38;5;124mThe greatest female beat boxer ever now but it\u001b[39m\u001b[38;5;124m'\u001b[39m\u001b[38;5;124ms w/out ... Save babies outta burning buildings on my free time but ya know.. whatevs..\u001b[39m\u001b[38;5;124m\"\u001b[39m\n\u001b[1;32m----> 2\u001b[0m slang_cleaner(tem)\n",
      "Cell \u001b[1;32mIn[2], line 6\u001b[0m, in \u001b[0;36mslang_cleaner\u001b[1;34m(text)\u001b[0m\n\u001b[0;32m      4\u001b[0m \u001b[38;5;28;01mfor\u001b[39;00m key \u001b[38;5;129;01min\u001b[39;00m slang_expressions_dict:\n\u001b[0;32m      5\u001b[0m     \u001b[38;5;28mprint\u001b[39m(key)\n\u001b[1;32m----> 6\u001b[0m     text\u001b[38;5;241m=\u001b[39mre\u001b[38;5;241m.\u001b[39msub((\u001b[38;5;124mr\u001b[39m\u001b[38;5;124m\"\u001b[39m\u001b[38;5;124m\"\u001b[39m\u001b[38;5;241m+\u001b[39mkey),(\u001b[38;5;124mr\u001b[39m\u001b[38;5;124m\"\u001b[39m\u001b[38;5;124m\"\u001b[39m\u001b[38;5;241m+\u001b[39mslang_expressions_dict[key]),text)\n\u001b[0;32m      7\u001b[0m \u001b[38;5;28;01mreturn\u001b[39;00m text\n",
      "File \u001b[1;32m~\\anaconda3\\Lib\\re\\__init__.py:185\u001b[0m, in \u001b[0;36msub\u001b[1;34m(pattern, repl, string, count, flags)\u001b[0m\n\u001b[0;32m    178\u001b[0m \u001b[38;5;28;01mdef\u001b[39;00m \u001b[38;5;21msub\u001b[39m(pattern, repl, string, count\u001b[38;5;241m=\u001b[39m\u001b[38;5;241m0\u001b[39m, flags\u001b[38;5;241m=\u001b[39m\u001b[38;5;241m0\u001b[39m):\n\u001b[0;32m    179\u001b[0m \u001b[38;5;250m    \u001b[39m\u001b[38;5;124;03m\"\"\"Return the string obtained by replacing the leftmost\u001b[39;00m\n\u001b[0;32m    180\u001b[0m \u001b[38;5;124;03m    non-overlapping occurrences of the pattern in string by the\u001b[39;00m\n\u001b[0;32m    181\u001b[0m \u001b[38;5;124;03m    replacement repl.  repl can be either a string or a callable;\u001b[39;00m\n\u001b[0;32m    182\u001b[0m \u001b[38;5;124;03m    if a string, backslash escapes in it are processed.  If it is\u001b[39;00m\n\u001b[0;32m    183\u001b[0m \u001b[38;5;124;03m    a callable, it's passed the Match object and must return\u001b[39;00m\n\u001b[0;32m    184\u001b[0m \u001b[38;5;124;03m    a replacement string to be used.\"\"\"\u001b[39;00m\n\u001b[1;32m--> 185\u001b[0m     \u001b[38;5;28;01mreturn\u001b[39;00m _compile(pattern, flags)\u001b[38;5;241m.\u001b[39msub(repl, string, count)\n",
      "File \u001b[1;32m~\\anaconda3\\Lib\\re\\__init__.py:317\u001b[0m, in \u001b[0;36m_subx\u001b[1;34m(pattern, template)\u001b[0m\n\u001b[0;32m    315\u001b[0m \u001b[38;5;28;01mdef\u001b[39;00m \u001b[38;5;21m_subx\u001b[39m(pattern, template):\n\u001b[0;32m    316\u001b[0m     \u001b[38;5;66;03m# internal: Pattern.sub/subn implementation helper\u001b[39;00m\n\u001b[1;32m--> 317\u001b[0m     template \u001b[38;5;241m=\u001b[39m _compile_repl(template, pattern)\n\u001b[0;32m    318\u001b[0m     \u001b[38;5;28;01mif\u001b[39;00m \u001b[38;5;129;01mnot\u001b[39;00m template[\u001b[38;5;241m0\u001b[39m] \u001b[38;5;129;01mand\u001b[39;00m \u001b[38;5;28mlen\u001b[39m(template[\u001b[38;5;241m1\u001b[39m]) \u001b[38;5;241m==\u001b[39m \u001b[38;5;241m1\u001b[39m:\n\u001b[0;32m    319\u001b[0m         \u001b[38;5;66;03m# literal replacement\u001b[39;00m\n\u001b[0;32m    320\u001b[0m         \u001b[38;5;28;01mreturn\u001b[39;00m template[\u001b[38;5;241m1\u001b[39m][\u001b[38;5;241m0\u001b[39m]\n",
      "File \u001b[1;32m~\\anaconda3\\Lib\\re\\__init__.py:308\u001b[0m, in \u001b[0;36m_compile_repl\u001b[1;34m(repl, pattern)\u001b[0m\n\u001b[0;32m    305\u001b[0m \u001b[38;5;129m@functools\u001b[39m\u001b[38;5;241m.\u001b[39mlru_cache(_MAXCACHE)\n\u001b[0;32m    306\u001b[0m \u001b[38;5;28;01mdef\u001b[39;00m \u001b[38;5;21m_compile_repl\u001b[39m(repl, pattern):\n\u001b[0;32m    307\u001b[0m     \u001b[38;5;66;03m# internal: compile replacement pattern\u001b[39;00m\n\u001b[1;32m--> 308\u001b[0m     \u001b[38;5;28;01mreturn\u001b[39;00m _parser\u001b[38;5;241m.\u001b[39mparse_template(repl, pattern)\n",
      "File \u001b[1;32m~\\anaconda3\\Lib\\re\\_parser.py:1074\u001b[0m, in \u001b[0;36mparse_template\u001b[1;34m(source, state)\u001b[0m\n\u001b[0;32m   1072\u001b[0m             lappend(\u001b[38;5;28mchr\u001b[39m(c))\n\u001b[0;32m   1073\u001b[0m     \u001b[38;5;28;01mif\u001b[39;00m \u001b[38;5;129;01mnot\u001b[39;00m isoctal:\n\u001b[1;32m-> 1074\u001b[0m         addgroup(\u001b[38;5;28mint\u001b[39m(this[\u001b[38;5;241m1\u001b[39m:]), \u001b[38;5;28mlen\u001b[39m(this) \u001b[38;5;241m-\u001b[39m \u001b[38;5;241m1\u001b[39m)\n\u001b[0;32m   1075\u001b[0m \u001b[38;5;28;01melse\u001b[39;00m:\n\u001b[0;32m   1076\u001b[0m     \u001b[38;5;28;01mtry\u001b[39;00m:\n",
      "File \u001b[1;32m~\\anaconda3\\Lib\\re\\_parser.py:1010\u001b[0m, in \u001b[0;36mparse_template.<locals>.addgroup\u001b[1;34m(index, pos)\u001b[0m\n\u001b[0;32m   1008\u001b[0m \u001b[38;5;28;01mdef\u001b[39;00m \u001b[38;5;21maddgroup\u001b[39m(index, pos):\n\u001b[0;32m   1009\u001b[0m     \u001b[38;5;28;01mif\u001b[39;00m index \u001b[38;5;241m>\u001b[39m state\u001b[38;5;241m.\u001b[39mgroups:\n\u001b[1;32m-> 1010\u001b[0m         \u001b[38;5;28;01mraise\u001b[39;00m s\u001b[38;5;241m.\u001b[39merror(\u001b[38;5;124m\"\u001b[39m\u001b[38;5;124minvalid group reference \u001b[39m\u001b[38;5;132;01m%d\u001b[39;00m\u001b[38;5;124m\"\u001b[39m \u001b[38;5;241m%\u001b[39m index, pos)\n\u001b[0;32m   1011\u001b[0m     \u001b[38;5;28;01mif\u001b[39;00m literal:\n\u001b[0;32m   1012\u001b[0m         literals\u001b[38;5;241m.\u001b[39mappend(\u001b[38;5;124m'\u001b[39m\u001b[38;5;124m'\u001b[39m\u001b[38;5;241m.\u001b[39mjoin(literal))\n",
      "\u001b[1;31merror\u001b[0m: invalid group reference 1 at position 6"
     ]
    }
   ],
   "source": [
    "tem=\"The greatest female beat boxer ever now but it's w/out ... Save babies outta burning buildings on my free time but ya know.. whatevs..\"\n",
    "slang_cleaner(tem)"
   ]
  },
  {
   "cell_type": "code",
   "execution_count": null,
   "id": "c8cf09d2",
   "metadata": {},
   "outputs": [],
   "source": [
    "import contractions\n",
    "tem=\"with out\"\n",
    "contractions.fix(tem)"
   ]
  },
  {
   "cell_type": "code",
   "execution_count": null,
   "id": "bf1cde27",
   "metadata": {},
   "outputs": [],
   "source": [
    "tem=\"The greatest female beat boxer ever now but it's w/e Save babies outta burning buildings on my free time but ya know.. whatevs..\"\n",
    "slang_cleaner(tem)"
   ]
  },
  {
   "cell_type": "code",
   "execution_count": null,
   "id": "4e15c88e",
   "metadata": {},
   "outputs": [],
   "source": []
  }
 ],
 "metadata": {
  "kernelspec": {
   "display_name": "Python 3 (ipykernel)",
   "language": "python",
   "name": "python3"
  },
  "language_info": {
   "codemirror_mode": {
    "name": "ipython",
    "version": 3
   },
   "file_extension": ".py",
   "mimetype": "text/x-python",
   "name": "python",
   "nbconvert_exporter": "python",
   "pygments_lexer": "ipython3",
   "version": "3.11.5"
  }
 },
 "nbformat": 4,
 "nbformat_minor": 5
}
