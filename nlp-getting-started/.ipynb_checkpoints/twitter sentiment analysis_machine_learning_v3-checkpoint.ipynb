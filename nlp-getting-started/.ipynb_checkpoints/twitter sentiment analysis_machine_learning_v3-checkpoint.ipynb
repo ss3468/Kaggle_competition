{
 "cells": [
  {
   "cell_type": "code",
   "execution_count": 1,
   "id": "09e4a812",
   "metadata": {},
   "outputs": [
    {
     "name": "stderr",
     "output_type": "stream",
     "text": [
      "[nltk_data] Downloading package stopwords to C:\\Users\\Sajin.LAPTOP-\n",
      "[nltk_data]     RE0DL8PH\\AppData\\Roaming\\nltk_data...\n",
      "[nltk_data]   Package stopwords is already up-to-date!\n",
      "[nltk_data] Downloading package punkt to C:\\Users\\Sajin.LAPTOP-\n",
      "[nltk_data]     RE0DL8PH\\AppData\\Roaming\\nltk_data...\n",
      "[nltk_data]   Package punkt is already up-to-date!\n"
     ]
    }
   ],
   "source": [
    "import pandas as pd\n",
    "import numpy as np\n",
    "import warnings\n",
    "warnings.filterwarnings(\"ignore\")\n",
    "import nltk\n",
    "import spacy\n",
    "nltk.download('stopwords')\n",
    "nltk.download('punkt')\n",
    "# nltk.download('averaged_perceptron_tagger')\n",
    "#python -m pip install package_name\n",
    "from nltk.tokenize import word_tokenize\n",
    "from nltk.corpus import stopwords"
   ]
  },
  {
   "cell_type": "code",
   "execution_count": 2,
   "id": "4bca6fae",
   "metadata": {},
   "outputs": [],
   "source": [
    "train_data = pd.read_csv('train.csv')\n",
    "test_data = pd.read_csv('test.csv')"
   ]
  },
  {
   "cell_type": "code",
   "execution_count": 3,
   "id": "fd5cb4fa",
   "metadata": {},
   "outputs": [
    {
     "name": "stdout",
     "output_type": "stream",
     "text": [
      "target\n",
      "0    4342\n",
      "1    3271\n",
      "Name: count, dtype: int64\n"
     ]
    },
    {
     "data": {
      "image/png": "[encoded data removed]",
      "text/plain": [
       "<Figure size 600x600 with 1 Axes>"
      ]
     },
     "metadata": {},
     "output_type": "display_data"
    }
   ],
   "source": [
    "import matplotlib.pyplot as plt\n",
    "\n",
    "# Calculate counts of each category\n",
    "counts = train_data['target'].value_counts()\n",
    "print(counts)\n",
    "\n",
    "# Plotting\n",
    "plt.figure(figsize=(6, 6))\n",
    "counts.plot(kind='bar')\n",
    "plt.title('Distribution of Binary Output')\n",
    "plt.xlabel('Categories')\n",
    "plt.ylabel('Counts')\n",
    "plt.xticks(rotation=0)  # Rotate x-labels if needed\n",
    "plt.show()"
   ]
  },
  {
   "cell_type": "code",
   "execution_count": 4,
   "id": "27e1dddc",
   "metadata": {},
   "outputs": [],
   "source": [
    "from twitter_clean import clean_text,text_deduplication\n",
    "train_data['clean_text']=train_data['text'].apply(clean_text)\n",
    "test_data['clean_text']=test_data['text'].apply(clean_text)\n",
    "train_data.to_csv('train_clean.csv',index=False)\n",
    "test_data.to_csv('test_clean.csv',index=False)"
   ]
  },
  {
   "cell_type": "code",
   "execution_count": 5,
   "id": "9bd7672c",
   "metadata": {},
   "outputs": [],
   "source": [
    "# df_mislabeled = train_data.groupby(['clean_text'])['target'].mean().to_frame()\n",
    "# df_mislabeled.to_csv('tem.csv')"
   ]
  },
  {
   "cell_type": "code",
   "execution_count": 6,
   "id": "ef6cda55",
   "metadata": {},
   "outputs": [],
   "source": [
    "# df_mislabeled[df_mislabeled['target']==0.5]"
   ]
  },
  {
   "cell_type": "code",
   "execution_count": 7,
   "id": "675bf0f6",
   "metadata": {},
   "outputs": [],
   "source": [
    "stop_words = set(stopwords.words('english')+[\"among\", \"onto\", \"shall\", \"thrice\", \"thus\", \"twice\", \"unto\", \"us\", \"would\"])\n",
    "nlp = spacy.load(\"en_core_web_sm\")\n",
    "def preprocessing(text):\n",
    "    tokens=word_tokenize(text.lower().strip())\n",
    "    filtered_tokens=[token for token in tokens if token not in stop_words]\n",
    "    lemmatized_spacy = [token.lemma_ for token in nlp(\" \".join(filtered_tokens))]\n",
    "    return \" \".join(lemmatized_spacy)#' '.join(tokens)\n",
    "train_data['preprocessed_text']=train_data['clean_text'].apply(preprocessing)\n",
    "test_data['preprocessed_text']=test_data['clean_text'].apply(preprocessing)\n",
    "train_data.to_csv('train_preprocessed.csv',index=False)\n",
    "test_data.to_csv('test_preprocessed.csv',index=False)"
   ]
  },
  {
   "cell_type": "code",
   "execution_count": 8,
   "id": "1a79d610",
   "metadata": {},
   "outputs": [
    {
     "data": {
      "text/plain": [
       "{'a',\n",
       " 'about',\n",
       " 'above',\n",
       " 'after',\n",
       " 'again',\n",
       " 'against',\n",
       " 'ain',\n",
       " 'all',\n",
       " 'am',\n",
       " 'an',\n",
       " 'and',\n",
       " 'any',\n",
       " 'are',\n",
       " 'aren',\n",
       " \"aren't\",\n",
       " 'as',\n",
       " 'at',\n",
       " 'be',\n",
       " 'because',\n",
       " 'been',\n",
       " 'before',\n",
       " 'being',\n",
       " 'below',\n",
       " 'between',\n",
       " 'both',\n",
       " 'but',\n",
       " 'by',\n",
       " 'can',\n",
       " 'couldn',\n",
       " \"couldn't\",\n",
       " 'd',\n",
       " 'did',\n",
       " 'didn',\n",
       " \"didn't\",\n",
       " 'do',\n",
       " 'does',\n",
       " 'doesn',\n",
       " \"doesn't\",\n",
       " 'doing',\n",
       " 'don',\n",
       " \"don't\",\n",
       " 'down',\n",
       " 'during',\n",
       " 'each',\n",
       " 'few',\n",
       " 'for',\n",
       " 'from',\n",
       " 'further',\n",
       " 'had',\n",
       " 'hadn',\n",
       " \"hadn't\",\n",
       " 'has',\n",
       " 'hasn',\n",
       " \"hasn't\",\n",
       " 'have',\n",
       " 'haven',\n",
       " \"haven't\",\n",
       " 'having',\n",
       " 'he',\n",
       " 'her',\n",
       " 'here',\n",
       " 'hers',\n",
       " 'herself',\n",
       " 'him',\n",
       " 'himself',\n",
       " 'his',\n",
       " 'how',\n",
       " 'i',\n",
       " 'if',\n",
       " 'in',\n",
       " 'into',\n",
       " 'is',\n",
       " 'isn',\n",
       " \"isn't\",\n",
       " 'it',\n",
       " \"it's\",\n",
       " 'its',\n",
       " 'itself',\n",
       " 'just',\n",
       " 'll',\n",
       " 'm',\n",
       " 'ma',\n",
       " 'me',\n",
       " 'mightn',\n",
       " \"mightn't\",\n",
       " 'more',\n",
       " 'most',\n",
       " 'mustn',\n",
       " \"mustn't\",\n",
       " 'my',\n",
       " 'myself',\n",
       " 'needn',\n",
       " \"needn't\",\n",
       " 'no',\n",
       " 'nor',\n",
       " 'not',\n",
       " 'now',\n",
       " 'o',\n",
       " 'of',\n",
       " 'off',\n",
       " 'on',\n",
       " 'once',\n",
       " 'only',\n",
       " 'or',\n",
       " 'other',\n",
       " 'our',\n",
       " 'ours',\n",
       " 'ourselves',\n",
       " 'out',\n",
       " 'over',\n",
       " 'own',\n",
       " 're',\n",
       " 's',\n",
       " 'same',\n",
       " 'shan',\n",
       " \"shan't\",\n",
       " 'she',\n",
       " \"she's\",\n",
       " 'should',\n",
       " \"should've\",\n",
       " 'shouldn',\n",
       " \"shouldn't\",\n",
       " 'so',\n",
       " 'some',\n",
       " 'such',\n",
       " 't',\n",
       " 'than',\n",
       " 'that',\n",
       " \"that'll\",\n",
       " 'the',\n",
       " 'their',\n",
       " 'theirs',\n",
       " 'them',\n",
       " 'themselves',\n",
       " 'then',\n",
       " 'there',\n",
       " 'these',\n",
       " 'they',\n",
       " 'this',\n",
       " 'those',\n",
       " 'through',\n",
       " 'to',\n",
       " 'too',\n",
       " 'under',\n",
       " 'until',\n",
       " 'up',\n",
       " 've',\n",
       " 'very',\n",
       " 'was',\n",
       " 'wasn',\n",
       " \"wasn't\",\n",
       " 'we',\n",
       " 'were',\n",
       " 'weren',\n",
       " \"weren't\",\n",
       " 'what',\n",
       " 'when',\n",
       " 'where',\n",
       " 'which',\n",
       " 'while',\n",
       " 'who',\n",
       " 'whom',\n",
       " 'why',\n",
       " 'will',\n",
       " 'with',\n",
       " 'won',\n",
       " \"won't\",\n",
       " 'wouldn',\n",
       " \"wouldn't\",\n",
       " 'y',\n",
       " 'you',\n",
       " \"you'd\",\n",
       " \"you'll\",\n",
       " \"you're\",\n",
       " \"you've\",\n",
       " 'your',\n",
       " 'yours',\n",
       " 'yourself',\n",
       " 'yourselves'}"
      ]
     },
     "execution_count": 8,
     "metadata": {},
     "output_type": "execute_result"
    }
   ],
   "source": [
    "stop_words"
   ]
  },
  {
   "cell_type": "code",
   "execution_count": 9,
   "id": "faa15e1e",
   "metadata": {},
   "outputs": [
    {
     "name": "stdout",
     "output_type": "stream",
     "text": [
      "[0.86249442] [0.74389662]\n",
      "360wisenews china stock market crash gem rubble\n",
      "[0.50509005] [0.33052713]\n",
      "armageddon\n",
      "[0.49823839] [0.60555805]\n",
      "ashe 2015 australia collapse trent bridge among bad history england bundle australia 60\n",
      "[0.21353456] [0.29528707]\n",
      "caution breathing may hazardous health\n",
      "[0.70639028] [0.39015078]\n",
      "china stock market crash summer spark interest bargain hunt\n",
      "[0.41291055] [0.16485697]\n",
      "choke hazard prompt recall kraft cheese single\n",
      "[0.16444393] [0.13698691]\n",
      "cindy noonan heartbreak baltimore rioting yahistorical undergroundrailraod\n",
      "[0.87441422] [0.18226959]\n",
      "deluge low self image take quiz\n",
      "[0.84296429] [0.71058879]\n",
      "detonate feat m.o.p apollo brown\n",
      "[0.25403506] [0.87696517]\n",
      "disaster avert police kill gunman hoax device cinema\n",
      "[0.69831845] [0.17534703]\n",
      "drown demon know swim\n",
      "[0.40473569] [0.75009592]\n",
      "earthquake drill\n",
      "[0.15492525] [0.8157576]\n",
      "faan orders evacuation abandon aircraft mma\n",
      "[0.83863149] [0.28954296]\n",
      "feel like sink low self image take quiz\n",
      "[0.32414708] [0.27628882]\n",
      "fight bioterrorism sir\n",
      "[0.67768349] [0.22297478]\n",
      "fire hazard associate installation non compliant external cladding\n",
      "[0.58974916] [0.74357899]\n",
      "governor weighs parole california school bus hijacker\n",
      "[0.91279643] [0.17322039]\n",
      "hellfire even want think mention let we anything lead islam\n",
      "[0.5550359] [0.46931114]\n",
      "hillary mass murderer\n",
      "[0.38631496] [0.23325253]\n",
      "islam save person equal reward save human islam opposite terrorism\n",
      "[0.17624361] [0.27056551]\n",
      "kosciusko police investigate pedestrian fatality hit train thursday\n",
      "[0.32270731] [0.33168451]\n",
      "like music video want real action shit like burn building police chase weak ben winston shit\n",
      "[0.37489729] [0.26022409]\n",
      "like video gun range mayhem\n",
      "[0.93146842] [0.33583145]\n",
      "meat love feminist world riot grill arrive\n",
      "[0.31030963] [0.36224558]\n",
      "medium pakistan cover capture terrorist mohamme nave\n",
      "[0.52271332] [0.42883336]\n",
      "mm burn burn building build oh oh oh\n",
      "[0.24958244] [0.46105617]\n",
      "one careless match start forest fire take whole box start campfire\n",
      "[0.65935691] [0.71404982]\n",
      "patience jonathan move hijack apc bayelsa state\n",
      "[0.22382965] [0.30797912]\n",
      "pledge allegiance p.o.p.e burn building epic city\n",
      "[0.1726943] [0.16226129]\n",
      "retweet notexplaine know image infamous hijacker d.b cooper\n",
      "[0.28282608] [0.164349]\n",
      "star war power jedi collection 1 battle droid hasbro full read ebay\n",
      "[0.23887359] [0.15211019]\n",
      "survival kit whistle fire starter wire see cree torch emergency blanket knife\n",
      "[0.18154635] [0.19697031]\n",
      "tanzania elephant population decline 60 five year census reveal\n",
      "[0.21960136] [0.9027632]\n",
      "trafford centre film fan angry odeon cinema evacuate follow false fire alarm\n",
      "[0.55448863] [0.27159417]\n",
      "twia board approve 5 percent rate hike texas windstorm insurance association twia board director v\n",
      "[0.27524835] [0.18121536]\n",
      "ty follow go brutally abuse desolate lose lovely mum die murder\n",
      "[0.30423669] [0.289566]\n",
      "way move like full rainstorm house card\n",
      "[0.21418154] [0.17828757]\n",
      "world annihilation vs self transformation alien attack exterminate human\n",
      "[0.8420616] [0.94538556]\n",
      "world fedex long transport bioterror germ wake anthrax lab mishap\n",
      "[0.18609894] [0.21762686]\n",
      "world war ii book lightning joe autobiography general j lawton collins\n",
      "[0.13130518] [0.87085201]\n",
      "wowo 12000 nigerian refugee repatriate cameroon\n"
     ]
    }
   ],
   "source": [
    "new_train=text_deduplication(train_data[['preprocessed_text','target']],'preprocessed_text','target')\n",
    "new_train.to_csv('new_train.csv')"
   ]
  },
  {
   "cell_type": "code",
   "execution_count": 10,
   "id": "c28ed494",
   "metadata": {},
   "outputs": [
    {
     "data": {
      "text/html": [
       "<div>\n",
       "<style scoped>\n",
       "    .dataframe tbody tr th:only-of-type {\n",
       "        vertical-align: middle;\n",
       "    }\n",
       "\n",
       "    .dataframe tbody tr th {\n",
       "        vertical-align: top;\n",
       "    }\n",
       "\n",
       "    .dataframe thead th {\n",
       "        text-align: right;\n",
       "    }\n",
       "</style>\n",
       "<table border=\"1\" class=\"dataframe\">\n",
       "  <thead>\n",
       "    <tr style=\"text-align: right;\">\n",
       "      <th></th>\n",
       "      <th>preprocessed_text</th>\n",
       "      <th>target</th>\n",
       "      <th>new_target</th>\n",
       "    </tr>\n",
       "  </thead>\n",
       "  <tbody>\n",
       "    <tr>\n",
       "      <th>0</th>\n",
       "      <td></td>\n",
       "      <td>0.333333</td>\n",
       "      <td>0.0</td>\n",
       "    </tr>\n",
       "    <tr>\n",
       "      <th>1</th>\n",
       "      <td>0 day bug fully patch os x come active exploit...</td>\n",
       "      <td>0.000000</td>\n",
       "      <td>0.0</td>\n",
       "    </tr>\n",
       "    <tr>\n",
       "      <th>2</th>\n",
       "      <td>0 day bug fully patch os x come active exploit...</td>\n",
       "      <td>0.000000</td>\n",
       "      <td>0.0</td>\n",
       "    </tr>\n",
       "    <tr>\n",
       "      <th>3</th>\n",
       "      <td>0 photo lastma official challenge police drive...</td>\n",
       "      <td>1.000000</td>\n",
       "      <td>1.0</td>\n",
       "    </tr>\n",
       "    <tr>\n",
       "      <th>4</th>\n",
       "      <td>03/08/11 police stop 41 year old bronx cite ca...</td>\n",
       "      <td>1.000000</td>\n",
       "      <td>1.0</td>\n",
       "    </tr>\n",
       "    <tr>\n",
       "      <th>...</th>\n",
       "      <td>...</td>\n",
       "      <td>...</td>\n",
       "      <td>...</td>\n",
       "    </tr>\n",
       "    <tr>\n",
       "      <th>6790</th>\n",
       "      <td>zone ender mgs2 god war quote favorite ps2 game</td>\n",
       "      <td>0.000000</td>\n",
       "      <td>0.0</td>\n",
       "    </tr>\n",
       "    <tr>\n",
       "      <th>6791</th>\n",
       "      <td>zotar 50 skeleton alchemist electrocute death ...</td>\n",
       "      <td>1.000000</td>\n",
       "      <td>1.0</td>\n",
       "    </tr>\n",
       "    <tr>\n",
       "      <th>6792</th>\n",
       "      <td>zouma absolutely flatten guy</td>\n",
       "      <td>0.000000</td>\n",
       "      <td>0.0</td>\n",
       "    </tr>\n",
       "    <tr>\n",
       "      <th>6793</th>\n",
       "      <td>zouma flatten cfc</td>\n",
       "      <td>0.000000</td>\n",
       "      <td>0.0</td>\n",
       "    </tr>\n",
       "    <tr>\n",
       "      <th>6794</th>\n",
       "      <td>zouma flatten guy</td>\n",
       "      <td>0.000000</td>\n",
       "      <td>0.0</td>\n",
       "    </tr>\n",
       "  </tbody>\n",
       "</table>\n",
       "<p>6795 rows × 3 columns</p>\n",
       "</div>"
      ],
      "text/plain": [
       "                                      preprocessed_text    target  new_target\n",
       "0                                                        0.333333         0.0\n",
       "1     0 day bug fully patch os x come active exploit...  0.000000         0.0\n",
       "2     0 day bug fully patch os x come active exploit...  0.000000         0.0\n",
       "3     0 photo lastma official challenge police drive...  1.000000         1.0\n",
       "4     03/08/11 police stop 41 year old bronx cite ca...  1.000000         1.0\n",
       "...                                                 ...       ...         ...\n",
       "6790    zone ender mgs2 god war quote favorite ps2 game  0.000000         0.0\n",
       "6791  zotar 50 skeleton alchemist electrocute death ...  1.000000         1.0\n",
       "6792                       zouma absolutely flatten guy  0.000000         0.0\n",
       "6793                                  zouma flatten cfc  0.000000         0.0\n",
       "6794                                  zouma flatten guy  0.000000         0.0\n",
       "\n",
       "[6795 rows x 3 columns]"
      ]
     },
     "execution_count": 10,
     "metadata": {},
     "output_type": "execute_result"
    }
   ],
   "source": [
    "new_train"
   ]
  },
  {
   "cell_type": "code",
   "execution_count": 11,
   "id": "82b4c70a",
   "metadata": {},
   "outputs": [
    {
     "data": {
      "text/plain": [
       "Index(['preprocessed_text', 'target', 'new_target'], dtype='object')"
      ]
     },
     "execution_count": 11,
     "metadata": {},
     "output_type": "execute_result"
    }
   ],
   "source": [
    "new_train.columns"
   ]
  },
  {
   "cell_type": "code",
   "execution_count": 12,
   "id": "3e68de24",
   "metadata": {},
   "outputs": [],
   "source": [
    "from sklearn.model_selection import train_test_split\n",
    "from sklearn.feature_extraction.text import TfidfTransformer,CountVectorizer\n",
    "from sklearn.naive_bayes import BernoulliNB,MultinomialNB\n",
    "from sklearn.svm import SVC\n",
    "from sklearn import metrics\n",
    "from sklearn.metrics import confusion_matrix,classification_report\n",
    "import matplotlib.pyplot as plt\n",
    "%matplotlib inline\n",
    "x_train, x_test, y_train, y_test = train_test_split(new_train['preprocessed_text'],new_train['new_target'],stratify=new_train['new_target'],test_size=0.2,random_state=1)\n",
    "count_vect = CountVectorizer()\n",
    "tf_transformer = TfidfTransformer(use_idf=True) # just use tf, no idf used\n",
    "\n",
    "# convert the text list to tfidf form matrix\n",
    "x_train_counts = count_vect.fit_transform(x_train)\n",
    "x_train_tf = tf_transformer.fit_transform(x_train_counts)\n",
    "y_train = np.array(y_train)\n",
    "clf = MultinomialNB(alpha=0.7)#BernoulliNB(alpha=0.9, fit_prior=True, class_prior=None)#1.11\n",
    "clf.fit(x_train_tf, y_train) # train the classifier\n",
    "\n",
    "# convert list to matrix\n",
    "x_pre_counts = count_vect.transform(x_test)\n",
    "x_pre_tf = tf_transformer.transform(x_pre_counts)\n",
    "\n",
    "predicted = clf.predict(x_pre_tf)"
   ]
  },
  {
   "cell_type": "code",
   "execution_count": 13,
   "id": "f149d0a5",
   "metadata": {},
   "outputs": [
    {
     "data": {
      "text/plain": [
       "0.7991169977924945"
      ]
     },
     "execution_count": 13,
     "metadata": {},
     "output_type": "execute_result"
    }
   ],
   "source": [
    "metrics.accuracy_score(list(y_test), predicted)"
   ]
  },
  {
   "cell_type": "code",
   "execution_count": 14,
   "id": "0a73cf61",
   "metadata": {},
   "outputs": [
    {
     "name": "stdout",
     "output_type": "stream",
     "text": [
      "              precision    recall  f1-score   support\n",
      "\n",
      "         0.0       0.78      0.93      0.85       807\n",
      "         1.0       0.85      0.61      0.71       552\n",
      "\n",
      "    accuracy                           0.80      1359\n",
      "   macro avg       0.81      0.77      0.78      1359\n",
      "weighted avg       0.81      0.80      0.79      1359\n",
      "\n"
     ]
    }
   ],
   "source": [
    "print(classification_report(list(y_test), predicted))"
   ]
  },
  {
   "cell_type": "code",
   "execution_count": 15,
   "id": "ad2aa08c",
   "metadata": {},
   "outputs": [
    {
     "data": {
      "text/plain": [
       "array([[747,  60],\n",
       "       [213, 339]], dtype=int64)"
      ]
     },
     "execution_count": 15,
     "metadata": {},
     "output_type": "execute_result"
    }
   ],
   "source": [
    "confusion_matrix(list(y_test), predicted)"
   ]
  },
  {
   "cell_type": "code",
   "execution_count": 16,
   "id": "1b08e835",
   "metadata": {},
   "outputs": [],
   "source": [
    "x_test_counts = count_vect.transform(test_data['preprocessed_text'])\n",
    "x_test_tf = tf_transformer.transform(x_test_counts)\n",
    "new_predicted = clf.predict(x_test_tf)"
   ]
  },
  {
   "cell_type": "code",
   "execution_count": 17,
   "id": "3815ba7b",
   "metadata": {},
   "outputs": [],
   "source": [
    "tem=pd.read_csv('sample_submission.csv')\n",
    "tem['target']=new_predicted\n",
    "tem['target']=[int(i>0.5) for i in tem.target.values]\n",
    "tem.to_csv('test_prediction.csv',index=False)"
   ]
  },
  {
   "cell_type": "code",
   "execution_count": 18,
   "id": "e74bc80e",
   "metadata": {},
   "outputs": [
    {
     "data": {
      "text/plain": [
       "0.7836346920012258"
      ]
     },
     "execution_count": 18,
     "metadata": {},
     "output_type": "execute_result"
    }
   ],
   "source": [
    "perfect_score=pd.read_csv('submission.csv')\n",
    "metrics.accuracy_score(list(perfect_score['target']), new_predicted)"
   ]
  },
  {
   "cell_type": "code",
   "execution_count": 19,
   "id": "db896dbf",
   "metadata": {},
   "outputs": [
    {
     "data": {
      "text/html": [
       "<div>\n",
       "<style scoped>\n",
       "    .dataframe tbody tr th:only-of-type {\n",
       "        vertical-align: middle;\n",
       "    }\n",
       "\n",
       "    .dataframe tbody tr th {\n",
       "        vertical-align: top;\n",
       "    }\n",
       "\n",
       "    .dataframe thead th {\n",
       "        text-align: right;\n",
       "    }\n",
       "</style>\n",
       "<table border=\"1\" class=\"dataframe\">\n",
       "  <thead>\n",
       "    <tr style=\"text-align: right;\">\n",
       "      <th></th>\n",
       "      <th>id</th>\n",
       "      <th>target</th>\n",
       "    </tr>\n",
       "  </thead>\n",
       "  <tbody>\n",
       "    <tr>\n",
       "      <th>0</th>\n",
       "      <td>0</td>\n",
       "      <td>1</td>\n",
       "    </tr>\n",
       "    <tr>\n",
       "      <th>1</th>\n",
       "      <td>2</td>\n",
       "      <td>0</td>\n",
       "    </tr>\n",
       "    <tr>\n",
       "      <th>2</th>\n",
       "      <td>3</td>\n",
       "      <td>1</td>\n",
       "    </tr>\n",
       "    <tr>\n",
       "      <th>3</th>\n",
       "      <td>9</td>\n",
       "      <td>1</td>\n",
       "    </tr>\n",
       "    <tr>\n",
       "      <th>4</th>\n",
       "      <td>11</td>\n",
       "      <td>1</td>\n",
       "    </tr>\n",
       "    <tr>\n",
       "      <th>...</th>\n",
       "      <td>...</td>\n",
       "      <td>...</td>\n",
       "    </tr>\n",
       "    <tr>\n",
       "      <th>3258</th>\n",
       "      <td>10861</td>\n",
       "      <td>1</td>\n",
       "    </tr>\n",
       "    <tr>\n",
       "      <th>3259</th>\n",
       "      <td>10865</td>\n",
       "      <td>0</td>\n",
       "    </tr>\n",
       "    <tr>\n",
       "      <th>3260</th>\n",
       "      <td>10868</td>\n",
       "      <td>1</td>\n",
       "    </tr>\n",
       "    <tr>\n",
       "      <th>3261</th>\n",
       "      <td>10874</td>\n",
       "      <td>1</td>\n",
       "    </tr>\n",
       "    <tr>\n",
       "      <th>3262</th>\n",
       "      <td>10875</td>\n",
       "      <td>1</td>\n",
       "    </tr>\n",
       "  </tbody>\n",
       "</table>\n",
       "<p>3263 rows × 2 columns</p>\n",
       "</div>"
      ],
      "text/plain": [
       "         id  target\n",
       "0         0       1\n",
       "1         2       0\n",
       "2         3       1\n",
       "3         9       1\n",
       "4        11       1\n",
       "...     ...     ...\n",
       "3258  10861       1\n",
       "3259  10865       0\n",
       "3260  10868       1\n",
       "3261  10874       1\n",
       "3262  10875       1\n",
       "\n",
       "[3263 rows x 2 columns]"
      ]
     },
     "execution_count": 19,
     "metadata": {},
     "output_type": "execute_result"
    }
   ],
   "source": [
    "tem"
   ]
  },
  {
   "cell_type": "code",
   "execution_count": null,
   "id": "8177b8c6",
   "metadata": {},
   "outputs": [],
   "source": []
  }
 ],
 "metadata": {
  "kernelspec": {
   "display_name": "Python 3 (ipykernel)",
   "language": "python",
   "name": "python3"
  },
  "language_info": {
   "codemirror_mode": {
    "name": "ipython",
    "version": 3
   },
   "file_extension": ".py",
   "mimetype": "text/x-python",
   "name": "python",
   "nbconvert_exporter": "python",
   "pygments_lexer": "ipython3",
   "version": "3.11.5"
  }
 },
 "nbformat": 4,
 "nbformat_minor": 5
}
