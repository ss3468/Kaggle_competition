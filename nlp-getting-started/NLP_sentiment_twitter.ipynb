{
 "cells": [
  {
   "cell_type": "code",
   "execution_count": 1,
   "id": "3cec09fb",
   "metadata": {},
   "outputs": [],
   "source": [
    "# Python ≥3.5 is required\n",
    "import sys\n",
    "assert sys.version_info >= (3, 5)\n",
    "\n",
    "# Scikit-Learn ≥0.20 is required\n",
    "import sklearn\n",
    "assert sklearn.__version__ >= \"0.20\"\n",
    "from sklearn.model_selection import train_test_split\n",
    "try:\n",
    "    # %tensorflow_version only exists in Colab.\n",
    "    %tensorflow_version 2.x\n",
    "except Exception:\n",
    "    pass\n",
    "\n",
    "# TensorFlow ≥2.0 is required\n",
    "import tensorflow as tf\n",
    "from tensorflow import keras\n",
    "assert tf.__version__ >= \"2.0\"\n",
    "\n",
    "# Common imports\n",
    "import numpy as np\n",
    "import pandas as pd\n",
    "import os\n",
    "\n",
    "# to make this notebook's output stable across runs\n",
    "np.random.seed(42)\n",
    "\n",
    "# To plot pretty figures\n",
    "%matplotlib inline\n",
    "import matplotlib as mpl\n",
    "import matplotlib.pyplot as plt\n",
    "mpl.rc('axes', labelsize=14)\n",
    "mpl.rc('xtick', labelsize=12)\n",
    "mpl.rc('ytick', labelsize=12)\n",
    "import nltk\n",
    "from nltk.corpus import stopwords\n",
    "from nltk.corpus import words\n",
    "from nltk.tokenize import word_tokenize\n",
    "from nltk.corpus.reader.wordnet import *\n",
    "import re\n",
    "import string\n",
    "from sklearn.metrics import classification_report"
   ]
  },
  {
   "cell_type": "code",
   "execution_count": 2,
   "id": "915e6f7d",
   "metadata": {},
   "outputs": [],
   "source": [
    "stop_words = set(stopwords.words('english'))\n",
    "wn = nltk.WordNetLemmatizer()\n",
    "worddict = set(nltk.corpus.words.words())\n",
    "english_punctuations = string.punctuation\n",
    "punctuations_list = english_punctuations\n",
    "# def clean_text(text):\n",
    "#     return ' '.join(re.sub(\"(@[A-Za-z0-9]+)|([^0-9A-Za-z \\t])|(\\w+:\\/\\/\\S+)\", \" \", text).split())\n",
    "def clean_text(text):\n",
    "    text= re.sub(\"'\", \"\", text)\n",
    "    text = re.sub('@[A-Za-z0-9_]+', '', text) #removes @mentions\n",
    "    text = re.sub('#','',text) #removes hastag '#' symbol\n",
    "    text = re.sub('RT[\\s]+','',text)\n",
    "    text = re.sub('https?:\\/\\/\\S+', '', text) \n",
    "    text = re.sub('\\n',' ',text)\n",
    "    return text\n",
    "def cleaning_numbers(data):\n",
    "    return re.sub('[0-9]+', '', data)\n",
    "def cleaning_repeating_char(text):\n",
    "    return re.sub(r'(.)\\1+', r'\\1\\1', text)#(.)\\1{3,}\n",
    "def preprocessing(text):\n",
    "    new_text = clean_text(text.strip())\n",
    "    new_text = cleaning_numbers(new_text)\n",
    "    new_text = cleaning_repeating_char(new_text)\n",
    "    tokens = word_tokenize(new_text.lower())\n",
    "    new_text = \" \".join([w for w in tokens if not w in stop_words])\n",
    "    wordset_n = set(wn.lemmatize(w, NOUN) for w in word_tokenize(new_text.lower().strip()))\n",
    "    wordset_v = set(wn.lemmatize(w, VERB) for w in wordset_n)\n",
    "    wordset = set(wn.lemmatize(w, ADJ) for w in wordset_v)\n",
    "    wordset = wordset & worddict\n",
    "    return ' '.join(list(wordset))"
   ]
  },
  {
   "cell_type": "code",
   "execution_count": 3,
   "id": "aefe0ee1",
   "metadata": {},
   "outputs": [],
   "source": [
    "data_train = pd.read_csv(\"train.csv\")\n",
    "data_test = pd.read_csv(\"test.csv\")"
   ]
  },
  {
   "cell_type": "code",
   "execution_count": 4,
   "id": "ec3db2cb",
   "metadata": {},
   "outputs": [],
   "source": [
    "data_train['new_text']=data_train['text'].apply(lambda x: preprocessing(x))\n",
    "data_test['new_text']=data_test['text'].apply(lambda x: preprocessing(x))\n",
    "data_train.to_csv('tem.csv')"
   ]
  },
  {
   "cell_type": "code",
   "execution_count": 5,
   "id": "87dbe4da",
   "metadata": {},
   "outputs": [],
   "source": [
    "features='new_text'#['new_text','keyword_target','location_clean_target']\n",
    "x_train, x_test, y_train, y_test = train_test_split(\n",
    "    data_train[features],\n",
    "    data_train['target'],stratify=data_train['target'],\n",
    "    test_size=0.3,\n",
    "    random_state=1)"
   ]
  },
  {
   "cell_type": "code",
   "execution_count": 6,
   "id": "411036d1",
   "metadata": {},
   "outputs": [],
   "source": [
    "from sklearn.naive_bayes import MultinomialNB\n",
    "from sklearn.naive_bayes import BernoulliNB\n",
    "from sklearn import metrics\n",
    "from sklearn.metrics import confusion_matrix\n",
    "import numpy as np\n",
    "from sklearn.feature_extraction.text import TfidfVectorizer\n",
    "\n",
    "tfidf_vect = TfidfVectorizer(analyzer='word',max_df=0.95)\n",
    "x_train_tf = tfidf_vect.fit_transform(x_train)\n",
    "x_pre_tf = tfidf_vect.transform(x_test)\n",
    "x_test_tf = tfidf_vect.transform(data_test['new_text'])"
   ]
  },
  {
   "cell_type": "code",
   "execution_count": 7,
   "id": "ec8bdd6b",
   "metadata": {},
   "outputs": [
    {
     "name": "stdout",
     "output_type": "stream",
     "text": [
      "              precision    recall  f1-score   support\n",
      "\n",
      "           0       0.78      0.88      0.83      1303\n",
      "           1       0.81      0.68      0.74       981\n",
      "\n",
      "    accuracy                           0.79      2284\n",
      "   macro avg       0.80      0.78      0.78      2284\n",
      "weighted avg       0.80      0.79      0.79      2284\n",
      "\n"
     ]
    },
    {
     "data": {
      "text/plain": [
       "0.7933450087565674"
      ]
     },
     "execution_count": 7,
     "metadata": {},
     "output_type": "execute_result"
    }
   ],
   "source": [
    "# m_NB = MultinomialNB(alpha=1, fit_prior=True, class_prior=None)\n",
    "# m_NB\n",
    "BNBmodel = BernoulliNB(alpha=1.1, fit_prior=True, class_prior=None)\n",
    "BNBmodel.fit(x_train_tf, y_train) # train the classifier\n",
    "\n",
    "# convert list to matrix\n",
    "# tem=x_test[['keyword_target','location_clean_target']]\n",
    "# x_pre_f=pd.DataFrame(x_pre_tf.toarray(), columns=tfidf_vect.get_feature_names_out(),index=tem.index)\n",
    "# x_pre_f=pd.concat([x_pre_f,tem],axis=1)\n",
    "predicted = BNBmodel.predict(x_pre_tf)\n",
    "cr5    = classification_report(y_test,predicted)\n",
    "print(cr5)\n",
    "metrics.accuracy_score(list(y_test), predicted)"
   ]
  },
  {
   "cell_type": "code",
   "execution_count": 8,
   "id": "cd191e0d",
   "metadata": {},
   "outputs": [
    {
     "data": {
      "text/plain": [
       "array([[1148,  155],\n",
       "       [ 317,  664]], dtype=int64)"
      ]
     },
     "execution_count": 8,
     "metadata": {},
     "output_type": "execute_result"
    }
   ],
   "source": [
    "cm = confusion_matrix(list(y_test), predicted)\n",
    "cm"
   ]
  },
  {
   "cell_type": "code",
   "execution_count": 9,
   "id": "893e9822",
   "metadata": {},
   "outputs": [],
   "source": [
    "# tem=data_test[['keyword_target','location_clean_target']]\n",
    "# x_test_f=pd.DataFrame(x_test_tf.toarray(), columns=tfidf_vect.get_feature_names_out(),index=tem.index)\n",
    "# x_test_f=pd.concat([x_test_f,tem],axis=1)\n",
    "predicted =BNBmodel.predict(x_test_tf)\n",
    "pd.DataFrame({'id':data_test['id'],'target':predicted}).to_csv('submission_m_nb.csv',index=False)"
   ]
  },
  {
   "cell_type": "code",
   "execution_count": 10,
   "id": "af549b36",
   "metadata": {},
   "outputs": [
    {
     "name": "stdout",
     "output_type": "stream",
     "text": [
      "              precision    recall  f1-score   support\n",
      "\n",
      "           0       0.78      0.88      0.83      1303\n",
      "           1       0.81      0.66      0.73       981\n",
      "\n",
      "    accuracy                           0.79      2284\n",
      "   macro avg       0.79      0.77      0.78      2284\n",
      "weighted avg       0.79      0.79      0.78      2284\n",
      "\n"
     ]
    },
    {
     "data": {
      "text/plain": [
       "0.7876532399299475"
      ]
     },
     "execution_count": 10,
     "metadata": {},
     "output_type": "execute_result"
    }
   ],
   "source": [
    "from sklearn.linear_model import LogisticRegression\n",
    "model_l =LogisticRegression() #LogisticRegression(C=0.7,solver='lbfgs',fit_intercept=False)#model_l = LogisticRegression(C=1.2)\n",
    "model_l.fit(x_train_tf, y_train)\n",
    "predicted = model_l.predict(x_pre_tf)\n",
    "cr5    = classification_report(y_test,predicted)\n",
    "print(cr5)\n",
    "metrics.accuracy_score(list(y_test), predicted)"
   ]
  },
  {
   "cell_type": "code",
   "execution_count": 11,
   "id": "5b1b3ace",
   "metadata": {},
   "outputs": [
    {
     "name": "stdout",
     "output_type": "stream",
     "text": [
      "              precision    recall  f1-score   support\n",
      "\n",
      "           0       0.80      0.82      0.81      1303\n",
      "           1       0.76      0.73      0.74       981\n",
      "\n",
      "    accuracy                           0.78      2284\n",
      "   macro avg       0.78      0.78      0.78      2284\n",
      "weighted avg       0.78      0.78      0.78      2284\n",
      "\n"
     ]
    },
    {
     "data": {
      "text/plain": [
       "0.7832749562171629"
      ]
     },
     "execution_count": 11,
     "metadata": {},
     "output_type": "execute_result"
    }
   ],
   "source": [
    "from sklearn.linear_model import LogisticRegression\n",
    "model_l =LogisticRegression(C=0.6,solver='liblinear',class_weight='balanced',penalty='l2',max_iter=1000,random_state=0) #LogisticRegression(C=0.7,solver='lbfgs',fit_intercept=False)#model_l = LogisticRegression(C=1.2)\n",
    "model_l.fit(x_train_tf, y_train)\n",
    "predicted = model_l.predict(x_pre_tf)\n",
    "cr5    = classification_report(y_test,predicted)\n",
    "print(cr5)\n",
    "metrics.accuracy_score(list(y_test), predicted)"
   ]
  },
  {
   "cell_type": "code",
   "execution_count": 12,
   "id": "f89769a2",
   "metadata": {},
   "outputs": [
    {
     "data": {
      "text/plain": [
       "array([[1073,  230],\n",
       "       [ 265,  716]], dtype=int64)"
      ]
     },
     "execution_count": 12,
     "metadata": {},
     "output_type": "execute_result"
    }
   ],
   "source": [
    "cm = confusion_matrix(list(y_test), predicted)\n",
    "cm"
   ]
  },
  {
   "cell_type": "code",
   "execution_count": 13,
   "id": "cee90287",
   "metadata": {},
   "outputs": [],
   "source": [
    "predicted = model_l.predict(x_test_tf)\n",
    "pd.DataFrame({'id':data_test['id'],'target':predicted}).to_csv('submission_l_log.csv',index=False)"
   ]
  },
  {
   "cell_type": "code",
   "execution_count": 14,
   "id": "9039152d",
   "metadata": {},
   "outputs": [
    {
     "name": "stdout",
     "output_type": "stream",
     "text": [
      "Model: \"sequential\"\n",
      "_________________________________________________________________\n",
      " Layer (type)                Output Shape              Param #   \n",
      "=================================================================\n",
      " dense (Dense)               (None, 256)               1334272   \n",
      "                                                                 \n",
      " dense_1 (Dense)             (None, 64)                16448     \n",
      "                                                                 \n",
      " dense_2 (Dense)             (None, 128)               8320      \n",
      "                                                                 \n",
      " dropout (Dropout)           (None, 128)               0         \n",
      "                                                                 \n",
      " dense_3 (Dense)             (None, 256)               33024     \n",
      "                                                                 \n",
      " dense_4 (Dense)             (None, 64)                16448     \n",
      "                                                                 \n",
      " dense_5 (Dense)             (None, 2)                 130       \n",
      "                                                                 \n",
      "=================================================================\n",
      "Total params: 1,408,642\n",
      "Trainable params: 1,408,642\n",
      "Non-trainable params: 0\n",
      "_________________________________________________________________\n"
     ]
    }
   ],
   "source": [
    "model = keras.models.Sequential([\n",
    "#     keras.layers.Dense(units=5324, activation='relu', input_dim=len(tfidf_vect.get_feature_names_out())),\n",
    "#     keras.layers.Dense(units=512, activation='relu'),\n",
    "#     keras.layers.Dense(units=512, activation='relu'),\n",
    "#     keras.layers.Dense(2, activation='sigmoid')\n",
    "    keras.layers.Dense(256, input_dim=len(tfidf_vect.get_feature_names_out()), activation='relu'),\n",
    "    keras.layers.Dense(64, activation='relu'),\n",
    "    keras.layers.Dense(128, activation='relu'),\n",
    "    keras.layers.Dropout(0.1),\n",
    "    keras.layers.Dense(256, activation='relu'),\n",
    "    keras.layers.Dense(64, activation='relu'),\n",
    "    keras.layers.Dense(2, activation='sigmoid')\n",
    "])\n",
    "model.compile(loss='sparse_categorical_crossentropy', optimizer='adam', metrics=['accuracy'])\n",
    "model.summary()"
   ]
  },
  {
   "cell_type": "code",
   "execution_count": 15,
   "id": "ab8e190c",
   "metadata": {},
   "outputs": [
    {
     "name": "stdout",
     "output_type": "stream",
     "text": [
      "Epoch 1/10\n",
      "41/41 [==============================] - 2s 21ms/step - loss: 0.6053 - accuracy: 0.6667 - val_loss: 0.4478 - val_accuracy: 0.8000\n",
      "Epoch 2/10\n",
      "41/41 [==============================] - 1s 17ms/step - loss: 0.2915 - accuracy: 0.8866 - val_loss: 0.5123 - val_accuracy: 0.7800\n",
      "Epoch 3/10\n",
      "41/41 [==============================] - 1s 17ms/step - loss: 0.1353 - accuracy: 0.9579 - val_loss: 0.6370 - val_accuracy: 0.7400\n",
      "Epoch 4/10\n",
      "41/41 [==============================] - 1s 17ms/step - loss: 0.0857 - accuracy: 0.9717 - val_loss: 0.7086 - val_accuracy: 0.7500\n",
      "Epoch 5/10\n",
      "41/41 [==============================] - 1s 17ms/step - loss: 0.0655 - accuracy: 0.9738 - val_loss: 0.9509 - val_accuracy: 0.7600\n",
      "Epoch 6/10\n",
      "41/41 [==============================] - 1s 17ms/step - loss: 0.0552 - accuracy: 0.9776 - val_loss: 0.7976 - val_accuracy: 0.7600\n",
      "Epoch 7/10\n",
      "41/41 [==============================] - 1s 17ms/step - loss: 0.0422 - accuracy: 0.9809 - val_loss: 1.0497 - val_accuracy: 0.7700\n",
      "Epoch 8/10\n",
      "41/41 [==============================] - 1s 17ms/step - loss: 0.0401 - accuracy: 0.9807 - val_loss: 0.9926 - val_accuracy: 0.7600\n",
      "Epoch 9/10\n",
      "41/41 [==============================] - 1s 17ms/step - loss: 0.0375 - accuracy: 0.9818 - val_loss: 1.1598 - val_accuracy: 0.7600\n",
      "Epoch 10/10\n",
      "41/41 [==============================] - 1s 17ms/step - loss: 0.0357 - accuracy: 0.9814 - val_loss: 1.1276 - val_accuracy: 0.7500\n"
     ]
    }
   ],
   "source": [
    "history =model.fit(x_train_tf[:-100].toarray(), y_train[:-100],\n",
    "          epochs=10, batch_size=128, verbose=1,\n",
    "          validation_data=(x_train_tf[-100:].toarray(), y_train[-100:]))"
   ]
  },
  {
   "cell_type": "code",
   "execution_count": 16,
   "id": "cbbbe665",
   "metadata": {},
   "outputs": [
    {
     "data": {
      "image/png": "[encoded data removed]",
      "text/plain": [
       "<Figure size 800x500 with 1 Axes>"
      ]
     },
     "metadata": {},
     "output_type": "display_data"
    }
   ],
   "source": [
    "colors=[#\"blue\", \"gray\", #  loss      accuracy\n",
    "        \"red\", \"black\"] #   val_loss  val_accuracy\n",
    "                               #df[ [\"val_loss\",\"val_accuracy\"] ].plot(figsize=(8,5), color=colors)\n",
    "pd.DataFrame( history.history )[[\"val_loss\",\"val_accuracy\"]].plot(figsize=(8,5), color=colors)\n",
    "\n",
    "# the validation error is computed at the end of each epoch, while the training error is\n",
    "# computed using a running mean during each epoch. So the training curve should be shifted by\n",
    "# half an epoch to the left.\n",
    "#shift(-0.5)\n",
    "         #1D array                #list\n",
    "plt.plot(np.arange(-0.5,9,1), history.history[\"loss\"], c=\"blue\", label=\"loss\")    #must be put after previous code for plotting Dataframe\n",
    "plt.plot(np.arange(-0.5,9,1), history.history[\"accuracy\"], c=\"gray\", label=\"accuracy\")#must be put after previous code for plotting Dataframe\n",
    "plt.legend()\n",
    "plt.grid(True)\n",
    "plt.gca().set_ylim(0,1) # set the vertical range to [0-1]\n",
    "plt.show()"
   ]
  },
  {
   "cell_type": "code",
   "execution_count": 17,
   "id": "197b9370",
   "metadata": {},
   "outputs": [
    {
     "name": "stdout",
     "output_type": "stream",
     "text": [
      "72/72 [==============================] - 0s 3ms/step - loss: 1.5107 - accuracy: 0.7382\n",
      "Accuracy: 0.7381786108016968\n"
     ]
    }
   ],
   "source": [
    "scores = model.evaluate(x_pre_tf.toarray(), y_test, verbose=1)\n",
    "print(\"Accuracy:\", scores[1])"
   ]
  },
  {
   "cell_type": "code",
   "execution_count": 18,
   "id": "e2118a26",
   "metadata": {},
   "outputs": [
    {
     "data": {
      "text/plain": [
       "5211"
      ]
     },
     "execution_count": 18,
     "metadata": {},
     "output_type": "execute_result"
    }
   ],
   "source": [
    "len(tfidf_vect.get_feature_names_out())"
   ]
  },
  {
   "cell_type": "code",
   "execution_count": null,
   "id": "e3bff9e6",
   "metadata": {},
   "outputs": [],
   "source": []
  }
 ],
 "metadata": {
  "kernelspec": {
   "display_name": "Python 3 (ipykernel)",
   "language": "python",
   "name": "python3"
  },
  "language_info": {
   "codemirror_mode": {
    "name": "ipython",
    "version": 3
   },
   "file_extension": ".py",
   "mimetype": "text/x-python",
   "name": "python",
   "nbconvert_exporter": "python",
   "pygments_lexer": "ipython3",
   "version": "3.10.9"
  }
 },
 "nbformat": 4,
 "nbformat_minor": 5
}
