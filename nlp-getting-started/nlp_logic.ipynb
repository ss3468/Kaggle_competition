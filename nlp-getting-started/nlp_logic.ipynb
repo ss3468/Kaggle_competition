{
 "cells": [
  {
   "cell_type": "code",
   "execution_count": 1,
   "id": "0e212445",
   "metadata": {},
   "outputs": [],
   "source": [
    "import nltk\n",
    "from nltk.corpus import stopwords\n",
    "from nltk.tokenize import word_tokenize\n",
    "from nltk.corpus.reader.wordnet import *\n",
    "import string\n",
    "import pandas as pd\n",
    "from sklearn.model_selection import train_test_split\n",
    "import re\n",
    "import category_encoders as ce\n",
    "from sklearn.metrics import classification_report\n",
    "from textblob import TextBlob"
   ]
  },
  {
   "cell_type": "code",
   "execution_count": 2,
   "id": "85ea054b",
   "metadata": {},
   "outputs": [],
   "source": [
    "from nltk.corpus import words\n",
    "stop_words = set(stopwords.words('english'))\n",
    "wn = nltk.WordNetLemmatizer()\n",
    "worddict = set(nltk.corpus.words.words())\n",
    "english_punctuations = string.punctuation\n",
    "punctuations_list = english_punctuations\n",
    "def clean_text(text):\n",
    "    return ' '.join(re.sub(\"(@[A-Za-z0-9]+)|([^0-9A-Za-z \\t])|(\\w+:\\/\\/\\S+)\", \" \", text).split())\n",
    "def preprocessing(text):\n",
    "    new_text = clean_text(text.strip())\n",
    "    tokens = word_tokenize(new_text.lower())\n",
    "    new_text = \" \".join([w for w in tokens if not w in stop_words])\n",
    "    wordset_n = set(wn.lemmatize(w, NOUN) for w in word_tokenize(new_text.lower().strip()))\n",
    "    wordset_v = set(wn.lemmatize(w, VERB) for w in wordset_n)\n",
    "    wordset = set(wn.lemmatize(w, ADJ) for w in wordset_v)\n",
    "    wordset = wordset & worddict\n",
    "    return ' '.join(list(wordset))"
   ]
  },
  {
   "cell_type": "code",
   "execution_count": 3,
   "id": "0c87d160",
   "metadata": {},
   "outputs": [],
   "source": [
    "data_train = pd.read_csv(\"train.csv\")\n",
    "data_test = pd.read_csv(\"test.csv\")"
   ]
  },
  {
   "cell_type": "code",
   "execution_count": 4,
   "id": "d6f5ca34",
   "metadata": {},
   "outputs": [],
   "source": [
    "raw_loc = data_train.location.value_counts()\n",
    "top_loc = list(raw_loc[raw_loc>=10].index)\n",
    "for col in ['keyword','location']:\n",
    "    data_train[col] = data_train[col].fillna('None')\n",
    "    data_test[col] = data_test[col].fillna('None')\n",
    "def clean_loc(x):\n",
    "    if x == 'None':\n",
    "        return 'None'\n",
    "    elif x == 'Earth' or x =='Worldwide' or x == 'Everywhere':\n",
    "        return 'World'\n",
    "    elif 'New York' in x or 'NYC' in x:\n",
    "        return 'New York'    \n",
    "    elif 'London' in x:\n",
    "        return 'London'\n",
    "    elif 'Mumbai' in x:\n",
    "        return 'Mumbai'\n",
    "    elif 'Washington' in x and 'D' in x and 'C' in x:\n",
    "        return 'Washington DC'\n",
    "    elif 'San Francisco' in x:\n",
    "        return 'San Francisco'\n",
    "    elif 'Los Angeles' in x:\n",
    "        return 'Los Angeles'\n",
    "    elif 'Seattle' in x:\n",
    "        return 'Seattle'\n",
    "    elif 'Chicago' in x:\n",
    "        return 'Chicago'\n",
    "    elif 'Toronto' in x:\n",
    "        return 'Toronto'\n",
    "    elif 'Sacramento' in x:\n",
    "        return 'Sacramento'\n",
    "    elif 'Atlanta' in x:\n",
    "        return 'Atlanta'\n",
    "    elif 'California' in x:\n",
    "        return 'California'\n",
    "    elif 'Florida' in x:\n",
    "        return 'Florida'\n",
    "    elif 'Texas' in x:\n",
    "        return 'Texas'\n",
    "    elif 'United States' in x or 'USA' in x:\n",
    "        return 'USA'\n",
    "    elif 'United Kingdom' in x or 'UK' in x or 'Britain' in x:\n",
    "        return 'UK'\n",
    "    elif 'Canada' in x:\n",
    "        return 'Canada'\n",
    "    elif 'India' in x:\n",
    "        return 'India'\n",
    "    elif 'Kenya' in x:\n",
    "        return 'Kenya'\n",
    "    elif 'Nigeria' in x:\n",
    "        return 'Nigeria'\n",
    "    elif 'Australia' in x:\n",
    "        return 'Australia'\n",
    "    elif 'Indonesia' in x:\n",
    "        return 'Indonesia'\n",
    "    elif x in top_loc:\n",
    "        return x\n",
    "    else: return 'Others'"
   ]
  },
  {
   "cell_type": "code",
   "execution_count": 5,
   "id": "e4a0c2eb",
   "metadata": {},
   "outputs": [
    {
     "data": {
      "text/html": [
       "<div>\n",
       "<style scoped>\n",
       "    .dataframe tbody tr th:only-of-type {\n",
       "        vertical-align: middle;\n",
       "    }\n",
       "\n",
       "    .dataframe tbody tr th {\n",
       "        vertical-align: top;\n",
       "    }\n",
       "\n",
       "    .dataframe thead th {\n",
       "        text-align: right;\n",
       "    }\n",
       "</style>\n",
       "<table border=\"1\" class=\"dataframe\">\n",
       "  <thead>\n",
       "    <tr style=\"text-align: right;\">\n",
       "      <th></th>\n",
       "      <th>id</th>\n",
       "      <th>keyword</th>\n",
       "      <th>location</th>\n",
       "      <th>text</th>\n",
       "      <th>target</th>\n",
       "      <th>new_text</th>\n",
       "    </tr>\n",
       "  </thead>\n",
       "  <tbody>\n",
       "    <tr>\n",
       "      <th>0</th>\n",
       "      <td>1</td>\n",
       "      <td>None</td>\n",
       "      <td>None</td>\n",
       "      <td>Our Deeds are the Reason of this #earthquake M...</td>\n",
       "      <td>1</td>\n",
       "      <td>deed u forgive earthquake reason may</td>\n",
       "    </tr>\n",
       "    <tr>\n",
       "      <th>1</th>\n",
       "      <td>4</td>\n",
       "      <td>None</td>\n",
       "      <td>None</td>\n",
       "      <td>Forest fire near La Ronge Sask. Canada</td>\n",
       "      <td>1</td>\n",
       "      <td>la forest canada near fire</td>\n",
       "    </tr>\n",
       "    <tr>\n",
       "      <th>2</th>\n",
       "      <td>5</td>\n",
       "      <td>None</td>\n",
       "      <td>None</td>\n",
       "      <td>All residents asked to 'shelter in place' are ...</td>\n",
       "      <td>1</td>\n",
       "      <td>notify place resident officer shelter order ev...</td>\n",
       "    </tr>\n",
       "    <tr>\n",
       "      <th>3</th>\n",
       "      <td>6</td>\n",
       "      <td>None</td>\n",
       "      <td>None</td>\n",
       "      <td>13,000 people receive #wildfires evacuation or...</td>\n",
       "      <td>1</td>\n",
       "      <td>wildfire receive order evacuation people</td>\n",
       "    </tr>\n",
       "    <tr>\n",
       "      <th>4</th>\n",
       "      <td>7</td>\n",
       "      <td>None</td>\n",
       "      <td>None</td>\n",
       "      <td>Just got sent this photo from Ruby #Alaska as ...</td>\n",
       "      <td>1</td>\n",
       "      <td>wildfire ruby pour photo school send get smoke</td>\n",
       "    </tr>\n",
       "    <tr>\n",
       "      <th>5</th>\n",
       "      <td>8</td>\n",
       "      <td>None</td>\n",
       "      <td>None</td>\n",
       "      <td>#RockyFire Update =&gt; California Hwy. 20 closed...</td>\n",
       "      <td>1</td>\n",
       "      <td>wildfire lake county due close update directio...</td>\n",
       "    </tr>\n",
       "    <tr>\n",
       "      <th>6</th>\n",
       "      <td>10</td>\n",
       "      <td>None</td>\n",
       "      <td>None</td>\n",
       "      <td>#flood #disaster Heavy rain causes flash flood...</td>\n",
       "      <td>1</td>\n",
       "      <td>disaster flood rain flash colorado cause sprin...</td>\n",
       "    </tr>\n",
       "    <tr>\n",
       "      <th>7</th>\n",
       "      <td>13</td>\n",
       "      <td>None</td>\n",
       "      <td>None</td>\n",
       "      <td>I'm on top of the hill and I can see a fire in...</td>\n",
       "      <td>1</td>\n",
       "      <td>hill top wood see fire</td>\n",
       "    </tr>\n",
       "    <tr>\n",
       "      <th>8</th>\n",
       "      <td>14</td>\n",
       "      <td>None</td>\n",
       "      <td>None</td>\n",
       "      <td>There's an emergency evacuation happening now ...</td>\n",
       "      <td>1</td>\n",
       "      <td>build evacuation street happen emergency across</td>\n",
       "    </tr>\n",
       "    <tr>\n",
       "      <th>9</th>\n",
       "      <td>15</td>\n",
       "      <td>None</td>\n",
       "      <td>None</td>\n",
       "      <td>I'm afraid that the tornado is coming to our a...</td>\n",
       "      <td>1</td>\n",
       "      <td>come afraid tornado area</td>\n",
       "    </tr>\n",
       "    <tr>\n",
       "      <th>10</th>\n",
       "      <td>16</td>\n",
       "      <td>None</td>\n",
       "      <td>None</td>\n",
       "      <td>Three people died from the heat wave so far</td>\n",
       "      <td>1</td>\n",
       "      <td>die three far wave heat people</td>\n",
       "    </tr>\n",
       "    <tr>\n",
       "      <th>11</th>\n",
       "      <td>17</td>\n",
       "      <td>None</td>\n",
       "      <td>None</td>\n",
       "      <td>Haha South Tampa is getting flooded hah- WAIT ...</td>\n",
       "      <td>1</td>\n",
       "      <td>south flood wait second hah gon live na get</td>\n",
       "    </tr>\n",
       "    <tr>\n",
       "      <th>12</th>\n",
       "      <td>18</td>\n",
       "      <td>None</td>\n",
       "      <td>None</td>\n",
       "      <td>#raining #flooding #Florida #TampaBay #Tampa 1...</td>\n",
       "      <td>1</td>\n",
       "      <td>day flood rain lose count</td>\n",
       "    </tr>\n",
       "    <tr>\n",
       "      <th>13</th>\n",
       "      <td>19</td>\n",
       "      <td>None</td>\n",
       "      <td>None</td>\n",
       "      <td>#Flood in Bago Myanmar #We arrived Bago</td>\n",
       "      <td>1</td>\n",
       "      <td>bago flood arrive</td>\n",
       "    </tr>\n",
       "    <tr>\n",
       "      <th>14</th>\n",
       "      <td>20</td>\n",
       "      <td>None</td>\n",
       "      <td>None</td>\n",
       "      <td>Damage to school bus on 80 in multi car crash ...</td>\n",
       "      <td>1</td>\n",
       "      <td>car bus school crash damage break</td>\n",
       "    </tr>\n",
       "    <tr>\n",
       "      <th>15</th>\n",
       "      <td>23</td>\n",
       "      <td>None</td>\n",
       "      <td>None</td>\n",
       "      <td>What's up man?</td>\n",
       "      <td>0</td>\n",
       "      <td>man</td>\n",
       "    </tr>\n",
       "    <tr>\n",
       "      <th>16</th>\n",
       "      <td>24</td>\n",
       "      <td>None</td>\n",
       "      <td>None</td>\n",
       "      <td>I love fruits</td>\n",
       "      <td>0</td>\n",
       "      <td>fruit love</td>\n",
       "    </tr>\n",
       "    <tr>\n",
       "      <th>17</th>\n",
       "      <td>25</td>\n",
       "      <td>None</td>\n",
       "      <td>None</td>\n",
       "      <td>Summer is lovely</td>\n",
       "      <td>0</td>\n",
       "      <td>lovely summer</td>\n",
       "    </tr>\n",
       "    <tr>\n",
       "      <th>18</th>\n",
       "      <td>26</td>\n",
       "      <td>None</td>\n",
       "      <td>None</td>\n",
       "      <td>My car is so fast</td>\n",
       "      <td>0</td>\n",
       "      <td>car fast</td>\n",
       "    </tr>\n",
       "    <tr>\n",
       "      <th>19</th>\n",
       "      <td>28</td>\n",
       "      <td>None</td>\n",
       "      <td>None</td>\n",
       "      <td>What a goooooooaaaaaal!!!!!!</td>\n",
       "      <td>0</td>\n",
       "      <td></td>\n",
       "    </tr>\n",
       "  </tbody>\n",
       "</table>\n",
       "</div>"
      ],
      "text/plain": [
       "    id keyword location                                               text  \\\n",
       "0    1    None     None  Our Deeds are the Reason of this #earthquake M...   \n",
       "1    4    None     None             Forest fire near La Ronge Sask. Canada   \n",
       "2    5    None     None  All residents asked to 'shelter in place' are ...   \n",
       "3    6    None     None  13,000 people receive #wildfires evacuation or...   \n",
       "4    7    None     None  Just got sent this photo from Ruby #Alaska as ...   \n",
       "5    8    None     None  #RockyFire Update => California Hwy. 20 closed...   \n",
       "6   10    None     None  #flood #disaster Heavy rain causes flash flood...   \n",
       "7   13    None     None  I'm on top of the hill and I can see a fire in...   \n",
       "8   14    None     None  There's an emergency evacuation happening now ...   \n",
       "9   15    None     None  I'm afraid that the tornado is coming to our a...   \n",
       "10  16    None     None        Three people died from the heat wave so far   \n",
       "11  17    None     None  Haha South Tampa is getting flooded hah- WAIT ...   \n",
       "12  18    None     None  #raining #flooding #Florida #TampaBay #Tampa 1...   \n",
       "13  19    None     None            #Flood in Bago Myanmar #We arrived Bago   \n",
       "14  20    None     None  Damage to school bus on 80 in multi car crash ...   \n",
       "15  23    None     None                                     What's up man?   \n",
       "16  24    None     None                                      I love fruits   \n",
       "17  25    None     None                                   Summer is lovely   \n",
       "18  26    None     None                                  My car is so fast   \n",
       "19  28    None     None                       What a goooooooaaaaaal!!!!!!   \n",
       "\n",
       "    target                                           new_text  \n",
       "0        1               deed u forgive earthquake reason may  \n",
       "1        1                         la forest canada near fire  \n",
       "2        1  notify place resident officer shelter order ev...  \n",
       "3        1           wildfire receive order evacuation people  \n",
       "4        1     wildfire ruby pour photo school send get smoke  \n",
       "5        1  wildfire lake county due close update directio...  \n",
       "6        1  disaster flood rain flash colorado cause sprin...  \n",
       "7        1                             hill top wood see fire  \n",
       "8        1    build evacuation street happen emergency across  \n",
       "9        1                           come afraid tornado area  \n",
       "10       1                     die three far wave heat people  \n",
       "11       1        south flood wait second hah gon live na get  \n",
       "12       1                          day flood rain lose count  \n",
       "13       1                                  bago flood arrive  \n",
       "14       1                  car bus school crash damage break  \n",
       "15       0                                                man  \n",
       "16       0                                         fruit love  \n",
       "17       0                                      lovely summer  \n",
       "18       0                                           car fast  \n",
       "19       0                                                     "
      ]
     },
     "execution_count": 5,
     "metadata": {},
     "output_type": "execute_result"
    }
   ],
   "source": [
    "#data_train['location_clean']=data_train['location'].apply(clean_loc)\n",
    "#data_test['location_clean']=data_test['location'].apply(clean_loc)\n",
    "data_train['new_text']=data_train['text'].apply(preprocessing)\n",
    "data_test['new_text']=data_test['text'].apply(preprocessing)\n",
    "#features = ['keyword', 'location_clean']\n",
    "#encoder = ce.TargetEncoder(cols=features)\n",
    "#data_train=data_train.join(encoder.fit_transform(data_train[features],data_train['target']).add_suffix('_target'))\n",
    "#data_test=data_test.join(encoder.transform(data_test[features]).add_suffix('_target'))\n",
    "data_train.to_csv('tem.csv')\n",
    "data_train.head(20)"
   ]
  },
  {
   "cell_type": "code",
   "execution_count": 6,
   "id": "512bd5d7",
   "metadata": {},
   "outputs": [],
   "source": [
    "features='new_text'#['new_text','keyword_target','location_clean_target']\n",
    "x_train, x_test, y_train, y_test = train_test_split(\n",
    "    data_train[features],\n",
    "    data_train['target'],stratify=data_train['target'],\n",
    "    test_size=0.3,\n",
    "    random_state=1)"
   ]
  },
  {
   "cell_type": "code",
   "execution_count": 7,
   "id": "304a1ff2",
   "metadata": {},
   "outputs": [
    {
     "data": {
      "text/plain": [
       "<5329x5324 sparse matrix of type '<class 'numpy.float64'>'\n",
       "\twith 36113 stored elements in Compressed Sparse Row format>"
      ]
     },
     "execution_count": 7,
     "metadata": {},
     "output_type": "execute_result"
    }
   ],
   "source": [
    "from sklearn.naive_bayes import MultinomialNB\n",
    "from sklearn import metrics\n",
    "from sklearn.metrics import confusion_matrix\n",
    "import numpy as np\n",
    "from sklearn.feature_extraction.text import TfidfVectorizer\n",
    "\n",
    "tfidf_vect = TfidfVectorizer(analyzer='word')\n",
    "x_train_tf = tfidf_vect.fit_transform(x_train)\n",
    "x_train_tf"
   ]
  },
  {
   "cell_type": "code",
   "execution_count": 8,
   "id": "71e06fab",
   "metadata": {},
   "outputs": [],
   "source": [
    "# tem=x_train[['keyword_target','location_clean_target']]\n",
    "# x_train_f=pd.DataFrame(x_train_tf.toarray(), columns=tfidf_vect.get_feature_names_out(),index=tem.index)\n",
    "# x_train_f=pd.concat([x_train_f,tem],axis=1)"
   ]
  },
  {
   "cell_type": "code",
   "execution_count": 9,
   "id": "a0bc1a92",
   "metadata": {},
   "outputs": [
    {
     "data": {
      "text/plain": [
       "0.7854640980735552"
      ]
     },
     "execution_count": 9,
     "metadata": {},
     "output_type": "execute_result"
    }
   ],
   "source": [
    "m_NB = MultinomialNB(alpha=0.7, fit_prior=True, class_prior=None)\n",
    "m_NB.fit(x_train_tf, y_train) # train the classifier\n",
    "\n",
    "# convert list to matrix\n",
    "x_pre_tf = tfidf_vect.transform(x_test)\n",
    "# tem=x_test[['keyword_target','location_clean_target']]\n",
    "# x_pre_f=pd.DataFrame(x_pre_tf.toarray(), columns=tfidf_vect.get_feature_names_out(),index=tem.index)\n",
    "# x_pre_f=pd.concat([x_pre_f,tem],axis=1)\n",
    "predicted = m_NB.predict(x_pre_tf)\n",
    "metrics.accuracy_score(list(y_test), predicted)"
   ]
  },
  {
   "cell_type": "code",
   "execution_count": 10,
   "id": "9e71d42c",
   "metadata": {},
   "outputs": [
    {
     "data": {
      "text/plain": [
       "array([[1143,  160],\n",
       "       [ 330,  651]], dtype=int64)"
      ]
     },
     "execution_count": 10,
     "metadata": {},
     "output_type": "execute_result"
    }
   ],
   "source": [
    "cm = confusion_matrix(list(y_test), predicted)\n",
    "cm"
   ]
  },
  {
   "cell_type": "code",
   "execution_count": 11,
   "id": "0a590039",
   "metadata": {},
   "outputs": [],
   "source": [
    "x_test_tf = tfidf_vect.transform(data_test['new_text'])\n",
    "# tem=data_test[['keyword_target','location_clean_target']]\n",
    "# x_test_f=pd.DataFrame(x_test_tf.toarray(), columns=tfidf_vect.get_feature_names_out(),index=tem.index)\n",
    "# x_test_f=pd.concat([x_test_f,tem],axis=1)\n",
    "predicted = m_NB.predict(x_test_tf)\n",
    "pd.DataFrame({'id':data_test['id'],'target':predicted}).to_csv('submission_m_nb.csv',index=False)"
   ]
  },
  {
   "cell_type": "code",
   "execution_count": 12,
   "id": "78946a9a",
   "metadata": {},
   "outputs": [],
   "source": [
    "from sklearn.model_selection import cross_val_score\n",
    "from sklearn.model_selection import ShuffleSplit\n",
    "from sklearn.model_selection import GridSearchCV\n",
    "from sklearn.linear_model import LogisticRegression\n",
    "# cv = ShuffleSplit(n_splits=5, test_size=0.2, random_state=123)\n",
    "# grid={\"C\":np.logspace(-2,5,10), \"solver\":[\"lbfgs\",\"liblinear\"],\"penalty\":[\"l1\",\"l2\"] ,\"fit_intercept\":[True,False]}\n",
    "# lr_cv = GridSearchCV(LogisticRegression(), \n",
    "#grid, cv=cv, scoring = 'f1')\n",
    "# lr_cv.fit(x_train_f, y_train)\n",
    "# print(\"Best parameter: \", lr_cv.best_params_)\n",
    "# print(\"F-1 score: %.3f\" %lr_cv.best_score_)"
   ]
  },
  {
   "cell_type": "code",
   "execution_count": 13,
   "id": "833d6f2d",
   "metadata": {},
   "outputs": [
    {
     "name": "stdout",
     "output_type": "stream",
     "text": [
      "              precision    recall  f1-score   support\n",
      "\n",
      "           0       0.79      0.84      0.82      1303\n",
      "           1       0.77      0.71      0.74       981\n",
      "\n",
      "    accuracy                           0.78      2284\n",
      "   macro avg       0.78      0.77      0.78      2284\n",
      "weighted avg       0.78      0.78      0.78      2284\n",
      "\n"
     ]
    },
    {
     "data": {
      "text/plain": [
       "0.7832749562171629"
      ]
     },
     "execution_count": 13,
     "metadata": {},
     "output_type": "execute_result"
    }
   ],
   "source": [
    "model_l = LogisticRegression(C=0.7,solver='lbfgs',fit_intercept=False)#model_l = LogisticRegression(C=1.2)\n",
    "model_l.fit(x_train_tf, y_train)\n",
    "predicted = model_l.predict(x_pre_tf)\n",
    "cr5    = classification_report(y_test,predicted)\n",
    "print(cr5)\n",
    "metrics.accuracy_score(list(y_test), predicted)"
   ]
  },
  {
   "cell_type": "code",
   "execution_count": 14,
   "id": "0ef8f060",
   "metadata": {},
   "outputs": [
    {
     "data": {
      "text/plain": [
       "array([[1093,  210],\n",
       "       [ 285,  696]], dtype=int64)"
      ]
     },
     "execution_count": 14,
     "metadata": {},
     "output_type": "execute_result"
    }
   ],
   "source": [
    "cm = confusion_matrix(list(y_test), predicted)\n",
    "cm"
   ]
  },
  {
   "cell_type": "code",
   "execution_count": 15,
   "id": "3f0e72fc",
   "metadata": {},
   "outputs": [],
   "source": [
    "predicted = model_l.predict(x_test_tf)\n",
    "pd.DataFrame({'id':data_test['id'],'target':predicted}).to_csv('submission_l_log.csv',index=False)"
   ]
  },
  {
   "cell_type": "code",
   "execution_count": 16,
   "id": "de17e26b",
   "metadata": {},
   "outputs": [
    {
     "data": {
      "text/html": [
       "<style>#sk-container-id-1 {color: black;background-color: white;}#sk-container-id-1 pre{padding: 0;}#sk-container-id-1 div.sk-toggleable {background-color: white;}#sk-container-id-1 label.sk-toggleable__label {cursor: pointer;display: block;width: 100%;margin-bottom: 0;padding: 0.3em;box-sizing: border-box;text-align: center;}#sk-container-id-1 label.sk-toggleable__label-arrow:before {content: \"▸\";float: left;margin-right: 0.25em;color: #696969;}#sk-container-id-1 label.sk-toggleable__label-arrow:hover:before {color: black;}#sk-container-id-1 div.sk-estimator:hover label.sk-toggleable__label-arrow:before {color: black;}#sk-container-id-1 div.sk-toggleable__content {max-height: 0;max-width: 0;overflow: hidden;text-align: left;background-color: #f0f8ff;}#sk-container-id-1 div.sk-toggleable__content pre {margin: 0.2em;color: black;border-radius: 0.25em;background-color: #f0f8ff;}#sk-container-id-1 input.sk-toggleable__control:checked~div.sk-toggleable__content {max-height: 200px;max-width: 100%;overflow: auto;}#sk-container-id-1 input.sk-toggleable__control:checked~label.sk-toggleable__label-arrow:before {content: \"▾\";}#sk-container-id-1 div.sk-estimator input.sk-toggleable__control:checked~label.sk-toggleable__label {background-color: #d4ebff;}#sk-container-id-1 div.sk-label input.sk-toggleable__control:checked~label.sk-toggleable__label {background-color: #d4ebff;}#sk-container-id-1 input.sk-hidden--visually {border: 0;clip: rect(1px 1px 1px 1px);clip: rect(1px, 1px, 1px, 1px);height: 1px;margin: -1px;overflow: hidden;padding: 0;position: absolute;width: 1px;}#sk-container-id-1 div.sk-estimator {font-family: monospace;background-color: #f0f8ff;border: 1px dotted black;border-radius: 0.25em;box-sizing: border-box;margin-bottom: 0.5em;}#sk-container-id-1 div.sk-estimator:hover {background-color: #d4ebff;}#sk-container-id-1 div.sk-parallel-item::after {content: \"\";width: 100%;border-bottom: 1px solid gray;flex-grow: 1;}#sk-container-id-1 div.sk-label:hover label.sk-toggleable__label {background-color: #d4ebff;}#sk-container-id-1 div.sk-serial::before {content: \"\";position: absolute;border-left: 1px solid gray;box-sizing: border-box;top: 0;bottom: 0;left: 50%;z-index: 0;}#sk-container-id-1 div.sk-serial {display: flex;flex-direction: column;align-items: center;background-color: white;padding-right: 0.2em;padding-left: 0.2em;position: relative;}#sk-container-id-1 div.sk-item {position: relative;z-index: 1;}#sk-container-id-1 div.sk-parallel {display: flex;align-items: stretch;justify-content: center;background-color: white;position: relative;}#sk-container-id-1 div.sk-item::before, #sk-container-id-1 div.sk-parallel-item::before {content: \"\";position: absolute;border-left: 1px solid gray;box-sizing: border-box;top: 0;bottom: 0;left: 50%;z-index: -1;}#sk-container-id-1 div.sk-parallel-item {display: flex;flex-direction: column;z-index: 1;position: relative;background-color: white;}#sk-container-id-1 div.sk-parallel-item:first-child::after {align-self: flex-end;width: 50%;}#sk-container-id-1 div.sk-parallel-item:last-child::after {align-self: flex-start;width: 50%;}#sk-container-id-1 div.sk-parallel-item:only-child::after {width: 0;}#sk-container-id-1 div.sk-dashed-wrapped {border: 1px dashed gray;margin: 0 0.4em 0.5em 0.4em;box-sizing: border-box;padding-bottom: 0.4em;background-color: white;}#sk-container-id-1 div.sk-label label {font-family: monospace;font-weight: bold;display: inline-block;line-height: 1.2em;}#sk-container-id-1 div.sk-label-container {text-align: center;}#sk-container-id-1 div.sk-container {/* jupyter's `normalize.less` sets `[hidden] { display: none; }` but bootstrap.min.css set `[hidden] { display: none !important; }` so we also need the `!important` here to be able to override the default hidden behavior on the sphinx rendered scikit-learn.org. See: https://github.com/scikit-learn/scikit-learn/issues/21755 */display: inline-block !important;position: relative;}#sk-container-id-1 div.sk-text-repr-fallback {display: none;}</style><div id=\"sk-container-id-1\" class=\"sk-top-container\"><div class=\"sk-text-repr-fallback\"><pre>LogisticRegression(C=0.7, fit_intercept=False)</pre><b>In a Jupyter environment, please rerun this cell to show the HTML representation or trust the notebook. <br />On GitHub, the HTML representation is unable to render, please try loading this page with nbviewer.org.</b></div><div class=\"sk-container\" hidden><div class=\"sk-item\"><div class=\"sk-estimator sk-toggleable\"><input class=\"sk-toggleable__control sk-hidden--visually\" id=\"sk-estimator-id-1\" type=\"checkbox\" checked><label for=\"sk-estimator-id-1\" class=\"sk-toggleable__label sk-toggleable__label-arrow\">LogisticRegression</label><div class=\"sk-toggleable__content\"><pre>LogisticRegression(C=0.7, fit_intercept=False)</pre></div></div></div></div></div>"
      ],
      "text/plain": [
       "LogisticRegression(C=0.7, fit_intercept=False)"
      ]
     },
     "execution_count": 16,
     "metadata": {},
     "output_type": "execute_result"
    }
   ],
   "source": [
    "model_l"
   ]
  },
  {
   "cell_type": "code",
   "execution_count": 17,
   "id": "d18001cf",
   "metadata": {},
   "outputs": [
    {
     "name": "stdout",
     "output_type": "stream",
     "text": [
      "              precision    recall  f1-score   support\n",
      "\n",
      "           0       0.76      0.89      0.82      1303\n",
      "           1       0.80      0.62      0.70       981\n",
      "\n",
      "    accuracy                           0.77      2284\n",
      "   macro avg       0.78      0.75      0.76      2284\n",
      "weighted avg       0.78      0.77      0.77      2284\n",
      "\n"
     ]
    },
    {
     "data": {
      "text/plain": [
       "0.771891418563923"
      ]
     },
     "execution_count": 17,
     "metadata": {},
     "output_type": "execute_result"
    }
   ],
   "source": [
    "from xgboost import XGBClassifier\n",
    "model_xgb=XGBClassifier()\n",
    "model_xgb.fit(x_train_tf, y_train)\n",
    "predicted = model_xgb.predict(x_pre_tf)\n",
    "cr5    = classification_report(y_test,predicted)\n",
    "print(cr5)\n",
    "metrics.accuracy_score(list(y_test), predicted)"
   ]
  },
  {
   "cell_type": "code",
   "execution_count": 18,
   "id": "8ff38f01",
   "metadata": {},
   "outputs": [
    {
     "data": {
      "text/plain": [
       "array([[1154,  149],\n",
       "       [ 372,  609]], dtype=int64)"
      ]
     },
     "execution_count": 18,
     "metadata": {},
     "output_type": "execute_result"
    }
   ],
   "source": [
    "cm = confusion_matrix(list(y_test), predicted)\n",
    "cm"
   ]
  },
  {
   "cell_type": "code",
   "execution_count": 19,
   "id": "2aa6b8a7",
   "metadata": {},
   "outputs": [],
   "source": [
    "predicted = model_xgb.predict(x_test_tf)\n",
    "pd.DataFrame({'id':data_test['id'],'target':predicted}).to_csv('submission_xgb.csv',index=False)"
   ]
  },
  {
   "cell_type": "code",
   "execution_count": 20,
   "id": "96a9b4a7",
   "metadata": {},
   "outputs": [
    {
     "name": "stdout",
     "output_type": "stream",
     "text": [
      "Model: \"sequential\"\n",
      "_________________________________________________________________\n",
      " Layer (type)                Output Shape              Param #   \n",
      "=================================================================\n",
      " dense (Dense)               (None, 5324)              28350300  \n",
      "                                                                 \n",
      " dropout (Dropout)           (None, 5324)              0         \n",
      "                                                                 \n",
      " dense_1 (Dense)             (None, 3550)              18903750  \n",
      "                                                                 \n",
      " dense_2 (Dense)             (None, 3550)              12606050  \n",
      "                                                                 \n",
      " dropout_1 (Dropout)         (None, 3550)              0         \n",
      "                                                                 \n",
      " dense_3 (Dense)             (None, 1)                 3551      \n",
      "                                                                 \n",
      "=================================================================\n",
      "Total params: 59,863,651\n",
      "Trainable params: 59,863,651\n",
      "Non-trainable params: 0\n",
      "_________________________________________________________________\n"
     ]
    }
   ],
   "source": [
    "import tensorflow as tf\n",
    "from tensorflow import keras\n",
    "assert tf.__version__ >= \"2.0\"\n",
    "from keras.models import Sequential\n",
    "from keras.layers import Dense\n",
    "\n",
    "model = keras.models.Sequential([\n",
    "    keras.layers.Dense(units=5324, activation='relu', input_dim=len(tfidf_vect.get_feature_names_out())),\n",
    "    keras.layers.Dropout(0.7),\n",
    "    keras.layers.Dense(units=3550, activation='relu'),\n",
    "    keras.layers.Dense(units=3550, activation='relu'),\n",
    "    keras.layers.Dropout(0.3),\n",
    "    keras.layers.Dense(1, activation='sigmoid')\n",
    "])\n",
    "model.compile(loss='binary_crossentropy', optimizer='adam', metrics=['accuracy'])\n",
    "model.summary()"
   ]
  },
  {
   "cell_type": "code",
   "execution_count": 21,
   "id": "98310370",
   "metadata": {},
   "outputs": [
    {
     "name": "stdout",
     "output_type": "stream",
     "text": [
      "Epoch 1/10\n",
      "41/41 [==============================] - 23s 543ms/step - loss: 0.5586 - accuracy: 0.7058 - val_loss: 0.4829 - val_accuracy: 0.7650\n",
      "Epoch 2/10\n",
      "41/41 [==============================] - 21s 507ms/step - loss: 0.3054 - accuracy: 0.8789 - val_loss: 0.5647 - val_accuracy: 0.7300\n",
      "Epoch 3/10\n",
      "41/41 [==============================] - 21s 514ms/step - loss: 0.1821 - accuracy: 0.9368 - val_loss: 0.5663 - val_accuracy: 0.7450\n",
      "Epoch 4/10\n",
      "41/41 [==============================] - 20s 494ms/step - loss: 0.1128 - accuracy: 0.9591 - val_loss: 0.7899 - val_accuracy: 0.7300\n",
      "Epoch 5/10\n",
      "41/41 [==============================] - 20s 500ms/step - loss: 0.0773 - accuracy: 0.9713 - val_loss: 0.8009 - val_accuracy: 0.7300\n",
      "Epoch 6/10\n",
      "41/41 [==============================] - 20s 495ms/step - loss: 0.0612 - accuracy: 0.9745 - val_loss: 1.2085 - val_accuracy: 0.7100\n",
      "Epoch 7/10\n",
      "41/41 [==============================] - 21s 509ms/step - loss: 0.0525 - accuracy: 0.9768 - val_loss: 0.8854 - val_accuracy: 0.7350\n",
      "Epoch 8/10\n",
      "41/41 [==============================] - 20s 498ms/step - loss: 0.0477 - accuracy: 0.9784 - val_loss: 0.9827 - val_accuracy: 0.7250\n",
      "Epoch 9/10\n",
      "41/41 [==============================] - 21s 507ms/step - loss: 0.0472 - accuracy: 0.9786 - val_loss: 1.1604 - val_accuracy: 0.7400\n",
      "Epoch 10/10\n",
      "41/41 [==============================] - 20s 499ms/step - loss: 0.0427 - accuracy: 0.9803 - val_loss: 1.2535 - val_accuracy: 0.7300\n"
     ]
    }
   ],
   "source": [
    "history =model.fit(x_train_tf[:-200].toarray(), y_train[:-200],\n",
    "          epochs=10, batch_size=128, verbose=1,\n",
    "          validation_data=(x_train_tf[-200:].toarray(), y_train[-200:]))"
   ]
  },
  {
   "cell_type": "code",
   "execution_count": 22,
   "id": "37cc08da",
   "metadata": {},
   "outputs": [
    {
     "data": {
      "image/png": "[encoded data removed]",
      "text/plain": [
       "<Figure size 800x500 with 1 Axes>"
      ]
     },
     "metadata": {},
     "output_type": "display_data"
    }
   ],
   "source": [
    "import pandas as pd\n",
    "import matplotlib.pyplot as plt\n",
    "\n",
    "colors=[#\"blue\", \"gray\", #  loss      accuracy\n",
    "        \"red\", \"black\"] #   val_loss  val_accuracy\n",
    "                               #df[ [\"val_loss\",\"val_accuracy\"] ].plot(figsize=(8,5), color=colors)\n",
    "pd.DataFrame( history.history )[[\"val_loss\",\"val_accuracy\"]].plot(figsize=(8,5), color=colors)\n",
    "\n",
    "# the validation error is computed at the end of each epoch, while the training error is\n",
    "# computed using a running mean during each epoch. So the training curve should be shifted by\n",
    "# half an epoch to the left.\n",
    "#shift(-0.5)\n",
    "         #1D array                #list\n",
    "plt.plot(np.arange(-0.5,9,1), history.history[\"loss\"], c=\"blue\", label=\"loss\")    #must be put after previous code for plotting Dataframe\n",
    "plt.plot(np.arange(-0.5,9,1), history.history[\"accuracy\"], c=\"gray\", label=\"accuracy\")#must be put after previous code for plotting Dataframe\n",
    "plt.legend()\n",
    "plt.grid(True)\n",
    "plt.gca().set_ylim(0,1) # set the vertical range to [0-1]\n",
    "plt.show()"
   ]
  },
  {
   "cell_type": "code",
   "execution_count": 23,
   "id": "abc758b8",
   "metadata": {},
   "outputs": [
    {
     "name": "stdout",
     "output_type": "stream",
     "text": [
      "72/72 [==============================] - 2s 32ms/step - loss: 1.3353 - accuracy: 0.7658\n",
      "Accuracy: 0.7657617926597595\n"
     ]
    }
   ],
   "source": [
    "scores = model.evaluate(x_pre_tf.toarray(), y_test, verbose=1)\n",
    "print(\"Accuracy:\", scores[1])"
   ]
  },
  {
   "cell_type": "code",
   "execution_count": 24,
   "id": "d3b2ffa2",
   "metadata": {},
   "outputs": [
    {
     "data": {
      "text/plain": [
       "5324"
      ]
     },
     "execution_count": 24,
     "metadata": {},
     "output_type": "execute_result"
    }
   ],
   "source": [
    "len(tfidf_vect.get_feature_names_out())"
   ]
  },
  {
   "cell_type": "code",
   "execution_count": null,
   "id": "553191c2",
   "metadata": {},
   "outputs": [],
   "source": []
  }
 ],
 "metadata": {
  "kernelspec": {
   "display_name": "Python 3 (ipykernel)",
   "language": "python",
   "name": "python3"
  },
  "language_info": {
   "codemirror_mode": {
    "name": "ipython",
    "version": 3
   },
   "file_extension": ".py",
   "mimetype": "text/x-python",
   "name": "python",
   "nbconvert_exporter": "python",
   "pygments_lexer": "ipython3",
   "version": "3.10.9"
  }
 },
 "nbformat": 4,
 "nbformat_minor": 5
}
