{
 "cells": [
  {
   "cell_type": "code",
   "execution_count": 1,
   "id": "5bf4cae9",
   "metadata": {},
   "outputs": [
    {
     "name": "stderr",
     "output_type": "stream",
     "text": [
      "[nltk_data] Downloading package stopwords to C:\\Users\\Sajin.LAPTOP-\n",
      "[nltk_data]     RE0DL8PH\\AppData\\Roaming\\nltk_data...\n",
      "[nltk_data]   Package stopwords is already up-to-date!\n",
      "[nltk_data] Downloading package punkt to C:\\Users\\Sajin.LAPTOP-\n",
      "[nltk_data]     RE0DL8PH\\AppData\\Roaming\\nltk_data...\n",
      "[nltk_data]   Package punkt is already up-to-date!\n"
     ]
    }
   ],
   "source": [
    "import pandas as pd\n",
    "import numpy as np\n",
    "import warnings\n",
    "warnings.filterwarnings(\"ignore\")\n",
    "import nltk\n",
    "import spacy\n",
    "nltk.download('stopwords')\n",
    "nltk.download('punkt')\n",
    "# nltk.download('averaged_perceptron_tagger')\n",
    "#python -m pip install package_name\n",
    "from nltk.tokenize import word_tokenize\n",
    "from nltk.corpus import stopwords"
   ]
  },
  {
   "cell_type": "code",
   "execution_count": 2,
   "id": "dcb35c23",
   "metadata": {},
   "outputs": [],
   "source": [
    "train_data = pd.read_csv('train.csv')\n",
    "test_data = pd.read_csv('test.csv')"
   ]
  },
  {
   "cell_type": "code",
   "execution_count": 3,
   "id": "2ea5e4d9",
   "metadata": {},
   "outputs": [
    {
     "name": "stdout",
     "output_type": "stream",
     "text": [
      "target\n",
      "0    4342\n",
      "1    3271\n",
      "Name: count, dtype: int64\n"
     ]
    },
    {
     "data": {
      "image/png": "[encoded data removed]",
      "text/plain": [
       "<Figure size 600x600 with 1 Axes>"
      ]
     },
     "metadata": {},
     "output_type": "display_data"
    }
   ],
   "source": [
    "import matplotlib.pyplot as plt\n",
    "\n",
    "# Calculate counts of each category\n",
    "counts = train_data['target'].value_counts()\n",
    "print(counts)\n",
    "\n",
    "# Plotting\n",
    "plt.figure(figsize=(6, 6))\n",
    "counts.plot(kind='bar')\n",
    "plt.title('Distribution of Binary Output')\n",
    "plt.xlabel('Categories')\n",
    "plt.ylabel('Counts')\n",
    "plt.xticks(rotation=0)  # Rotate x-labels if needed\n",
    "plt.show()"
   ]
  },
  {
   "cell_type": "code",
   "execution_count": 4,
   "id": "1127d1c6",
   "metadata": {},
   "outputs": [],
   "source": [
    "from twitter_clean import clean_text,text_deduplication\n",
    "train_data['clean_text']=train_data['text'].apply(clean_text)\n",
    "test_data['clean_text']=test_data['text'].apply(clean_text)\n",
    "train_data.to_csv('train_clean.csv',index=False)\n",
    "test_data.to_csv('test_clean.csv',index=False)"
   ]
  },
  {
   "cell_type": "code",
   "execution_count": 5,
   "id": "375bb65f",
   "metadata": {},
   "outputs": [],
   "source": [
    "stop_words = set(stopwords.words('english')+[\"among\", \"onto\", \"shall\", \"thrice\", \"thus\", \"twice\", \"unto\", \"us\", \"would\"])\n",
    "nlp = spacy.load(\"en_core_web_sm\")\n",
    "def preprocessing(text):\n",
    "    tokens=word_tokenize(text.lower().strip())\n",
    "    filtered_tokens=[token for token in tokens if token not in stop_words]\n",
    "    lemmatized_spacy = [token.lemma_ for token in nlp(\" \".join(filtered_tokens))]\n",
    "    return \" \".join(lemmatized_spacy)#' '.join(tokens)\n",
    "train_data['preprocessed_text']=train_data['clean_text'].apply(preprocessing)\n",
    "test_data['preprocessed_text']=test_data['clean_text'].apply(preprocessing)\n",
    "train_data.to_csv('train_preprocessed.csv',index=False)\n",
    "test_data.to_csv('test_preprocessed.csv',index=False)"
   ]
  },
  {
   "cell_type": "code",
   "execution_count": 6,
   "id": "4ff99785",
   "metadata": {},
   "outputs": [
    {
     "name": "stdout",
     "output_type": "stream",
     "text": [
      "[0.86136829] [0.74195533]\n",
      "360wisenews : china 's stock market crash : gem rubble ?\n",
      "[0.4608704] [0.32955014]\n",
      "armageddon\n",
      "[0.5167502] [0.62880941]\n",
      "ashe 2015 : australia 's collapse trent bridge bad history : england bundle australia 60 ..\n",
      "[1.] [0.83975393]\n",
      "bayelsa poll : tension bayelsa patience jonathan plan hijack apc pdp : plan former first lady ..\n",
      "[0.20845715] [0.29468313]\n",
      "caution : breathing may hazardous health .\n",
      "[0.70413243] [0.38821384]\n",
      "china 's stock market crash summer spark interest bargain hunt ..\n",
      "[0.39866759] [0.1517177]\n",
      "choke hazard prompt recall kraft cheese single\n",
      "[0.15401767] [0.28843809]\n",
      "cindy noonan - heartbreak baltimore rioting yahistorical undergroundrailraod\n",
      "[0.87521789] [0.18226569]\n",
      "deluge low self - image ? take quiz :\n",
      "[0.84091196] [0.70698351]\n",
      "detonate ( feat . m.o.p . ) apollo brown\n",
      "[0.40500347] [0.75021125]\n",
      "earthquake drill ? ?\n",
      "[0.15506023] [0.81576379]\n",
      "faan orders evacuation abandon aircraft mma\n",
      "[0.83863034] [0.29003787]\n",
      "feel like sink low self - image ? take quiz :\n",
      "[0.32413726] [0.27536821]\n",
      "fight bioterrorism sir .\n",
      "[0.67745325] [0.19965961]\n",
      "fire hazard associate installation non - compliant external cladding - @\n",
      "[0.59030825] [0.74351894]\n",
      "governor weighs parole california school bus hijacker\n",
      "[0.91801046] [0.21636184]\n",
      "hellfire ! even want think mention let us anything lead islam !\n",
      "[0.55549292] [0.469525]\n",
      "hillary mass murderer .\n",
      "[0.38524297] [0.23308788]\n",
      "islam save person equal reward save human ! islam opposite terrorism !\n",
      "[0.29028992] [0.26933666]\n",
      "kosciusko police investigate pedestrian fatality hit train thursday\n",
      "[0.3224814] [0.23974592]\n",
      "like music video want real action shit like burn building police chase weak ben winston shit\n",
      "[0.37514484] [0.26097831]\n",
      "like video gun range mayhem !\n",
      "[1.] [0.67026201]\n",
      "look state action year ferguson 's upheaval\n",
      "[0.93164917] [0.20803308]\n",
      "meat - love feminist world riot grill arrive\n",
      "[0.3108741] [0.36293441]\n",
      "medium pakistan cover capture terrorist mohamme nave\n",
      "[0.55940707] [0.35383568]\n",
      "mm ' m burn .. ' m burn building ' m build .. oh oh oh ..\n",
      "[1.] [0.1562245]\n",
      "need help ! horse die ! please retweet & sign petition ! take stand & voice ! gilbert23\n",
      "[1.] [0.15260573]\n",
      "owner chicago - area gay bar admit arson scheme lgbt\n",
      "[0.6550084] [0.7117709]\n",
      "patience jonathan move hijack apc bayelsa state\n",
      "[0.2231951] [0.300301]\n",
      "pledge allegiance p.o.p.e . burn building epic city . ? ?\n",
      "[0.168284] [0.16268334]\n",
      "retweet notexplaine : know image infamous hijacker d.b . cooper .\n",
      "[0.2827261] [0.16406025]\n",
      "star war power jedi collection 1 battle droid hasbro - full read ebay\n",
      "[0.23910258] [0.1487524]\n",
      "survival kit whistle fire starter wire see cree torch emergency blanket knife\n",
      "[0.19060962] [0.19611145]\n",
      "tanzania elephant population decline 60 % five year census reveal\n",
      "[0.21272225] [0.90218203]\n",
      "trafford centre film fan angry odeon cinema evacuate follow false fire alarm\n",
      "[0.55464821] [0.27171463]\n",
      "twia board approve 5 percent rate hike : texas windstorm insurance association ( twia ) board director v ..\n",
      "[0.2685459] [0.17335062]\n",
      "ty follow go brutally abused+desolate & lose + lovely mum die .. murder ?\n",
      "[0.17926839] [0.1785502]\n",
      "world annihilation vs self transformation alien attack exterminate human\n",
      "[0.84032729] [0.9452152]\n",
      "world fedex long transport bioterror germ wake anthrax lab mishap\n",
      "[0.18705743] [0.21771035]\n",
      "world war ii book lightning joe autobiography general j. lawton collins\n",
      "[0.12903041] [0.87049856]\n",
      "wowo -- = = 12000 nigerian refugee repatriate cameroon\n"
     ]
    }
   ],
   "source": [
    "new_train=text_deduplication(train_data[['preprocessed_text','target']],'preprocessed_text','target')\n",
    "new_train.to_csv('new_train.csv')"
   ]
  },
  {
   "cell_type": "code",
   "execution_count": 7,
   "id": "692580a2",
   "metadata": {},
   "outputs": [
    {
     "data": {
      "text/html": [
       "<div>\n",
       "<style scoped>\n",
       "    .dataframe tbody tr th:only-of-type {\n",
       "        vertical-align: middle;\n",
       "    }\n",
       "\n",
       "    .dataframe tbody tr th {\n",
       "        vertical-align: top;\n",
       "    }\n",
       "\n",
       "    .dataframe thead th {\n",
       "        text-align: right;\n",
       "    }\n",
       "</style>\n",
       "<table border=\"1\" class=\"dataframe\">\n",
       "  <thead>\n",
       "    <tr style=\"text-align: right;\">\n",
       "      <th></th>\n",
       "      <th>preprocessed_text</th>\n",
       "      <th>target</th>\n",
       "      <th>new_target</th>\n",
       "    </tr>\n",
       "  </thead>\n",
       "  <tbody>\n",
       "    <tr>\n",
       "      <th>0</th>\n",
       "      <td>! resident return destroy home washington wild...</td>\n",
       "      <td>1.0</td>\n",
       "      <td>1.0</td>\n",
       "    </tr>\n",
       "    <tr>\n",
       "      <th>1</th>\n",
       "      <td># ? ? # ? ? # ? ? # ? ? mh370 : aircraft debri...</td>\n",
       "      <td>1.0</td>\n",
       "      <td>1.0</td>\n",
       "    </tr>\n",
       "    <tr>\n",
       "      <th>2</th>\n",
       "      <td># ? ? # ? ? # ? ? # ? ? suicide bomber kill 15...</td>\n",
       "      <td>1.0</td>\n",
       "      <td>1.0</td>\n",
       "    </tr>\n",
       "    <tr>\n",
       "      <th>3</th>\n",
       "      <td># ? ? # ? ? # ? ? # ? ? train derailment : ' i...</td>\n",
       "      <td>1.0</td>\n",
       "      <td>1.0</td>\n",
       "    </tr>\n",
       "    <tr>\n",
       "      <th>4</th>\n",
       "      <td># ? x ? : : counter act burn alexandrian libra...</td>\n",
       "      <td>1.0</td>\n",
       "      <td>1.0</td>\n",
       "    </tr>\n",
       "    <tr>\n",
       "      <th>...</th>\n",
       "      <td>...</td>\n",
       "      <td>...</td>\n",
       "      <td>...</td>\n",
       "    </tr>\n",
       "    <tr>\n",
       "      <th>6872</th>\n",
       "      <td>{ info } baekhyun suho attend idol sport champ...</td>\n",
       "      <td>0.0</td>\n",
       "      <td>0.0</td>\n",
       "    </tr>\n",
       "    <tr>\n",
       "      <th>6873</th>\n",
       "      <td>|| .. watch trail dust storm think part die .....</td>\n",
       "      <td>0.0</td>\n",
       "      <td>0.0</td>\n",
       "    </tr>\n",
       "    <tr>\n",
       "      <th>6874</th>\n",
       "      <td>} new lady shoulder tote handbag faux leather ...</td>\n",
       "      <td>0.0</td>\n",
       "      <td>0.0</td>\n",
       "    </tr>\n",
       "    <tr>\n",
       "      <th>6875</th>\n",
       "      <td>~ wicked weather roll calgary surround area</td>\n",
       "      <td>1.0</td>\n",
       "      <td>1.0</td>\n",
       "    </tr>\n",
       "    <tr>\n",
       "      <th>6876</th>\n",
       "      <td>~still echo screams~</td>\n",
       "      <td>0.0</td>\n",
       "      <td>0.0</td>\n",
       "    </tr>\n",
       "  </tbody>\n",
       "</table>\n",
       "<p>6877 rows × 3 columns</p>\n",
       "</div>"
      ],
      "text/plain": [
       "                                      preprocessed_text  target  new_target\n",
       "0     ! resident return destroy home washington wild...     1.0         1.0\n",
       "1     # ? ? # ? ? # ? ? # ? ? mh370 : aircraft debri...     1.0         1.0\n",
       "2     # ? ? # ? ? # ? ? # ? ? suicide bomber kill 15...     1.0         1.0\n",
       "3     # ? ? # ? ? # ? ? # ? ? train derailment : ' i...     1.0         1.0\n",
       "4     # ? x ? : : counter act burn alexandrian libra...     1.0         1.0\n",
       "...                                                 ...     ...         ...\n",
       "6872  { info } baekhyun suho attend idol sport champ...     0.0         0.0\n",
       "6873  || .. watch trail dust storm think part die .....     0.0         0.0\n",
       "6874  } new lady shoulder tote handbag faux leather ...     0.0         0.0\n",
       "6875        ~ wicked weather roll calgary surround area     1.0         1.0\n",
       "6876                               ~still echo screams~     0.0         0.0\n",
       "\n",
       "[6877 rows x 3 columns]"
      ]
     },
     "execution_count": 7,
     "metadata": {},
     "output_type": "execute_result"
    }
   ],
   "source": [
    "new_train"
   ]
  },
  {
   "cell_type": "code",
   "execution_count": null,
   "id": "e738d91d",
   "metadata": {},
   "outputs": [],
   "source": []
  }
 ],
 "metadata": {
  "kernelspec": {
   "display_name": "Python 3 (ipykernel)",
   "language": "python",
   "name": "python3"
  },
  "language_info": {
   "codemirror_mode": {
    "name": "ipython",
    "version": 3
   },
   "file_extension": ".py",
   "mimetype": "text/x-python",
   "name": "python",
   "nbconvert_exporter": "python",
   "pygments_lexer": "ipython3",
   "version": "3.11.5"
  }
 },
 "nbformat": 4,
 "nbformat_minor": 5
}
