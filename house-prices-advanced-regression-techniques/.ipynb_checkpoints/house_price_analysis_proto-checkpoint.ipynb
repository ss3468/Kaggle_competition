{
 "cells": [
  {
   "cell_type": "code",
   "execution_count": 1,
   "id": "ecd4ea3a-8a84-42c0-8a61-35d4c267e01a",
   "metadata": {},
   "outputs": [],
   "source": [
    "import pandas as pd\n",
    "import numpy as np\n",
    "import warnings\n",
    "warnings.filterwarnings('ignore')\n",
    "\n",
    "#Data Modeling\n",
    "from sklearn.model_selection import train_test_split\n",
    "from sklearn import metrics\n",
    "\n",
    "#Data Visualization\n",
    "from scipy.stats import iqr\n",
    "import seaborn as sns\n",
    "import matplotlib.pyplot as plt\n",
    "%matplotlib inline"
   ]
  },
  {
   "cell_type": "code",
   "execution_count": 2,
   "id": "ff9750a7-c895-4445-8aa2-137e93c213fd",
   "metadata": {},
   "outputs": [],
   "source": [
    "train_data=pd.read_csv('train.csv',keep_default_na=False,na_values=[\" \", \"#N/A\", \"#N/A N/A\", \"#NA\", \"-1.#IND\", \"-1.#QNAN\", \"-NaN\", \"-nan\", \"1.#IND\", \"1.#QNAN\", \"<NA>\", \"N/A\", \"NULL\", \"NaN\", \"n/a\", \"nan\", \"null\",\"NA\"])\n",
    "default_NA={'Alley':'NA','BsmtQual':'NA','BsmtCond':'NA','BsmtExposure':'NA',\n",
    "            'BsmtFinType1':'NA','BsmtFinType2':'NA','FireplaceQu':'NA',\n",
    "            'GarageType':'NA','GarageFinish':'NA',\n",
    "            'GarageQual':'NA','GarageCond':'NA','PoolQC':'NA','Fence':'NA','MiscFeature':'NA'}\n",
    "train_data=train_data.fillna(default_NA)"
   ]
  },
  {
   "cell_type": "code",
   "execution_count": 3,
   "id": "94fa7a62-35e4-42e3-9941-dc54a1fce3a3",
   "metadata": {},
   "outputs": [
    {
     "name": "stdout",
     "output_type": "stream",
     "text": [
      "LotFrontage 259\n",
      "MasVnrType 8\n",
      "MasVnrArea 8\n",
      "Electrical 1\n",
      "GarageYrBlt 81\n"
     ]
    }
   ],
   "source": [
    "nulls = train_data.isnull().sum().to_frame()\n",
    "for index, row in nulls.iterrows():\n",
    "    if row[0] > 0:\n",
    "        print(index, row[0])\n",
    "    else:\n",
    "        continue"
   ]
  },
  {
   "cell_type": "code",
   "execution_count": 4,
   "id": "90c6a1ea-bd79-45c6-94c9-52a26272c0ed",
   "metadata": {},
   "outputs": [
    {
     "name": "stdout",
     "output_type": "stream",
     "text": [
      "set()\n",
      "Dropped last category to avoid dummy trap: Neighborhood_Veenker\n",
      "Dropped last category to avoid dummy trap: BldgType_Twnhs\n",
      "Dropped last category to avoid dummy trap: HouseStyle_SLvl\n",
      "{'RP': 0, 'RH': 1, 'RM': 2, 'RL': 3, 'C (all)': 4, 'A': 5, 'FV': 6, 'I': 7}\n"
     ]
    }
   ],
   "source": [
    "from eda_imputer_selection import eda_feature_exp\n",
    "data=train_data.loc[:,['Neighborhood','LotArea','LandContour','BldgType','HouseStyle','OverallQual','MSZoning']]\n",
    "feature_exp=eda_feature_exp(data.loc[:,['Neighborhood','LotArea','LandContour','BldgType','HouseStyle','OverallQual']].columns,'MSZoning')\n",
    "data=feature_exp.fit_transform(data)"
   ]
  },
  {
   "cell_type": "code",
   "execution_count": 5,
   "id": "973a0b63-f720-41b5-b79e-5ec00cf6fc53",
   "metadata": {},
   "outputs": [
    {
     "name": "stdout",
     "output_type": "stream",
     "text": [
      "{'bootstrap': True, 'ccp_alpha': 0.0, 'class_weight': 'balanced', 'criterion': 'gini', 'max_depth': None, 'max_features': 'sqrt', 'max_leaf_nodes': None, 'max_samples': None, 'min_impurity_decrease': 0.0, 'min_samples_leaf': 1, 'min_samples_split': 2, 'min_weight_fraction_leaf': 0.0, 'n_estimators': 500, 'n_jobs': None, 'oob_score': False, 'random_state': 42, 'verbose': 0, 'warm_start': False}\n",
      "Accuracy: 0.95\n",
      "              precision    recall  f1-score   support\n",
      "\n",
      "           1       0.00      0.00      0.00         3\n",
      "           2       0.90      0.86      0.88        44\n",
      "           3       0.95      0.99      0.97       230\n",
      "           4       1.00      0.50      0.67         2\n",
      "           6       1.00      0.85      0.92        13\n",
      "\n",
      "    accuracy                           0.95       292\n",
      "   macro avg       0.77      0.64      0.69       292\n",
      "weighted avg       0.94      0.95      0.94       292\n",
      "\n",
      "F1 Score (weighted): 0.94\n"
     ]
    }
   ],
   "source": [
    "from sklearn.ensemble import RandomForestClassifier\n",
    "X_train,X_valid,y_train,y_valid=train_test_split(data.loc[:,data.columns!='MSZoning'],data.loc[:,'MSZoning'],stratify=data.loc[:,'MSZoning'],test_size=0.2,random_state=42)\n",
    "\n",
    "rf_classifier = RandomForestClassifier(class_weight='balanced',n_estimators=500,random_state=42)\n",
    "rf_classifier.fit(X_train,y_train)\n",
    "print(rf_classifier.get_params())\n",
    "from sklearn.metrics import accuracy_score, classification_report,confusion_matrix,f1_score,make_scorer,mean_absolute_error,mean_squared_error\n",
    "# Make predictions\n",
    "y_pred = rf_classifier.predict(X_valid)\n",
    "\n",
    "# Evaluate the model\n",
    "accuracy = accuracy_score(y_valid, y_pred)\n",
    "print(f\"Accuracy: {accuracy:.2f}\")\n",
    "\n",
    "# Print detailed classification report\n",
    "print(classification_report(y_valid, y_pred))\n",
    "# Calculate the F1 score (macro and weighted options for multiclass problems)\n",
    "f1 = f1_score(y_valid, y_pred, average='weighted')  # for multiclass classification\n",
    "# For binary classification, you can omit the average or use 'binary'\n",
    "\n",
    "print(f\"F1 Score (weighted): {f1:.2f}\")"
   ]
  },
  {
   "cell_type": "code",
   "execution_count": 6,
   "id": "c38f3047-5400-4422-b520-aef0b25894b9",
   "metadata": {},
   "outputs": [
    {
     "data": {
      "text/plain": [
       "array([[  0,   0,   3,   0,   0],\n",
       "       [  0,  38,   6,   0,   0],\n",
       "       [  0,   3, 227,   0,   0],\n",
       "       [  0,   1,   0,   1,   0],\n",
       "       [  0,   0,   2,   0,  11]], dtype=int64)"
      ]
     },
     "execution_count": 6,
     "metadata": {},
     "output_type": "execute_result"
    }
   ],
   "source": [
    "cm = confusion_matrix(y_valid, y_pred)\n",
    "cm"
   ]
  },
  {
   "cell_type": "code",
   "execution_count": 7,
   "id": "e1c1f443-3eeb-42ee-bf43-d00b7b9d285f",
   "metadata": {},
   "outputs": [
    {
     "name": "stdout",
     "output_type": "stream",
     "text": [
      "['Neighborhood_Somerst', 'LotArea', 'OverallQual', 'Neighborhood_IDOTRR', 'Neighborhood_OldTown', 'Neighborhood_SWISU', 'LandContour', 'Neighborhood_SawyerW', 'Neighborhood_NAmes', 'HouseStyle_2Story']\n",
      "Top 10 important features:\n",
      "                 Feature  Importance  Cumulative Importance\n",
      "21  Neighborhood_Somerst    0.171548               0.171548\n",
      "35               LotArea    0.169157               0.340705\n",
      "37           OverallQual    0.121390               0.462095\n",
      "9    Neighborhood_IDOTRR    0.109340               0.571435\n",
      "17  Neighborhood_OldTown    0.072961               0.644396\n",
      "18    Neighborhood_SWISU    0.037916               0.682312\n",
      "36           LandContour    0.034509               0.716820\n",
      "20  Neighborhood_SawyerW    0.029953               0.746774\n",
      "12    Neighborhood_NAmes    0.028101               0.774875\n",
      "31     HouseStyle_2Story    0.027138               0.802013\n",
      "24         BldgType_1Fam    0.025034               0.827047\n",
      "29     HouseStyle_1.5Fin    0.017759               0.844806\n",
      "7   Neighborhood_Edwards    0.016171               0.860977\n",
      "28     HouseStyle_1Story    0.015692               0.876669\n",
      "33     HouseStyle_2.5Unf    0.013308               0.889977\n"
     ]
    }
   ],
   "source": [
    "from feature_selection import get_feature_importance,get_best_features,calculate_vif\n",
    "feature_importances =get_feature_importance(X_train,rf_classifier.feature_importances_)#pd.DataFrame({'Feature': X_train.columns, 'Importance': rf_classifier.feature_importances_}).sort_values(by='Importance', ascending=False)#pd.Series(rf_classifier.feature_importances_, index=X_train.columns).sort_values(ascending=False)\n",
    "#feature_importances['Cumulative Importance'] = feature_importances['Importance'].cumsum()\n",
    "feature_importances.to_csv('best_features.csv')\n",
    "top_features=get_best_features(feature_importances,0.8)\n",
    "print(top_features)\n",
    "print(\"Top 10 important features:\")\n",
    "print(feature_importances.head(15))"
   ]
  },
  {
   "cell_type": "code",
   "execution_count": 8,
   "id": "cd215b09-08e1-4901-9403-f8a8ac57d0fd",
   "metadata": {},
   "outputs": [],
   "source": [
    "# from statsmodels.stats.outliers_influence import variance_inflation_factor\n",
    "\n",
    "# vif_data = pd.DataFrame()\n",
    "# vif_data['Feature'] = data.loc[:,data.columns!='MSZoning'].columns\n",
    "# vif_data['VIF'] = [variance_inflation_factor(data.loc[:,data.columns!='MSZoning'].values, i) for i in range(data.loc[:,data.columns!='MSZoning'].shape[1])]\n",
    "# vif_data=vif_data.sort_values(by='VIF', ascending=True)\n",
    "best_features=['Neighborhood_Somerst','LotArea','OverallQual','Neighborhood_IDOTRR','Neighborhood_OldTown','Neighborhood_SawyerW','Neighborhood_SWISU','LandContour','BldgType_1Fam','Neighborhood_NAmes']\n",
    "vif_data=calculate_vif(data.loc[:,top_features])\n",
    "vif_data.to_csv('vif.csv')"
   ]
  },
  {
   "cell_type": "code",
   "execution_count": 9,
   "id": "ea927f5e-3988-4efc-8e60-1776bd0c1091",
   "metadata": {},
   "outputs": [
    {
     "data": {
      "text/plain": [
       "array(['Neighborhood_SWISU', 'Neighborhood_IDOTRR',\n",
       "       'Neighborhood_SawyerW', 'Neighborhood_OldTown',\n",
       "       'Neighborhood_Somerst', 'Neighborhood_NAmes', 'LandContour',\n",
       "       'HouseStyle_2Story', 'LotArea', 'OverallQual'], dtype=object)"
      ]
     },
     "execution_count": 9,
     "metadata": {},
     "output_type": "execute_result"
    }
   ],
   "source": [
    "best_features=vif_data[vif_data['VIF']<10]['Feature'].values\n",
    "best_features"
   ]
  },
  {
   "cell_type": "code",
   "execution_count": 10,
   "id": "69a8a6cf-7e87-4f66-8806-3f4b4f6703b0",
   "metadata": {},
   "outputs": [
    {
     "name": "stdout",
     "output_type": "stream",
     "text": [
      "Average Macro F1 Score (10-fold CV): 0.6515\n",
      "Average Weighted F1 Score (10-fold CV): 0.9463\n",
      "Accuracy (10-fold CV): 0.9521\n"
     ]
    }
   ],
   "source": [
    "from sklearn.model_selection import cross_val_score\n",
    "clf = RandomForestClassifier(class_weight='balanced',random_state=42)\n",
    "f1_macro_scorer = make_scorer(f1_score, average='macro')\n",
    "f1_weighted_scorer = make_scorer(f1_score, average='weighted')\n",
    "f1_macro_scores = cross_val_score(clf, data.loc[:,data.columns!='MSZoning'],data.loc[:,'MSZoning'], cv=10, scoring=f1_macro_scorer)\n",
    "f1_weighted_scores = cross_val_score(clf, data.loc[:,data.columns!='MSZoning'],data.loc[:,'MSZoning'], cv=10, scoring=f1_weighted_scorer)\n",
    "accuracy_scores = cross_val_score(clf, data.loc[:,data.columns!='MSZoning'],data.loc[:,'MSZoning'], cv=10, scoring='accuracy')\n",
    "# Calculate the mean of the F1 scores\n",
    "avg_f1_macro = f1_macro_scores.mean()\n",
    "avg_f1_weighted = f1_weighted_scores.mean()\n",
    "avg_accuracy_weighted = accuracy_scores.mean()\n",
    "\n",
    "print(f\"Average Macro F1 Score (10-fold CV): {avg_f1_macro:.4f}\")\n",
    "print(f\"Average Weighted F1 Score (10-fold CV): {avg_f1_weighted:.4f}\")\n",
    "print(f\"Accuracy (10-fold CV): {avg_accuracy_weighted:.4f}\")"
   ]
  },
  {
   "cell_type": "code",
   "execution_count": 11,
   "id": "e1d2c560-8fc3-404a-8db6-464a8b7e83de",
   "metadata": {},
   "outputs": [
    {
     "name": "stdout",
     "output_type": "stream",
     "text": [
      "Average Macro F1 Score (10-fold CV): 0.6614\n",
      "Average Weighted F1 Score (10-fold CV): 0.9356\n",
      "Accuracy (10-fold CV): 0.9404\n"
     ]
    }
   ],
   "source": [
    "from sklearn.model_selection import cross_val_score\n",
    "clf = RandomForestClassifier(class_weight='balanced',random_state=42)\n",
    "f1_macro_scorer = make_scorer(f1_score, average='macro')\n",
    "f1_weighted_scorer = make_scorer(f1_score, average='weighted')\n",
    "f1_macro_scores = cross_val_score(clf, data.loc[:,best_features],data.loc[:,'MSZoning'], cv=10, scoring=f1_macro_scorer)\n",
    "f1_weighted_scores = cross_val_score(clf, data.loc[:,best_features],data.loc[:,'MSZoning'], cv=10, scoring=f1_weighted_scorer)\n",
    "accuracy_scores = cross_val_score(clf, data.loc[:,best_features],data.loc[:,'MSZoning'], cv=10, scoring='accuracy')\n",
    "# Calculate the mean of the F1 scores\n",
    "avg_f1_macro = f1_macro_scores.mean()\n",
    "avg_f1_weighted = f1_weighted_scores.mean()\n",
    "avg_accuracy_weighted = accuracy_scores.mean()\n",
    "\n",
    "print(f\"Average Macro F1 Score (10-fold CV): {avg_f1_macro:.4f}\")\n",
    "print(f\"Average Weighted F1 Score (10-fold CV): {avg_f1_weighted:.4f}\")\n",
    "print(f\"Accuracy (10-fold CV): {avg_accuracy_weighted:.4f}\")"
   ]
  },
  {
   "cell_type": "code",
   "execution_count": 12,
   "id": "afab4a6f-0e8c-4a11-b2c4-2376cc08055c",
   "metadata": {},
   "outputs": [
    {
     "name": "stdout",
     "output_type": "stream",
     "text": [
      "Average Macro F1 Score (10-fold CV): 0.6402\n",
      "Average Weighted F1 Score (10-fold CV): 0.9320\n",
      "Accuracy (10-fold CV): 0.9342\n"
     ]
    }
   ],
   "source": [
    "from sklearn.model_selection import cross_val_score\n",
    "clf = RandomForestClassifier(class_weight='balanced',random_state=42)\n",
    "f1_macro_scorer = make_scorer(f1_score, average='macro')\n",
    "f1_weighted_scorer = make_scorer(f1_score, average='weighted')\n",
    "f1_macro_scores = cross_val_score(clf, data.loc[:,['Neighborhood_Somerst','LotArea','Neighborhood_IDOTRR','Neighborhood_OldTown','Neighborhood_SWISU','LandContour','Neighborhood_SawyerW','HouseStyle_2Story','BldgType_1Fam']],data.loc[:,'MSZoning'], cv=10, scoring=f1_macro_scorer)\n",
    "f1_weighted_scores = cross_val_score(clf, data.loc[:,['Neighborhood_Somerst','LotArea','Neighborhood_IDOTRR','Neighborhood_OldTown','Neighborhood_SWISU','LandContour','Neighborhood_SawyerW','HouseStyle_2Story','BldgType_1Fam']],data.loc[:,'MSZoning'], cv=10, scoring=f1_weighted_scorer)\n",
    "accuracy_scores = cross_val_score(clf, data.loc[:,['Neighborhood_Somerst','LotArea','Neighborhood_IDOTRR','Neighborhood_OldTown','Neighborhood_SWISU','LandContour','Neighborhood_SawyerW','HouseStyle_2Story','BldgType_1Fam']],data.loc[:,'MSZoning'], cv=10, scoring='accuracy')\n",
    "# Calculate the mean of the F1 scores\n",
    "avg_f1_macro = f1_macro_scores.mean()\n",
    "avg_f1_weighted = f1_weighted_scores.mean()\n",
    "avg_accuracy_weighted = accuracy_scores.mean()\n",
    "\n",
    "print(f\"Average Macro F1 Score (10-fold CV): {avg_f1_macro:.4f}\")\n",
    "print(f\"Average Weighted F1 Score (10-fold CV): {avg_f1_weighted:.4f}\")\n",
    "print(f\"Accuracy (10-fold CV): {avg_accuracy_weighted:.4f}\")"
   ]
  },
  {
   "cell_type": "code",
   "execution_count": 13,
   "id": "0ed44ab6-5290-46c0-9a15-8fbaa30f32b4",
   "metadata": {},
   "outputs": [
    {
     "name": "stdout",
     "output_type": "stream",
     "text": [
      "Accuracy: 0.95\n",
      "              precision    recall  f1-score   support\n",
      "\n",
      "           1       0.00      0.00      0.00         3\n",
      "           2       0.90      0.80      0.84        44\n",
      "           3       0.95      0.99      0.97       230\n",
      "           4       0.50      0.50      0.50         2\n",
      "           6       1.00      1.00      1.00        13\n",
      "\n",
      "    accuracy                           0.95       292\n",
      "   macro avg       0.67      0.66      0.66       292\n",
      "weighted avg       0.93      0.95      0.94       292\n",
      "\n",
      "F1 Score (weighted): 0.94\n"
     ]
    }
   ],
   "source": [
    "X_train,X_valid,y_train,y_valid=train_test_split(data.loc[:,['Neighborhood_Somerst','LotArea','Neighborhood_IDOTRR','Neighborhood_OldTown','Neighborhood_SWISU','LandContour','Neighborhood_SawyerW','HouseStyle_2Story','BldgType_1Fam']],data.loc[:,'MSZoning'],stratify=data.loc[:,'MSZoning'],test_size=0.2)\n",
    "\n",
    "rf_classifier = RandomForestClassifier(class_weight='balanced',random_state=42)\n",
    "rf_classifier.fit(X_train,y_train)\n",
    "from sklearn.metrics import accuracy_score, classification_report,confusion_matrix,f1_score,make_scorer,mean_absolute_error,mean_squared_error\n",
    "# Make predictions\n",
    "y_pred = rf_classifier.predict(X_valid)\n",
    "\n",
    "# Evaluate the model\n",
    "accuracy = accuracy_score(y_valid, y_pred)\n",
    "print(f\"Accuracy: {accuracy:.2f}\")\n",
    "\n",
    "# Print detailed classification report\n",
    "print(classification_report(y_valid, y_pred))\n",
    "# Calculate the F1 score (macro and weighted options for multiclass problems)\n",
    "f1 = f1_score(y_valid, y_pred, average='weighted')  # for multiclass classification\n",
    "# For binary classification, you can omit the average or use 'binary'\n",
    "\n",
    "print(f\"F1 Score (weighted): {f1:.2f}\")"
   ]
  },
  {
   "cell_type": "code",
   "execution_count": 14,
   "id": "b9c6d0c6-10df-480d-b1c5-7ed33e604429",
   "metadata": {},
   "outputs": [
    {
     "name": "stdout",
     "output_type": "stream",
     "text": [
      "Accuracy: 0.93\n",
      "              precision    recall  f1-score   support\n",
      "\n",
      "           1       1.00      0.33      0.50         3\n",
      "           2       0.83      0.89      0.86        44\n",
      "           3       0.97      0.96      0.97       230\n",
      "           4       0.00      0.00      0.00         2\n",
      "           6       0.80      0.92      0.86        13\n",
      "\n",
      "    accuracy                           0.93       292\n",
      "   macro avg       0.72      0.62      0.64       292\n",
      "weighted avg       0.94      0.93      0.93       292\n",
      "\n",
      "F1 Score (weighted): 0.93\n"
     ]
    }
   ],
   "source": [
    "X_train,X_valid,y_train,y_valid=train_test_split(data.loc[:,best_features],data.loc[:,'MSZoning'],stratify=data.loc[:,'MSZoning'],test_size=0.2)\n",
    "\n",
    "rf_classifier = RandomForestClassifier(class_weight='balanced',random_state=42)\n",
    "rf_classifier.fit(X_train,y_train)\n",
    "from sklearn.metrics import accuracy_score, classification_report,confusion_matrix,f1_score,make_scorer,mean_absolute_error,mean_squared_error\n",
    "# Make predictions\n",
    "y_pred = rf_classifier.predict(X_valid)\n",
    "\n",
    "# Evaluate the model\n",
    "accuracy = accuracy_score(y_valid, y_pred)\n",
    "print(f\"Accuracy: {accuracy:.2f}\")\n",
    "\n",
    "# Print detailed classification report\n",
    "print(classification_report(y_valid, y_pred))\n",
    "# Calculate the F1 score (macro and weighted options for multiclass problems)\n",
    "f1 = f1_score(y_valid, y_pred, average='weighted')  # for multiclass classification\n",
    "# For binary classification, you can omit the average or use 'binary'\n",
    "\n",
    "print(f\"F1 Score (weighted): {f1:.2f}\")"
   ]
  },
  {
   "cell_type": "code",
   "execution_count": 15,
   "id": "cd90eb83-6f89-4fdf-8a1a-85c19a470c43",
   "metadata": {},
   "outputs": [
    {
     "name": "stdout",
     "output_type": "stream",
     "text": [
      "set()\n",
      "Dropped last category to avoid dummy trap: Neighborhood_Veenker\n",
      "Dropped last category to avoid dummy trap: LotConfig_FR3\n",
      "Dropped last category to avoid dummy trap: BldgType_Twnhs\n"
     ]
    }
   ],
   "source": [
    "data=train_data.loc[:,['LotArea','Neighborhood','LotShape','LotConfig','BldgType','LotFrontage']].dropna().reset_index(drop=True)\n",
    "feature_exp=eda_feature_exp(data.loc[:,['LotArea','Neighborhood','LotShape','LotConfig','BldgType']].columns,'LotFrontage')\n",
    "data=feature_exp.fit_transform(data)\n",
    "data['LotFrontage']=np.log1p(data['LotFrontage'])"
   ]
  },
  {
   "cell_type": "code",
   "execution_count": 16,
   "id": "1d1611bb-de83-4026-ac49-aad84d495570",
   "metadata": {},
   "outputs": [
    {
     "data": {
      "text/plain": [
       "1201"
      ]
     },
     "execution_count": 16,
     "metadata": {},
     "output_type": "execute_result"
    }
   ],
   "source": [
    "len(data)"
   ]
  },
  {
   "cell_type": "code",
   "execution_count": 17,
   "id": "3ad5ba75-832f-4339-9c00-e58337460a77",
   "metadata": {},
   "outputs": [
    {
     "name": "stdout",
     "output_type": "stream",
     "text": [
      "MAE: 0.12\n",
      "MSE: 0.04\n",
      "RMSE: 0.19\n",
      "R²: 0.69\n",
      "MAPE: 2.94%\n"
     ]
    }
   ],
   "source": [
    "from sklearn.ensemble import RandomForestRegressor\n",
    "from sklearn.metrics import mean_absolute_error\n",
    "from sklearn.metrics import mean_squared_error\n",
    "from sklearn.metrics import r2_score\n",
    "X_train,X_valid,y_train,y_valid=train_test_split(data.loc[:,data.columns!='LotFrontage'],data.loc[:,'LotFrontage'],test_size=0.2,random_state=42)\n",
    "rf_regressor=RandomForestRegressor(random_state=42)\n",
    "rf_regressor.fit(X_train,y_train)\n",
    "y_pred = rf_regressor.predict(X_valid)\n",
    "mae = mean_absolute_error(y_valid, y_pred)\n",
    "print(f\"MAE: {mae:.2f}\")\n",
    "mse = mean_squared_error(y_valid, y_pred)\n",
    "print(f\"MSE: {mse:.2f}\")\n",
    "rmse = mean_squared_error(y_valid, y_pred, squared=False)\n",
    "print(f\"RMSE: {rmse:.2f}\")\n",
    "r2 = r2_score(y_valid, y_pred)\n",
    "print(f\"R²: {r2:.2f}\")\n",
    "mape = (abs((y_valid - y_pred) / y_valid)).mean() * 100\n",
    "print(f\"MAPE: {mape:.2f}%\")"
   ]
  },
  {
   "cell_type": "code",
   "execution_count": 18,
   "id": "acba754b-d7ed-40a5-b58a-ef98a13d03bd",
   "metadata": {},
   "outputs": [
    {
     "name": "stdout",
     "output_type": "stream",
     "text": [
      "['LotArea', 'LotShape', 'LotConfig_CulDSac', 'LotConfig_Corner', 'BldgType_1Fam', 'Neighborhood_OldTown', 'Neighborhood_NridgHt', 'Neighborhood_Edwards', 'LotConfig_Inside']\n"
     ]
    },
    {
     "data": {
      "text/html": [
       "<div>\n",
       "<style scoped>\n",
       "    .dataframe tbody tr th:only-of-type {\n",
       "        vertical-align: middle;\n",
       "    }\n",
       "\n",
       "    .dataframe tbody tr th {\n",
       "        vertical-align: top;\n",
       "    }\n",
       "\n",
       "    .dataframe thead th {\n",
       "        text-align: right;\n",
       "    }\n",
       "</style>\n",
       "<table border=\"1\" class=\"dataframe\">\n",
       "  <thead>\n",
       "    <tr style=\"text-align: right;\">\n",
       "      <th></th>\n",
       "      <th>Feature</th>\n",
       "      <th>Importance</th>\n",
       "      <th>Cumulative Importance</th>\n",
       "    </tr>\n",
       "  </thead>\n",
       "  <tbody>\n",
       "    <tr>\n",
       "      <th>32</th>\n",
       "      <td>LotArea</td>\n",
       "      <td>0.749348</td>\n",
       "      <td>0.749348</td>\n",
       "    </tr>\n",
       "    <tr>\n",
       "      <th>33</th>\n",
       "      <td>LotShape</td>\n",
       "      <td>0.037980</td>\n",
       "      <td>0.787328</td>\n",
       "    </tr>\n",
       "    <tr>\n",
       "      <th>2</th>\n",
       "      <td>LotConfig_CulDSac</td>\n",
       "      <td>0.031455</td>\n",
       "      <td>0.818783</td>\n",
       "    </tr>\n",
       "    <tr>\n",
       "      <th>1</th>\n",
       "      <td>LotConfig_Corner</td>\n",
       "      <td>0.026014</td>\n",
       "      <td>0.844797</td>\n",
       "    </tr>\n",
       "    <tr>\n",
       "      <th>28</th>\n",
       "      <td>BldgType_1Fam</td>\n",
       "      <td>0.019256</td>\n",
       "      <td>0.864053</td>\n",
       "    </tr>\n",
       "    <tr>\n",
       "      <th>21</th>\n",
       "      <td>Neighborhood_OldTown</td>\n",
       "      <td>0.014222</td>\n",
       "      <td>0.878275</td>\n",
       "    </tr>\n",
       "    <tr>\n",
       "      <th>19</th>\n",
       "      <td>Neighborhood_NridgHt</td>\n",
       "      <td>0.011245</td>\n",
       "      <td>0.889520</td>\n",
       "    </tr>\n",
       "    <tr>\n",
       "      <th>11</th>\n",
       "      <td>Neighborhood_Edwards</td>\n",
       "      <td>0.009679</td>\n",
       "      <td>0.899198</td>\n",
       "    </tr>\n",
       "    <tr>\n",
       "      <th>0</th>\n",
       "      <td>LotConfig_Inside</td>\n",
       "      <td>0.008710</td>\n",
       "      <td>0.907908</td>\n",
       "    </tr>\n",
       "    <tr>\n",
       "      <th>31</th>\n",
       "      <td>BldgType_TwnhsE</td>\n",
       "      <td>0.008373</td>\n",
       "      <td>0.916281</td>\n",
       "    </tr>\n",
       "    <tr>\n",
       "      <th>16</th>\n",
       "      <td>Neighborhood_NAmes</td>\n",
       "      <td>0.008183</td>\n",
       "      <td>0.924464</td>\n",
       "    </tr>\n",
       "    <tr>\n",
       "      <th>12</th>\n",
       "      <td>Neighborhood_Gilbert</td>\n",
       "      <td>0.008082</td>\n",
       "      <td>0.932547</td>\n",
       "    </tr>\n",
       "    <tr>\n",
       "      <th>17</th>\n",
       "      <td>Neighborhood_NoRidge</td>\n",
       "      <td>0.006370</td>\n",
       "      <td>0.938916</td>\n",
       "    </tr>\n",
       "    <tr>\n",
       "      <th>10</th>\n",
       "      <td>Neighborhood_Crawfor</td>\n",
       "      <td>0.005813</td>\n",
       "      <td>0.944729</td>\n",
       "    </tr>\n",
       "    <tr>\n",
       "      <th>13</th>\n",
       "      <td>Neighborhood_IDOTRR</td>\n",
       "      <td>0.005576</td>\n",
       "      <td>0.950306</td>\n",
       "    </tr>\n",
       "    <tr>\n",
       "      <th>7</th>\n",
       "      <td>Neighborhood_BrkSide</td>\n",
       "      <td>0.005512</td>\n",
       "      <td>0.955818</td>\n",
       "    </tr>\n",
       "    <tr>\n",
       "      <th>9</th>\n",
       "      <td>Neighborhood_CollgCr</td>\n",
       "      <td>0.005474</td>\n",
       "      <td>0.961291</td>\n",
       "    </tr>\n",
       "    <tr>\n",
       "      <th>23</th>\n",
       "      <td>Neighborhood_Sawyer</td>\n",
       "      <td>0.005237</td>\n",
       "      <td>0.966528</td>\n",
       "    </tr>\n",
       "    <tr>\n",
       "      <th>27</th>\n",
       "      <td>Neighborhood_Timber</td>\n",
       "      <td>0.003591</td>\n",
       "      <td>0.970119</td>\n",
       "    </tr>\n",
       "    <tr>\n",
       "      <th>4</th>\n",
       "      <td>Neighborhood_Blmngtn</td>\n",
       "      <td>0.003499</td>\n",
       "      <td>0.973618</td>\n",
       "    </tr>\n",
       "    <tr>\n",
       "      <th>24</th>\n",
       "      <td>Neighborhood_SawyerW</td>\n",
       "      <td>0.003423</td>\n",
       "      <td>0.977041</td>\n",
       "    </tr>\n",
       "    <tr>\n",
       "      <th>15</th>\n",
       "      <td>Neighborhood_Mitchel</td>\n",
       "      <td>0.003374</td>\n",
       "      <td>0.980415</td>\n",
       "    </tr>\n",
       "    <tr>\n",
       "      <th>8</th>\n",
       "      <td>Neighborhood_ClearCr</td>\n",
       "      <td>0.002834</td>\n",
       "      <td>0.983249</td>\n",
       "    </tr>\n",
       "    <tr>\n",
       "      <th>25</th>\n",
       "      <td>Neighborhood_Somerst</td>\n",
       "      <td>0.002719</td>\n",
       "      <td>0.985968</td>\n",
       "    </tr>\n",
       "    <tr>\n",
       "      <th>22</th>\n",
       "      <td>Neighborhood_SWISU</td>\n",
       "      <td>0.002410</td>\n",
       "      <td>0.988378</td>\n",
       "    </tr>\n",
       "    <tr>\n",
       "      <th>3</th>\n",
       "      <td>LotConfig_FR2</td>\n",
       "      <td>0.001984</td>\n",
       "      <td>0.990362</td>\n",
       "    </tr>\n",
       "    <tr>\n",
       "      <th>18</th>\n",
       "      <td>Neighborhood_NPkVill</td>\n",
       "      <td>0.001831</td>\n",
       "      <td>0.992193</td>\n",
       "    </tr>\n",
       "    <tr>\n",
       "      <th>20</th>\n",
       "      <td>Neighborhood_NWAmes</td>\n",
       "      <td>0.001794</td>\n",
       "      <td>0.993987</td>\n",
       "    </tr>\n",
       "    <tr>\n",
       "      <th>29</th>\n",
       "      <td>BldgType_2fmCon</td>\n",
       "      <td>0.001746</td>\n",
       "      <td>0.995732</td>\n",
       "    </tr>\n",
       "    <tr>\n",
       "      <th>26</th>\n",
       "      <td>Neighborhood_StoneBr</td>\n",
       "      <td>0.001685</td>\n",
       "      <td>0.997418</td>\n",
       "    </tr>\n",
       "    <tr>\n",
       "      <th>30</th>\n",
       "      <td>BldgType_Duplex</td>\n",
       "      <td>0.001573</td>\n",
       "      <td>0.998991</td>\n",
       "    </tr>\n",
       "    <tr>\n",
       "      <th>14</th>\n",
       "      <td>Neighborhood_MeadowV</td>\n",
       "      <td>0.000902</td>\n",
       "      <td>0.999893</td>\n",
       "    </tr>\n",
       "    <tr>\n",
       "      <th>5</th>\n",
       "      <td>Neighborhood_Blueste</td>\n",
       "      <td>0.000102</td>\n",
       "      <td>0.999994</td>\n",
       "    </tr>\n",
       "    <tr>\n",
       "      <th>6</th>\n",
       "      <td>Neighborhood_BrDale</td>\n",
       "      <td>0.000006</td>\n",
       "      <td>1.000000</td>\n",
       "    </tr>\n",
       "  </tbody>\n",
       "</table>\n",
       "</div>"
      ],
      "text/plain": [
       "                 Feature  Importance  Cumulative Importance\n",
       "32               LotArea    0.749348               0.749348\n",
       "33              LotShape    0.037980               0.787328\n",
       "2      LotConfig_CulDSac    0.031455               0.818783\n",
       "1       LotConfig_Corner    0.026014               0.844797\n",
       "28         BldgType_1Fam    0.019256               0.864053\n",
       "21  Neighborhood_OldTown    0.014222               0.878275\n",
       "19  Neighborhood_NridgHt    0.011245               0.889520\n",
       "11  Neighborhood_Edwards    0.009679               0.899198\n",
       "0       LotConfig_Inside    0.008710               0.907908\n",
       "31       BldgType_TwnhsE    0.008373               0.916281\n",
       "16    Neighborhood_NAmes    0.008183               0.924464\n",
       "12  Neighborhood_Gilbert    0.008082               0.932547\n",
       "17  Neighborhood_NoRidge    0.006370               0.938916\n",
       "10  Neighborhood_Crawfor    0.005813               0.944729\n",
       "13   Neighborhood_IDOTRR    0.005576               0.950306\n",
       "7   Neighborhood_BrkSide    0.005512               0.955818\n",
       "9   Neighborhood_CollgCr    0.005474               0.961291\n",
       "23   Neighborhood_Sawyer    0.005237               0.966528\n",
       "27   Neighborhood_Timber    0.003591               0.970119\n",
       "4   Neighborhood_Blmngtn    0.003499               0.973618\n",
       "24  Neighborhood_SawyerW    0.003423               0.977041\n",
       "15  Neighborhood_Mitchel    0.003374               0.980415\n",
       "8   Neighborhood_ClearCr    0.002834               0.983249\n",
       "25  Neighborhood_Somerst    0.002719               0.985968\n",
       "22    Neighborhood_SWISU    0.002410               0.988378\n",
       "3          LotConfig_FR2    0.001984               0.990362\n",
       "18  Neighborhood_NPkVill    0.001831               0.992193\n",
       "20   Neighborhood_NWAmes    0.001794               0.993987\n",
       "29       BldgType_2fmCon    0.001746               0.995732\n",
       "26  Neighborhood_StoneBr    0.001685               0.997418\n",
       "30       BldgType_Duplex    0.001573               0.998991\n",
       "14  Neighborhood_MeadowV    0.000902               0.999893\n",
       "5   Neighborhood_Blueste    0.000102               0.999994\n",
       "6    Neighborhood_BrDale    0.000006               1.000000"
      ]
     },
     "execution_count": 18,
     "metadata": {},
     "output_type": "execute_result"
    }
   ],
   "source": [
    "feature_importances =get_feature_importance(X_train,rf_regressor.feature_importances_)\n",
    "top_features=get_best_features(feature_importances,0.9)\n",
    "print(top_features)\n",
    "feature_importances"
   ]
  },
  {
   "cell_type": "code",
   "execution_count": 19,
   "id": "eac34795-359c-4123-8f70-9aad33f8b7bb",
   "metadata": {},
   "outputs": [],
   "source": [
    "vif_data=calculate_vif(data.loc[:,top_features])\n",
    "vif_data.to_csv('vif_2.csv')"
   ]
  },
  {
   "cell_type": "code",
   "execution_count": null,
   "id": "0f655006-7eec-4d99-aa34-7b9c68650756",
   "metadata": {},
   "outputs": [],
   "source": []
  }
 ],
 "metadata": {
  "kernelspec": {
   "display_name": "Python 3 (ipykernel)",
   "language": "python",
   "name": "python3"
  },
  "language_info": {
   "codemirror_mode": {
    "name": "ipython",
    "version": 3
   },
   "file_extension": ".py",
   "mimetype": "text/x-python",
   "name": "python",
   "nbconvert_exporter": "python",
   "pygments_lexer": "ipython3",
   "version": "3.11.5"
  }
 },
 "nbformat": 4,
 "nbformat_minor": 5
}
