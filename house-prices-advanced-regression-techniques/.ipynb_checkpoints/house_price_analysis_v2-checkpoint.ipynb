{
 "cells": [
  {
   "cell_type": "code",
   "execution_count": 1,
   "id": "d08eac20-c090-4cef-819f-dfd2c9469be0",
   "metadata": {},
   "outputs": [],
   "source": [
    "import pandas as pd\n",
    "import numpy as np\n",
    "import warnings\n",
    "warnings.filterwarnings('ignore')\n",
    "\n",
    "#Data Modeling\n",
    "from sklearn.model_selection import train_test_split\n",
    "from sklearn import metrics\n",
    "\n",
    "#Data Visualization\n",
    "from scipy.stats import iqr\n",
    "import seaborn as sns\n",
    "import matplotlib.pyplot as plt\n",
    "%matplotlib inline"
   ]
  },
  {
   "cell_type": "code",
   "execution_count": 2,
   "id": "94d90d27-7a26-4830-a3ab-25ab4d90f537",
   "metadata": {},
   "outputs": [],
   "source": [
    "train_data=pd.read_csv('train.csv',keep_default_na=False,na_values=[\" \", \"#N/A\", \"#N/A N/A\", \"#NA\", \"-1.#IND\", \"-1.#QNAN\", \"-NaN\", \"-nan\", \"1.#IND\", \"1.#QNAN\", \"<NA>\", \"N/A\", \"NULL\", \"NaN\", \"n/a\", \"nan\", \"null\",\"NA\"])\n",
    "default_NA={'Alley':'NA','BsmtQual':'NA','BsmtCond':'NA','BsmtExposure':'NA',\n",
    "            'BsmtFinType1':'NA','BsmtFinType2':'NA','FireplaceQu':'NA',\n",
    "            'GarageType':'NA','GarageFinish':'NA',\n",
    "            'GarageQual':'NA','GarageCond':'NA','PoolQC':'NA','Fence':'NA','MiscFeature':'NA'}\n",
    "train_data=train_data.fillna(default_NA)"
   ]
  },
  {
   "cell_type": "code",
   "execution_count": 3,
   "id": "1d56d2d4-d00d-492d-8b7d-f0b3f4c472e9",
   "metadata": {},
   "outputs": [
    {
     "name": "stdout",
     "output_type": "stream",
     "text": [
      "LotFrontage 259\n",
      "MasVnrType 8\n",
      "MasVnrArea 8\n",
      "Electrical 1\n",
      "GarageYrBlt 81\n"
     ]
    }
   ],
   "source": [
    "nulls = train_data.isnull().sum().to_frame()\n",
    "for index, row in nulls.iterrows():\n",
    "    if row[0] > 0:\n",
    "        print(index, row[0])\n",
    "    else:\n",
    "        continue"
   ]
  },
  {
   "cell_type": "code",
   "execution_count": 4,
   "id": "2dc223d1-a11f-4518-b81f-da9eb5b9550e",
   "metadata": {},
   "outputs": [
    {
     "name": "stdout",
     "output_type": "stream",
     "text": [
      "set()\n",
      "Dropped last category to avoid dummy trap: Neighborhood_Veenker\n",
      "Dropped last category to avoid dummy trap: BldgType_Twnhs\n",
      "Dropped last category to avoid dummy trap: HouseStyle_SLvl\n",
      "Dropped last category to avoid dummy trap: SaleCondition_Partial\n",
      "{'RM': 0, 'RH': 1, 'RP': 2, 'I': 3, 'RL': 4, 'A': 5, 'FV': 6, 'C (all)': 7}\n"
     ]
    }
   ],
   "source": [
    "from eda_imputer_selection import eda_feature_exp\n",
    "data=train_data.loc[:,['Neighborhood','LotArea','BldgType','HouseStyle','OverallQual','OverallCond','SaleCondition','MSZoning']]\n",
    "feature_exp=eda_feature_exp(data.loc[:,['Neighborhood','LotArea','BldgType','HouseStyle','OverallQual','OverallCond','SaleCondition']].columns,'MSZoning')\n",
    "data=feature_exp.fit_transform(data)"
   ]
  },
  {
   "cell_type": "code",
   "execution_count": 5,
   "id": "4b9f57a7-7670-4b58-9910-e85c5226cc9e",
   "metadata": {},
   "outputs": [
    {
     "name": "stdout",
     "output_type": "stream",
     "text": [
      "1168\n"
     ]
    }
   ],
   "source": [
    "X=data.loc[:,data.columns!='MSZoning']\n",
    "y=data.loc[:,'MSZoning']\n",
    "X_train, X_val, y_train, y_val = train_test_split(X,y,stratify=y,test_size=0.2)\n",
    "print(len(X_train))"
   ]
  },
  {
   "cell_type": "code",
   "execution_count": 6,
   "id": "fb081479-e66d-4c27-be8d-7065847703fd",
   "metadata": {},
   "outputs": [
    {
     "data": {
      "text/plain": [
       "array(['Neighborhood_Blueste', 'SaleCondition_AdjLand',\n",
       "       'SaleCondition_Family', 'SaleCondition_Alloca',\n",
       "       'HouseStyle_2.5Fin', 'HouseStyle_2.5Unf', 'HouseStyle_1.5Unf',\n",
       "       'Neighborhood_NPkVill', 'HouseStyle_SFoyer', 'Neighborhood_BrDale',\n",
       "       'Neighborhood_MeadowV', 'Neighborhood_Blmngtn',\n",
       "       'SaleCondition_Abnorml', 'BldgType_2fmCon', 'Neighborhood_StoneBr',\n",
       "       'Neighborhood_SWISU', 'Neighborhood_ClearCr', 'LotArea',\n",
       "       'BldgType_Duplex', 'Neighborhood_IDOTRR', 'Neighborhood_Timber',\n",
       "       'Neighborhood_Mitchel', 'Neighborhood_NoRidge',\n",
       "       'HouseStyle_1.5Fin', 'Neighborhood_Crawfor', 'BldgType_TwnhsE',\n",
       "       'Neighborhood_SawyerW', 'Neighborhood_BrkSide',\n",
       "       'Neighborhood_Sawyer', 'Neighborhood_NWAmes',\n",
       "       'Neighborhood_Gilbert', 'Neighborhood_NridgHt',\n",
       "       'Neighborhood_Somerst', 'Neighborhood_Edwards',\n",
       "       'Neighborhood_OldTown', 'HouseStyle_2Story',\n",
       "       'Neighborhood_CollgCr'], dtype=object)"
      ]
     },
     "execution_count": 6,
     "metadata": {},
     "output_type": "execute_result"
    }
   ],
   "source": [
    "from feature_selection import get_feature_importance,get_best_features,calculate_vif\n",
    "vif_data=calculate_vif(data.loc[:,data.columns!='MSZoning'])\n",
    "vif_data.to_csv('vif_MSZoning.csv')\n",
    "best_features=vif_data[vif_data['VIF']<10]['Feature'].values\n",
    "best_features"
   ]
  },
  {
   "cell_type": "code",
   "execution_count": 7,
   "id": "b48ad86e-e904-4b02-af44-f68f5d3863af",
   "metadata": {},
   "outputs": [
    {
     "name": "stdout",
     "output_type": "stream",
     "text": [
      "                  Feature  Importance\n",
      "17                LotArea    0.203420\n",
      "32   Neighborhood_Somerst    0.197186\n",
      "19    Neighborhood_IDOTRR    0.125838\n",
      "34   Neighborhood_OldTown    0.078623\n",
      "12  SaleCondition_Abnorml    0.049809\n",
      "26   Neighborhood_SawyerW    0.041200\n",
      "15     Neighborhood_SWISU    0.041011\n",
      "35      HouseStyle_2Story    0.036977\n",
      "23      HouseStyle_1.5Fin    0.026575\n",
      "18        BldgType_Duplex    0.023022\n",
      "13        BldgType_2fmCon    0.020905\n",
      "25        BldgType_TwnhsE    0.018378\n",
      "5       HouseStyle_2.5Unf    0.015811\n",
      "24   Neighborhood_Crawfor    0.013783\n",
      "33   Neighborhood_Edwards    0.013256\n",
      "27   Neighborhood_BrkSide    0.012866\n",
      "36   Neighborhood_CollgCr    0.010236\n",
      "8       HouseStyle_SFoyer    0.010095\n",
      "10   Neighborhood_MeadowV    0.010074\n",
      "9     Neighborhood_BrDale    0.009655\n",
      "6       HouseStyle_1.5Unf    0.006387\n",
      "4       HouseStyle_2.5Fin    0.005489\n",
      "30   Neighborhood_Gilbert    0.004394\n",
      "31   Neighborhood_NridgHt    0.003709\n",
      "28    Neighborhood_Sawyer    0.003416\n",
      "29    Neighborhood_NWAmes    0.002869\n",
      "21   Neighborhood_Mitchel    0.002621\n",
      "11   Neighborhood_Blmngtn    0.002466\n",
      "14   Neighborhood_StoneBr    0.001974\n",
      "7    Neighborhood_NPkVill    0.001822\n",
      "22   Neighborhood_NoRidge    0.001353\n",
      "2    SaleCondition_Family    0.001292\n",
      "3    SaleCondition_Alloca    0.001234\n",
      "16   Neighborhood_ClearCr    0.001010\n",
      "20    Neighborhood_Timber    0.000596\n",
      "0    Neighborhood_Blueste    0.000433\n",
      "1   SaleCondition_AdjLand    0.000217\n"
     ]
    }
   ],
   "source": [
    "from sklearn.model_selection import StratifiedKFold,KFold\n",
    "from sklearn.ensemble import RandomForestClassifier,RandomForestRegressor\n",
    "# Perform cross-validation\n",
    "kf = StratifiedKFold(n_splits=10, shuffle=True)\n",
    "x_train_reduced=X_train.loc[:,best_features]\n",
    "x_valid_reduced=X_val.loc[:,best_features]\n",
    "importances = np.zeros(len(x_train_reduced.columns))\n",
    "for train_index, test_index in kf.split(x_train_reduced, y_train):\n",
    "    X_cv_train, X_cv_valid = x_train_reduced.iloc[train_index], x_train_reduced.iloc[test_index]\n",
    "    y_cv_train, y_cv_valid = y_train.iloc[train_index], y_train.iloc[test_index]\n",
    "    \n",
    "    # Initialize and train the Random Forest model\n",
    "    model = RandomForestClassifier(class_weight='balanced')\n",
    "    model.fit(X_cv_train, y_cv_train)\n",
    "    \n",
    "    # Accumulate feature importances\n",
    "    importances += model.feature_importances_\n",
    "\n",
    "# Average feature importances across folds\n",
    "importances /= kf.get_n_splits()\n",
    "\n",
    "# Create a DataFrame for the feature importances\n",
    "feature_importances = pd.DataFrame({'Feature': x_train_reduced.columns, 'Importance': importances})\n",
    "feature_importances = feature_importances.sort_values(by='Importance', ascending=False)\n",
    "\n",
    "print(feature_importances)"
   ]
  },
  {
   "cell_type": "code",
   "execution_count": 8,
   "id": "744cfa07-26bc-4dd4-85a6-0ff988f1dea6",
   "metadata": {},
   "outputs": [
    {
     "name": "stdout",
     "output_type": "stream",
     "text": [
      "['LotArea', 'Neighborhood_Somerst', 'Neighborhood_IDOTRR', 'Neighborhood_OldTown', 'SaleCondition_Abnorml', 'Neighborhood_SawyerW', 'Neighborhood_SWISU', 'HouseStyle_2Story', 'HouseStyle_1.5Fin']\n",
      "Top 10 important features:\n",
      "                  Feature  Importance  Cumulative Importance\n",
      "17                LotArea    0.203420               0.203420\n",
      "32   Neighborhood_Somerst    0.197186               0.400605\n",
      "19    Neighborhood_IDOTRR    0.125838               0.526444\n",
      "34   Neighborhood_OldTown    0.078623               0.605067\n",
      "12  SaleCondition_Abnorml    0.049809               0.654875\n",
      "26   Neighborhood_SawyerW    0.041200               0.696075\n",
      "15     Neighborhood_SWISU    0.041011               0.737086\n",
      "35      HouseStyle_2Story    0.036977               0.774063\n",
      "23      HouseStyle_1.5Fin    0.026575               0.800637\n",
      "18        BldgType_Duplex    0.023022               0.823659\n",
      "13        BldgType_2fmCon    0.020905               0.844564\n",
      "25        BldgType_TwnhsE    0.018378               0.862942\n",
      "5       HouseStyle_2.5Unf    0.015811               0.878752\n",
      "24   Neighborhood_Crawfor    0.013783               0.892535\n",
      "33   Neighborhood_Edwards    0.013256               0.905792\n"
     ]
    }
   ],
   "source": [
    "feature_importances =get_feature_importance(x_train_reduced,importances)\n",
    "feature_importances.to_csv('best_features_MSZoning.csv')\n",
    "top_features=get_best_features(feature_importances,0.8)\n",
    "print(top_features)\n",
    "print(\"Top 10 important features:\")\n",
    "print(feature_importances.head(15))"
   ]
  },
  {
   "cell_type": "code",
   "execution_count": 9,
   "id": "89687bdd-a634-4701-a564-69a0f9155a10",
   "metadata": {},
   "outputs": [
    {
     "name": "stdout",
     "output_type": "stream",
     "text": [
      "Average Macro F1 Score (10-fold CV): 0.6233\n",
      "Average Weighted F1 Score (10-fold CV): 0.9231\n",
      "Accuracy (10-fold CV): 0.9255\n"
     ]
    }
   ],
   "source": [
    "from sklearn.model_selection import cross_val_score\n",
    "from sklearn.metrics import accuracy_score, classification_report,confusion_matrix,f1_score,make_scorer,mean_absolute_error,mean_squared_error,r2_score\n",
    "clf = RandomForestClassifier(class_weight='balanced',random_state=42)\n",
    "f1_macro_scorer = make_scorer(f1_score, average='macro')\n",
    "f1_weighted_scorer = make_scorer(f1_score, average='weighted')\n",
    "f1_macro_scores = cross_val_score(clf, x_train_reduced.loc[:,top_features],y_train, cv=10, scoring=f1_macro_scorer)\n",
    "f1_weighted_scores = cross_val_score(clf, x_train_reduced.loc[:,top_features],y_train, cv=10, scoring=f1_weighted_scorer)\n",
    "accuracy_scores = cross_val_score(clf, x_train_reduced.loc[:,top_features],y_train, cv=10, scoring='accuracy')\n",
    "# Calculate the mean of the F1 scores\n",
    "avg_f1_macro = f1_macro_scores.mean()\n",
    "avg_f1_weighted = f1_weighted_scores.mean()\n",
    "avg_accuracy_weighted = accuracy_scores.mean()\n",
    "\n",
    "print(f\"Average Macro F1 Score (10-fold CV): {avg_f1_macro:.4f}\")\n",
    "print(f\"Average Weighted F1 Score (10-fold CV): {avg_f1_weighted:.4f}\")\n",
    "print(f\"Accuracy (10-fold CV): {avg_accuracy_weighted:.4f}\")"
   ]
  },
  {
   "cell_type": "code",
   "execution_count": 10,
   "id": "f0a37209-2fba-4793-bf5b-5f19f06eefcb",
   "metadata": {},
   "outputs": [
    {
     "name": "stdout",
     "output_type": "stream",
     "text": [
      "Accuracy: 0.92\n",
      "              precision    recall  f1-score   support\n",
      "\n",
      "           0       0.86      0.70      0.78        44\n",
      "           1       0.67      0.67      0.67         3\n",
      "           4       0.94      0.98      0.96       230\n",
      "           6       1.00      0.85      0.92        13\n",
      "           7       0.00      0.00      0.00         2\n",
      "\n",
      "    accuracy                           0.92       292\n",
      "   macro avg       0.69      0.64      0.66       292\n",
      "weighted avg       0.92      0.92      0.92       292\n",
      "\n",
      "F1 Score (weighted): 0.92\n"
     ]
    }
   ],
   "source": [
    "rf_classifier = RandomForestClassifier(class_weight='balanced',random_state=42)\n",
    "rf_classifier.fit(x_train_reduced.loc[:,top_features],y_train)\n",
    "# Make predictions\n",
    "y_pred = rf_classifier.predict(x_valid_reduced.loc[:,top_features])\n",
    "\n",
    "# Evaluate the model\n",
    "accuracy = accuracy_score(y_val, y_pred)\n",
    "print(f\"Accuracy: {accuracy:.2f}\")\n",
    "\n",
    "# Print detailed classification report\n",
    "print(classification_report(y_val, y_pred))\n",
    "# Calculate the F1 score (macro and weighted options for multiclass problems)\n",
    "f1 = f1_score(y_val, y_pred, average='weighted')  # for multiclass classification\n",
    "# For binary classification, you can omit the average or use 'binary'\n",
    "\n",
    "print(f\"F1 Score (weighted): {f1:.2f}\")"
   ]
  },
  {
   "cell_type": "code",
   "execution_count": 11,
   "id": "46602165-1219-4d16-ab70-d1a7c1359f88",
   "metadata": {},
   "outputs": [
    {
     "name": "stdout",
     "output_type": "stream",
     "text": [
      "MSZoning_A\n",
      "MSZoning_I\n",
      "MSZoning_RP\n",
      "{'MSZoning'}\n",
      "Dropped last category to avoid dummy trap: Neighborhood_Veenker\n",
      "Dropped last category to avoid dummy trap: MSZoning_RM\n",
      "Dropped last category to avoid dummy trap: Street_Pave\n",
      "Dropped last category to avoid dummy trap: Alley_NA\n",
      "Dropped last category to avoid dummy trap: BldgType_Twnhs\n",
      "Dropped last category to avoid dummy trap: HouseStyle_SLvl\n",
      "Dropped last category to avoid dummy trap: LotConfig_FR3\n"
     ]
    },
    {
     "data": {
      "text/plain": [
       "1201"
      ]
     },
     "execution_count": 11,
     "metadata": {},
     "output_type": "execute_result"
    }
   ],
   "source": [
    "data=train_data.loc[:,['LotArea','Neighborhood','MSZoning','Street','Alley','BldgType','HouseStyle','GarageArea','LotShape','LotConfig','LotFrontage']].dropna().reset_index(drop=True)\n",
    "feature_exp=eda_feature_exp(data.loc[:,['LotArea','Neighborhood','MSZoning','Street','Alley','BldgType','HouseStyle','GarageArea','LotShape','LotConfig']].columns,'LotFrontage')\n",
    "data=feature_exp.fit_transform(data)\n",
    "data['LotFrontage']=np.log1p(data['LotFrontage'])\n",
    "len(data)"
   ]
  },
  {
   "cell_type": "code",
   "execution_count": 12,
   "id": "ecf4068d-8d6a-4df3-a4e4-9b366b6aa6eb",
   "metadata": {},
   "outputs": [
    {
     "data": {
      "text/plain": [
       "array(['Street_Grvl', 'Neighborhood_Blueste', 'HouseStyle_2.5Unf',\n",
       "       'HouseStyle_2.5Fin', 'Alley_Grvl', 'HouseStyle_1.5Unf',\n",
       "       'MSZoning_RH', 'MSZoning_C (all)', 'Alley_Pave',\n",
       "       'Neighborhood_NPkVill', 'HouseStyle_SFoyer', 'LotShape',\n",
       "       'Neighborhood_ClearCr', 'BldgType_2fmCon', 'Neighborhood_Blmngtn',\n",
       "       'Neighborhood_MeadowV', 'Neighborhood_BrDale',\n",
       "       'Neighborhood_StoneBr', 'BldgType_Duplex', 'LotArea',\n",
       "       'Neighborhood_SWISU', 'BldgType_TwnhsE', 'Neighborhood_Timber',\n",
       "       'HouseStyle_1.5Fin', 'Neighborhood_NoRidge', 'LotConfig_FR2',\n",
       "       'Neighborhood_Mitchel', 'Neighborhood_Crawfor', 'MSZoning_FV',\n",
       "       'Neighborhood_NWAmes', 'Neighborhood_IDOTRR',\n",
       "       'Neighborhood_Sawyer', 'Neighborhood_Gilbert',\n",
       "       'Neighborhood_SawyerW', 'LotConfig_CulDSac',\n",
       "       'Neighborhood_BrkSide', 'Neighborhood_NridgHt', 'GarageArea',\n",
       "       'HouseStyle_2Story'], dtype=object)"
      ]
     },
     "execution_count": 12,
     "metadata": {},
     "output_type": "execute_result"
    }
   ],
   "source": [
    "vif_data=calculate_vif(data.loc[:,data.columns!='LotFrontage'])\n",
    "vif_data.to_csv('vif_LotFrontage.csv')\n",
    "best_features=vif_data[vif_data['VIF']<10]['Feature'].values\n",
    "best_features"
   ]
  },
  {
   "cell_type": "code",
   "execution_count": 13,
   "id": "0c09e5ab-a2ed-424c-87db-83d2302d0d4f",
   "metadata": {},
   "outputs": [],
   "source": [
    "X=data.loc[:,data.columns!='LotFrontage']\n",
    "y=data.loc[:,'LotFrontage']\n",
    "X_train, X_val, y_train, y_val = train_test_split(X,y,test_size=0.2,random_state=42)\n",
    "x_train_reduced=X_train.loc[:,best_features]\n",
    "x_valid_reduced=X_val.loc[:,best_features]"
   ]
  },
  {
   "cell_type": "code",
   "execution_count": 14,
   "id": "9a39d889-e9b2-4920-a588-570c6706db4d",
   "metadata": {},
   "outputs": [
    {
     "name": "stdout",
     "output_type": "stream",
     "text": [
      "                 Feature  Importance\n",
      "19               LotArea    0.718114\n",
      "37            GarageArea    0.097901\n",
      "34     LotConfig_CulDSac    0.035839\n",
      "11              LotShape    0.029900\n",
      "4             Alley_Grvl    0.015900\n",
      "38     HouseStyle_2Story    0.011085\n",
      "21       BldgType_TwnhsE    0.010923\n",
      "32  Neighborhood_Gilbert    0.007406\n",
      "36  Neighborhood_NridgHt    0.006931\n",
      "23     HouseStyle_1.5Fin    0.006140\n",
      "22   Neighborhood_Timber    0.004133\n",
      "35  Neighborhood_BrkSide    0.004004\n",
      "26  Neighborhood_Mitchel    0.004004\n",
      "31   Neighborhood_Sawyer    0.003910\n",
      "24  Neighborhood_NoRidge    0.003872\n",
      "12  Neighborhood_ClearCr    0.003842\n",
      "30   Neighborhood_IDOTRR    0.003823\n",
      "25         LotConfig_FR2    0.003566\n",
      "27  Neighborhood_Crawfor    0.003214\n",
      "13       BldgType_2fmCon    0.002969\n",
      "33  Neighborhood_SawyerW    0.002724\n",
      "2      HouseStyle_2.5Unf    0.002551\n",
      "18       BldgType_Duplex    0.002386\n",
      "3      HouseStyle_2.5Fin    0.002044\n",
      "8             Alley_Pave    0.001726\n",
      "14  Neighborhood_Blmngtn    0.001468\n",
      "17  Neighborhood_StoneBr    0.001426\n",
      "20    Neighborhood_SWISU    0.001415\n",
      "29   Neighborhood_NWAmes    0.001290\n",
      "9   Neighborhood_NPkVill    0.001020\n",
      "6            MSZoning_RH    0.000974\n",
      "7       MSZoning_C (all)    0.000867\n",
      "10     HouseStyle_SFoyer    0.000738\n",
      "28           MSZoning_FV    0.000684\n",
      "5      HouseStyle_1.5Unf    0.000663\n",
      "15  Neighborhood_MeadowV    0.000517\n",
      "0            Street_Grvl    0.000027\n",
      "1   Neighborhood_Blueste    0.000003\n",
      "16   Neighborhood_BrDale    0.000002\n"
     ]
    }
   ],
   "source": [
    "from sklearn.ensemble import RandomForestRegressor\n",
    "kf_2 = KFold(n_splits=10, shuffle=True, random_state=4)\n",
    "importances = np.zeros(len(x_train_reduced.columns))\n",
    "# Perform cross-validation\n",
    "for train_index, test_index in kf_2.split(x_train_reduced, y_train):\n",
    "    X_cv_train, X_cv_valid = x_train_reduced.iloc[train_index], x_train_reduced.iloc[test_index]\n",
    "    y_cv_train, y_cv_valid = y_train.iloc[train_index], y_train.iloc[test_index]\n",
    "    \n",
    "    # Initialize and train the Random Forest model\n",
    "    model = RandomForestRegressor()\n",
    "    model.fit(X_cv_train, y_cv_train)\n",
    "    \n",
    "    # Accumulate feature importances\n",
    "    importances += model.feature_importances_\n",
    "\n",
    "# Average feature importances across folds\n",
    "importances /= kf_2.get_n_splits()\n",
    "\n",
    "# Create a DataFrame for the feature importances\n",
    "feature_importances = pd.DataFrame({'Feature': x_train_reduced.columns, 'Importance': importances})\n",
    "feature_importances = feature_importances.sort_values(by='Importance', ascending=False)\n",
    "\n",
    "print(feature_importances)"
   ]
  },
  {
   "cell_type": "code",
   "execution_count": 15,
   "id": "e81aa1dc-71e7-470f-930c-f4f73b3eb7b4",
   "metadata": {},
   "outputs": [
    {
     "name": "stdout",
     "output_type": "stream",
     "text": [
      "['LotArea', 'GarageArea', 'LotConfig_CulDSac', 'LotShape', 'Alley_Grvl', 'HouseStyle_2Story']\n",
      "Top 10 important features:\n",
      "                 Feature  Importance  Cumulative Importance\n",
      "19               LotArea    0.718114               0.718114\n",
      "37            GarageArea    0.097901               0.816015\n",
      "34     LotConfig_CulDSac    0.035839               0.851854\n",
      "11              LotShape    0.029900               0.881754\n",
      "4             Alley_Grvl    0.015900               0.897654\n",
      "38     HouseStyle_2Story    0.011085               0.908739\n",
      "21       BldgType_TwnhsE    0.010923               0.919662\n",
      "32  Neighborhood_Gilbert    0.007406               0.927068\n",
      "36  Neighborhood_NridgHt    0.006931               0.933999\n",
      "23     HouseStyle_1.5Fin    0.006140               0.940139\n",
      "22   Neighborhood_Timber    0.004133               0.944272\n",
      "35  Neighborhood_BrkSide    0.004004               0.948276\n",
      "26  Neighborhood_Mitchel    0.004004               0.952279\n",
      "31   Neighborhood_Sawyer    0.003910               0.956189\n",
      "24  Neighborhood_NoRidge    0.003872               0.960061\n"
     ]
    }
   ],
   "source": [
    "feature_importances =get_feature_importance(x_train_reduced,importances)#pd.DataFrame({'Feature': X_train.columns, 'Importance': rf_classifier.feature_importances_}).sort_values(by='Importance', ascending=False)#pd.Series(rf_classifier.feature_importances_, index=X_train.columns).sort_values(ascending=False)\n",
    "#feature_importances['Cumulative Importance'] = feature_importances['Importance'].cumsum()\n",
    "feature_importances.to_csv('best_features_LotFrontage.csv')\n",
    "top_features=get_best_features(feature_importances,0.9)\n",
    "print(top_features)\n",
    "print(\"Top 10 important features:\")\n",
    "print(feature_importances.head(15))"
   ]
  },
  {
   "cell_type": "code",
   "execution_count": 16,
   "id": "953381ca-cfaa-4271-bde2-04fbaadeec0b",
   "metadata": {},
   "outputs": [],
   "source": [
    "def mean_absolute_percentage_error(y_true, y_pred):\n",
    "    y_true, y_pred = np.array(y_true), np.array(y_pred)\n",
    "    return np.mean(np.abs((y_true - y_pred) / y_true)) * 100"
   ]
  },
  {
   "cell_type": "code",
   "execution_count": 17,
   "id": "b48093d8-b0b7-4d28-88a5-cc2e501b844c",
   "metadata": {},
   "outputs": [
    {
     "name": "stdout",
     "output_type": "stream",
     "text": [
      "Average MAE: 0.13\n",
      "Average MSE: 0.04\n",
      "Average RMSE: 0.20\n",
      "Average R^2: 0.63\n",
      "Average MAPE: 3.13%\n"
     ]
    }
   ],
   "source": [
    "rf_regressor_cv = RandomForestRegressor(random_state=42)\n",
    "mae_scorer = make_scorer(mean_absolute_error, greater_is_better=False)\n",
    "mse_scorer = make_scorer(mean_squared_error, greater_is_better=False)\n",
    "mape_scorer = make_scorer(mean_absolute_percentage_error, greater_is_better=False)\n",
    "mae_scores = cross_val_score(rf_regressor_cv,x_train_reduced.loc[:,top_features],y_train, cv=10, scoring=mae_scorer)\n",
    "cv_mse_scores = cross_val_score(rf_regressor_cv, x_train_reduced.loc[:,top_features],y_train, cv=10, scoring=mse_scorer)\n",
    "cv_r2_scores = cross_val_score(rf_regressor_cv, x_train_reduced.loc[:,top_features],y_train, cv=10, scoring='r2')\n",
    "cv_mape_scores = cross_val_score(rf_regressor_cv, x_train_reduced.loc[:,top_features],y_train, cv=10, scoring=mape_scorer)\n",
    "\n",
    "cv_mae_scores = -mae_scores\n",
    "mse_scores = -cv_mse_scores\n",
    "rmse_scores = np.sqrt(mse_scores)\n",
    "mape_scores = -cv_mape_scores\n",
    "\n",
    "print(f\"Average MAE: {cv_mae_scores.mean():.2f}\")\n",
    "print(f\"Average MSE: {mse_scores.mean():.2f}\")\n",
    "print(f\"Average RMSE: {rmse_scores.mean():.2f}\")\n",
    "print(f\"Average R^2: {cv_r2_scores.mean():.2f}\")\n",
    "print(f\"Average MAPE: {mape_scores.mean():.2f}%\")"
   ]
  },
  {
   "cell_type": "code",
   "execution_count": 18,
   "id": "3c043d17-ad41-4641-8586-cb7bdf647f5a",
   "metadata": {},
   "outputs": [
    {
     "data": {
      "text/plain": [
       "-0.7287278423055492"
      ]
     },
     "execution_count": 18,
     "metadata": {},
     "output_type": "execute_result"
    }
   ],
   "source": [
    "data['LotFrontage'].skew()"
   ]
  },
  {
   "cell_type": "code",
   "execution_count": 19,
   "id": "828896b0-6781-4162-8c9f-d8d67d5e9711",
   "metadata": {},
   "outputs": [
    {
     "data": {
      "image/png": "[encoded data removed]",
      "text/plain": [
       "<Figure size 1000x600 with 1 Axes>"
      ]
     },
     "metadata": {},
     "output_type": "display_data"
    }
   ],
   "source": [
    "import seaborn as sns\n",
    "import matplotlib.pyplot as plt\n",
    "\n",
    "sns.set(style=\"whitegrid\")\n",
    "\n",
    "# Create a figure for the plot\n",
    "plt.figure(figsize=(10, 6))\n",
    "\n",
    "# Plot the distribution of LotFrontage\n",
    "sns.histplot(data['LotFrontage'], bins=30, kde=True, color='blue')\n",
    "\n",
    "# Add titles and labels\n",
    "plt.title('Distribution of LotFrontage', fontsize=16)\n",
    "plt.xlabel('LotFrontage', fontsize=14)\n",
    "plt.ylabel('Frequency', fontsize=14)\n",
    "\n",
    "# Show the plot\n",
    "plt.show()"
   ]
  },
  {
   "cell_type": "code",
   "execution_count": 20,
   "id": "4e403804-a3c7-4785-9911-a88af2753a52",
   "metadata": {},
   "outputs": [
    {
     "data": {
      "image/png": "[encoded data removed]",
      "text/plain": [
       "<Figure size 1000x600 with 1 Axes>"
      ]
     },
     "metadata": {},
     "output_type": "display_data"
    }
   ],
   "source": [
    "sns.set(style=\"whitegrid\")\n",
    "\n",
    "# Create a figure for the plot\n",
    "plt.figure(figsize=(10, 6))\n",
    "\n",
    "# Plot the distribution of LotFrontage\n",
    "sns.histplot(np.sqrt(data['LotArea']), bins=30, kde=True, color='blue')\n",
    "\n",
    "# Add titles and labels\n",
    "plt.title('Distribution of LotArea', fontsize=16)\n",
    "plt.xlabel('LotFrontage', fontsize=14)\n",
    "plt.ylabel('Frequency', fontsize=14)\n",
    "\n",
    "# Show the plot\n",
    "plt.show()"
   ]
  },
  {
   "cell_type": "code",
   "execution_count": 21,
   "id": "a027fbbe-83ed-45c0-b2d1-a4c3a876b70c",
   "metadata": {},
   "outputs": [
    {
     "data": {
      "text/plain": [
       "3.5202860419103876"
      ]
     },
     "execution_count": 21,
     "metadata": {},
     "output_type": "execute_result"
    }
   ],
   "source": [
    "np.sqrt(data['LotArea']).skew()"
   ]
  },
  {
   "cell_type": "code",
   "execution_count": null,
   "id": "74bc8af3-d7e1-4bdc-b07d-eeb4b502b2c9",
   "metadata": {},
   "outputs": [],
   "source": []
  }
 ],
 "metadata": {
  "kernelspec": {
   "display_name": "Python 3 (ipykernel)",
   "language": "python",
   "name": "python3"
  },
  "language_info": {
   "codemirror_mode": {
    "name": "ipython",
    "version": 3
   },
   "file_extension": ".py",
   "mimetype": "text/x-python",
   "name": "python",
   "nbconvert_exporter": "python",
   "pygments_lexer": "ipython3",
   "version": "3.11.5"
  }
 },
 "nbformat": 4,
 "nbformat_minor": 5
}
