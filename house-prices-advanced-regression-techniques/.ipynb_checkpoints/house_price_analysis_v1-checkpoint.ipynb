{
 "cells": [
  {
   "cell_type": "code",
   "execution_count": 1,
   "id": "118c21c1-ad14-4b84-b992-7534f7b3e256",
   "metadata": {},
   "outputs": [],
   "source": [
    "import pandas as pd\n",
    "import numpy as np\n",
    "import warnings\n",
    "warnings.filterwarnings('ignore')\n",
    "\n",
    "#Data Modeling\n",
    "from sklearn.model_selection import train_test_split\n",
    "from sklearn import metrics\n",
    "\n",
    "#Data Visualization\n",
    "from scipy.stats import iqr\n",
    "import seaborn as sns\n",
    "import matplotlib.pyplot as plt\n",
    "%matplotlib inline"
   ]
  },
  {
   "cell_type": "code",
   "execution_count": 2,
   "id": "fca6b7b7-a3e5-4519-816d-bd7388b1b5a8",
   "metadata": {},
   "outputs": [],
   "source": [
    "train_data=pd.read_csv('train.csv',keep_default_na=False,na_values=[\" \", \"#N/A\", \"#N/A N/A\", \"#NA\", \"-1.#IND\", \"-1.#QNAN\", \"-NaN\", \"-nan\", \"1.#IND\", \"1.#QNAN\", \"<NA>\", \"N/A\", \"NULL\", \"NaN\", \"n/a\", \"nan\", \"null\",\"NA\"])\n",
    "default_NA={'Alley':'NA','BsmtQual':'NA','BsmtCond':'NA','BsmtExposure':'NA',\n",
    "            'BsmtFinType1':'NA','BsmtFinType2':'NA','FireplaceQu':'NA',\n",
    "            'GarageType':'NA','GarageFinish':'NA',\n",
    "            'GarageQual':'NA','GarageCond':'NA','PoolQC':'NA','Fence':'NA','MiscFeature':'NA'}\n",
    "train_data=train_data.fillna(default_NA)"
   ]
  },
  {
   "cell_type": "code",
   "execution_count": 3,
   "id": "c22ffd51-1691-468c-bd86-cd53a289d227",
   "metadata": {},
   "outputs": [
    {
     "name": "stdout",
     "output_type": "stream",
     "text": [
      "LotFrontage 259\n",
      "MasVnrType 8\n",
      "MasVnrArea 8\n",
      "Electrical 1\n",
      "GarageYrBlt 81\n"
     ]
    }
   ],
   "source": [
    "nulls = train_data.isnull().sum().to_frame()\n",
    "for index, row in nulls.iterrows():\n",
    "    if row[0] > 0:\n",
    "        print(index, row[0])\n",
    "    else:\n",
    "        continue"
   ]
  },
  {
   "cell_type": "code",
   "execution_count": 4,
   "id": "d7ebcff7-64c7-4738-be1c-7112c130b8bb",
   "metadata": {},
   "outputs": [
    {
     "name": "stdout",
     "output_type": "stream",
     "text": [
      "set()\n",
      "Dropped last category to avoid dummy trap: Neighborhood_Veenker\n",
      "Dropped last category to avoid dummy trap: BldgType_Twnhs\n",
      "Dropped last category to avoid dummy trap: HouseStyle_SLvl\n",
      "{'RP': 0, 'FV': 1, 'I': 2, 'RM': 3, 'A': 4, 'RH': 5, 'RL': 6, 'C (all)': 7}\n"
     ]
    }
   ],
   "source": [
    "from eda_imputer_selection import eda_feature_exp\n",
    "data=train_data.loc[:,['Neighborhood','LotArea','LandContour','BldgType','HouseStyle','OverallQual','MSZoning']]\n",
    "feature_exp=eda_feature_exp(data.loc[:,['Neighborhood','LotArea','LandContour','BldgType','HouseStyle','OverallQual']].columns,'MSZoning')\n",
    "data=feature_exp.fit_transform(data)"
   ]
  },
  {
   "cell_type": "code",
   "execution_count": 5,
   "id": "188d1c1a-1daa-404f-bb59-5cc2947515a2",
   "metadata": {},
   "outputs": [],
   "source": [
    "from sklearn.ensemble import RandomForestClassifier\n",
    "from sklearn.model_selection import StratifiedKFold,KFold\n",
    "kf = StratifiedKFold(n_splits=10, shuffle=True, random_state=4)\n",
    "importances = np.zeros(len(data.loc[:,data.columns!='MSZoning'].columns))"
   ]
  },
  {
   "cell_type": "code",
   "execution_count": 6,
   "id": "c2ca1a64-c6d4-40b8-8656-9d0842f4ca03",
   "metadata": {},
   "outputs": [
    {
     "name": "stdout",
     "output_type": "stream",
     "text": [
      "                 Feature  Importance\n",
      "21  Neighborhood_Somerst    0.177044\n",
      "35               LotArea    0.160740\n",
      "37           OverallQual    0.118988\n",
      "9    Neighborhood_IDOTRR    0.113180\n",
      "17  Neighborhood_OldTown    0.071856\n",
      "20  Neighborhood_SawyerW    0.042072\n",
      "36           LandContour    0.037290\n",
      "18    Neighborhood_SWISU    0.036934\n",
      "24         BldgType_1Fam    0.026428\n",
      "12    Neighborhood_NAmes    0.025647\n",
      "31     HouseStyle_2Story    0.022205\n",
      "7   Neighborhood_Edwards    0.016079\n",
      "29     HouseStyle_1.5Fin    0.015863\n",
      "28     HouseStyle_1Story    0.015468\n",
      "3   Neighborhood_BrkSide    0.012693\n",
      "25       BldgType_2fmCon    0.011844\n",
      "27       BldgType_TwnhsE    0.011197\n",
      "33     HouseStyle_2.5Unf    0.011174\n",
      "26       BldgType_Duplex    0.010950\n",
      "5   Neighborhood_CollgCr    0.008807\n",
      "6   Neighborhood_Crawfor    0.008056\n",
      "34     HouseStyle_SFoyer    0.005008\n",
      "30     HouseStyle_1.5Unf    0.004903\n",
      "2    Neighborhood_BrDale    0.004658\n",
      "10  Neighborhood_MeadowV    0.004232\n",
      "8   Neighborhood_Gilbert    0.003786\n",
      "15  Neighborhood_NridgHt    0.003671\n",
      "19   Neighborhood_Sawyer    0.003648\n",
      "32     HouseStyle_2.5Fin    0.003016\n",
      "16   Neighborhood_NWAmes    0.002369\n",
      "11  Neighborhood_Mitchel    0.002189\n",
      "14  Neighborhood_NPkVill    0.002008\n",
      "0   Neighborhood_Blmngtn    0.001555\n",
      "22  Neighborhood_StoneBr    0.001417\n",
      "13  Neighborhood_NoRidge    0.001272\n",
      "4   Neighborhood_ClearCr    0.000786\n",
      "23   Neighborhood_Timber    0.000621\n",
      "1   Neighborhood_Blueste    0.000346\n"
     ]
    }
   ],
   "source": [
    "# Perform cross-validation\n",
    "X=data.loc[:,data.columns!='MSZoning']\n",
    "y=data.loc[:,'MSZoning']\n",
    "for train_index, test_index in kf.split(X, y):\n",
    "    X_train, X_test = X.iloc[train_index], X.iloc[test_index]\n",
    "    y_train, y_test = y[train_index], y[test_index]\n",
    "    \n",
    "    # Initialize and train the Random Forest model\n",
    "    model = RandomForestClassifier(class_weight='balanced')\n",
    "    model.fit(X_train, y_train)\n",
    "    \n",
    "    # Accumulate feature importances\n",
    "    importances += model.feature_importances_\n",
    "\n",
    "# Average feature importances across folds\n",
    "importances /= kf.get_n_splits()\n",
    "\n",
    "# Create a DataFrame for the feature importances\n",
    "feature_importances = pd.DataFrame({'Feature': data.loc[:,data.columns!='MSZoning'].columns, 'Importance': importances})\n",
    "feature_importances = feature_importances.sort_values(by='Importance', ascending=False)\n",
    "\n",
    "print(feature_importances)"
   ]
  },
  {
   "cell_type": "code",
   "execution_count": 7,
   "id": "2484b740-10ba-40ac-bf76-62321648854c",
   "metadata": {},
   "outputs": [
    {
     "name": "stdout",
     "output_type": "stream",
     "text": [
      "['Neighborhood_Somerst', 'LotArea', 'OverallQual', 'Neighborhood_IDOTRR', 'Neighborhood_OldTown', 'Neighborhood_SawyerW', 'LandContour', 'Neighborhood_SWISU', 'BldgType_1Fam', 'Neighborhood_NAmes']\n",
      "Top 10 important features:\n",
      "                 Feature  Importance  Cumulative Importance\n",
      "21  Neighborhood_Somerst    0.177044               0.177044\n",
      "35               LotArea    0.160740               0.337784\n",
      "37           OverallQual    0.118988               0.456772\n",
      "9    Neighborhood_IDOTRR    0.113180               0.569952\n",
      "17  Neighborhood_OldTown    0.071856               0.641807\n",
      "20  Neighborhood_SawyerW    0.042072               0.683880\n",
      "36           LandContour    0.037290               0.721170\n",
      "18    Neighborhood_SWISU    0.036934               0.758104\n",
      "24         BldgType_1Fam    0.026428               0.784532\n",
      "12    Neighborhood_NAmes    0.025647               0.810179\n",
      "31     HouseStyle_2Story    0.022205               0.832384\n",
      "7   Neighborhood_Edwards    0.016079               0.848463\n",
      "29     HouseStyle_1.5Fin    0.015863               0.864326\n",
      "28     HouseStyle_1Story    0.015468               0.879794\n",
      "3   Neighborhood_BrkSide    0.012693               0.892487\n"
     ]
    }
   ],
   "source": [
    "from feature_selection import get_feature_importance,get_best_features,calculate_vif\n",
    "feature_importances =get_feature_importance(X,importances)#pd.DataFrame({'Feature': X_train.columns, 'Importance': rf_classifier.feature_importances_}).sort_values(by='Importance', ascending=False)#pd.Series(rf_classifier.feature_importances_, index=X_train.columns).sort_values(ascending=False)\n",
    "#feature_importances['Cumulative Importance'] = feature_importances['Importance'].cumsum()\n",
    "feature_importances.to_csv('best_features_MSZoning.csv')\n",
    "top_features=get_best_features(feature_importances,0.8)\n",
    "print(top_features)\n",
    "print(\"Top 10 important features:\")\n",
    "print(feature_importances.head(15))"
   ]
  },
  {
   "cell_type": "code",
   "execution_count": 8,
   "id": "49e40414-4f07-457a-b42b-747c6ea4c138",
   "metadata": {},
   "outputs": [
    {
     "data": {
      "text/plain": [
       "array(['Neighborhood_SWISU', 'Neighborhood_IDOTRR',\n",
       "       'Neighborhood_SawyerW', 'Neighborhood_OldTown',\n",
       "       'Neighborhood_Somerst', 'Neighborhood_NAmes', 'LandContour',\n",
       "       'LotArea', 'BldgType_1Fam', 'OverallQual'], dtype=object)"
      ]
     },
     "execution_count": 8,
     "metadata": {},
     "output_type": "execute_result"
    }
   ],
   "source": [
    "vif_data=calculate_vif(data.loc[:,top_features])\n",
    "vif_data.to_csv('vif_MSZoning.csv')\n",
    "best_features=vif_data[vif_data['VIF']<10]['Feature'].values\n",
    "best_features"
   ]
  },
  {
   "cell_type": "code",
   "execution_count": 9,
   "id": "89734f91-5534-4886-97a7-1b8dc8bc8690",
   "metadata": {},
   "outputs": [
    {
     "name": "stdout",
     "output_type": "stream",
     "text": [
      "Average Macro F1 Score (10-fold CV): 0.6520\n",
      "Average Weighted F1 Score (10-fold CV): 0.9470\n",
      "Accuracy (10-fold CV): 0.9527\n"
     ]
    }
   ],
   "source": [
    "from sklearn.model_selection import cross_val_score\n",
    "from sklearn.metrics import accuracy_score, classification_report,confusion_matrix,f1_score,make_scorer,mean_absolute_error,mean_squared_error,r2_score\n",
    "clf = RandomForestClassifier(class_weight='balanced',random_state=42)\n",
    "f1_macro_scorer = make_scorer(f1_score, average='macro')\n",
    "f1_weighted_scorer = make_scorer(f1_score, average='weighted')\n",
    "f1_macro_scores = cross_val_score(clf, data.loc[:,data.columns!='MSZoning'],data.loc[:,'MSZoning'], cv=10, scoring=f1_macro_scorer)\n",
    "f1_weighted_scores = cross_val_score(clf, data.loc[:,data.columns!='MSZoning'],data.loc[:,'MSZoning'], cv=10, scoring=f1_weighted_scorer)\n",
    "accuracy_scores = cross_val_score(clf, data.loc[:,data.columns!='MSZoning'],data.loc[:,'MSZoning'], cv=10, scoring='accuracy')\n",
    "# Calculate the mean of the F1 scores\n",
    "avg_f1_macro = f1_macro_scores.mean()\n",
    "avg_f1_weighted = f1_weighted_scores.mean()\n",
    "avg_accuracy_weighted = accuracy_scores.mean()\n",
    "\n",
    "print(f\"Average Macro F1 Score (10-fold CV): {avg_f1_macro:.4f}\")\n",
    "print(f\"Average Weighted F1 Score (10-fold CV): {avg_f1_weighted:.4f}\")\n",
    "print(f\"Accuracy (10-fold CV): {avg_accuracy_weighted:.4f}\")"
   ]
  },
  {
   "cell_type": "code",
   "execution_count": 10,
   "id": "cac9ff5c-2b19-47a5-bdc2-dbaf1401bea1",
   "metadata": {},
   "outputs": [
    {
     "name": "stdout",
     "output_type": "stream",
     "text": [
      "Average Macro F1 Score (10-fold CV): 0.7102\n",
      "Average Weighted F1 Score (10-fold CV): 0.9369\n",
      "Accuracy (10-fold CV): 0.9411\n"
     ]
    }
   ],
   "source": [
    "clf = RandomForestClassifier(class_weight='balanced',random_state=42)\n",
    "f1_macro_scorer = make_scorer(f1_score, average='macro')\n",
    "f1_weighted_scorer = make_scorer(f1_score, average='weighted')\n",
    "f1_macro_scores = cross_val_score(clf, data.loc[:,best_features],data.loc[:,'MSZoning'], cv=10, scoring=f1_macro_scorer)\n",
    "f1_weighted_scores = cross_val_score(clf, data.loc[:,best_features],data.loc[:,'MSZoning'], cv=10, scoring=f1_weighted_scorer)\n",
    "accuracy_scores = cross_val_score(clf, data.loc[:,best_features],data.loc[:,'MSZoning'], cv=10, scoring='accuracy')\n",
    "# Calculate the mean of the F1 scores\n",
    "avg_f1_macro = f1_macro_scores.mean()\n",
    "avg_f1_weighted = f1_weighted_scores.mean()\n",
    "avg_accuracy_weighted = accuracy_scores.mean()\n",
    "\n",
    "print(f\"Average Macro F1 Score (10-fold CV): {avg_f1_macro:.4f}\")\n",
    "print(f\"Average Weighted F1 Score (10-fold CV): {avg_f1_weighted:.4f}\")\n",
    "print(f\"Accuracy (10-fold CV): {avg_accuracy_weighted:.4f}\")"
   ]
  },
  {
   "cell_type": "code",
   "execution_count": 11,
   "id": "a16faeef-ed54-495b-af3c-b691656ed188",
   "metadata": {},
   "outputs": [
    {
     "name": "stdout",
     "output_type": "stream",
     "text": [
      "Accuracy: 0.95\n",
      "              precision    recall  f1-score   support\n",
      "\n",
      "           1       1.00      1.00      1.00        13\n",
      "           3       0.85      0.91      0.88        44\n",
      "           5       0.00      0.00      0.00         3\n",
      "           6       0.97      0.97      0.97       230\n",
      "           7       1.00      0.50      0.67         2\n",
      "\n",
      "    accuracy                           0.95       292\n",
      "   macro avg       0.76      0.68      0.70       292\n",
      "weighted avg       0.94      0.95      0.95       292\n",
      "\n",
      "F1 Score (weighted): 0.95\n"
     ]
    }
   ],
   "source": [
    "X_train,X_valid,y_train,y_valid=train_test_split(data.loc[:,best_features],data.loc[:,'MSZoning'],stratify=data.loc[:,'MSZoning'],test_size=0.2)\n",
    "\n",
    "rf_classifier = RandomForestClassifier(class_weight='balanced',random_state=42)\n",
    "rf_classifier.fit(X_train,y_train)\n",
    "# Make predictions\n",
    "y_pred = rf_classifier.predict(X_valid)\n",
    "\n",
    "# Evaluate the model\n",
    "accuracy = accuracy_score(y_valid, y_pred)\n",
    "print(f\"Accuracy: {accuracy:.2f}\")\n",
    "\n",
    "# Print detailed classification report\n",
    "print(classification_report(y_valid, y_pred))\n",
    "# Calculate the F1 score (macro and weighted options for multiclass problems)\n",
    "f1 = f1_score(y_valid, y_pred, average='weighted')  # for multiclass classification\n",
    "# For binary classification, you can omit the average or use 'binary'\n",
    "\n",
    "print(f\"F1 Score (weighted): {f1:.2f}\")"
   ]
  },
  {
   "cell_type": "code",
   "execution_count": 12,
   "id": "fb55521f-d20f-411c-adcf-c1b8974bf60d",
   "metadata": {},
   "outputs": [
    {
     "name": "stdout",
     "output_type": "stream",
     "text": [
      "MSZoning_A\n",
      "MSZoning_I\n",
      "MSZoning_RP\n",
      "{'MSZoning'}\n",
      "Dropped last category to avoid dummy trap: Neighborhood_Veenker\n",
      "Dropped last category to avoid dummy trap: LotConfig_FR3\n",
      "Dropped last category to avoid dummy trap: BldgType_Twnhs\n",
      "Dropped last category to avoid dummy trap: HouseStyle_SLvl\n",
      "Dropped last category to avoid dummy trap: MSZoning_RM\n"
     ]
    }
   ],
   "source": [
    "data=train_data.loc[:,['LotArea','Neighborhood','LotShape','LotConfig','LandContour','BldgType','HouseStyle','MSZoning','LotFrontage']].dropna().reset_index(drop=True)\n",
    "feature_exp=eda_feature_exp(data.loc[:,['LotArea','Neighborhood','LotShape','LotConfig','LandContour','BldgType','HouseStyle','MSZoning']].columns,'LotFrontage')\n",
    "data=feature_exp.fit_transform(data)\n",
    "data['LotFrontage']=np.log1p(data['LotFrontage'])"
   ]
  },
  {
   "cell_type": "code",
   "execution_count": 13,
   "id": "ee62db75-206e-41c2-9762-d4cf60f26a9c",
   "metadata": {},
   "outputs": [
    {
     "name": "stdout",
     "output_type": "stream",
     "text": [
      "                 Feature  Importance\n",
      "43               LotArea    0.730124\n",
      "44              LotShape    0.034472\n",
      "6      LotConfig_CulDSac    0.031936\n",
      "5       LotConfig_Corner    0.025045\n",
      "32         BldgType_1Fam    0.012857\n",
      "23  Neighborhood_NridgHt    0.012004\n",
      "25  Neighborhood_OldTown    0.011667\n",
      "45           LandContour    0.010577\n",
      "35       BldgType_TwnhsE    0.010288\n",
      "20    Neighborhood_NAmes    0.008680\n",
      "39     HouseStyle_2Story    0.008244\n",
      "15  Neighborhood_Edwards    0.007851\n",
      "37     HouseStyle_1.5Fin    0.007844\n",
      "36     HouseStyle_1Story    0.007339\n",
      "4       LotConfig_Inside    0.007211\n",
      "16  Neighborhood_Gilbert    0.006278\n",
      "21  Neighborhood_NoRidge    0.006084\n",
      "11  Neighborhood_BrkSide    0.005553\n",
      "3            MSZoning_RL    0.004737\n",
      "13  Neighborhood_CollgCr    0.004596\n",
      "14  Neighborhood_Crawfor    0.004123\n",
      "27   Neighborhood_Sawyer    0.003620\n",
      "31   Neighborhood_Timber    0.003588\n",
      "26    Neighborhood_SWISU    0.003515\n",
      "28  Neighborhood_SawyerW    0.003384\n",
      "17   Neighborhood_IDOTRR    0.003157\n",
      "19  Neighborhood_Mitchel    0.002821\n",
      "12  Neighborhood_ClearCr    0.002497\n",
      "29  Neighborhood_Somerst    0.002115\n",
      "34       BldgType_Duplex    0.001865\n",
      "7          LotConfig_FR2    0.001841\n",
      "24   Neighborhood_NWAmes    0.001752\n",
      "8   Neighborhood_Blmngtn    0.001544\n",
      "30  Neighborhood_StoneBr    0.001460\n",
      "41     HouseStyle_2.5Unf    0.001420\n",
      "40     HouseStyle_2.5Fin    0.001361\n",
      "38     HouseStyle_1.5Unf    0.001144\n",
      "18  Neighborhood_MeadowV    0.000939\n",
      "33       BldgType_2fmCon    0.000914\n",
      "2            MSZoning_RH    0.000841\n",
      "1            MSZoning_FV    0.000780\n",
      "42     HouseStyle_SFoyer    0.000692\n",
      "0       MSZoning_C (all)    0.000652\n",
      "22  Neighborhood_NPkVill    0.000471\n",
      "9   Neighborhood_Blueste    0.000100\n",
      "10   Neighborhood_BrDale    0.000017\n"
     ]
    }
   ],
   "source": [
    "from sklearn.ensemble import RandomForestRegressor\n",
    "kf_2 = KFold(n_splits=10, shuffle=True, random_state=4)\n",
    "importances = np.zeros(len(data.loc[:,data.columns!='LotFrontage'].columns))\n",
    "# Perform cross-validation\n",
    "X=data.loc[:,data.columns!='LotFrontage']\n",
    "y=data.loc[:,'LotFrontage']\n",
    "for train_index, test_index in kf_2.split(X, y):\n",
    "    X_train, X_test = X.iloc[train_index], X.iloc[test_index]\n",
    "    y_train, y_test = y[train_index], y[test_index]\n",
    "    \n",
    "    # Initialize and train the Random Forest model\n",
    "    model = RandomForestRegressor()\n",
    "    model.fit(X_train, y_train)\n",
    "    \n",
    "    # Accumulate feature importances\n",
    "    importances += model.feature_importances_\n",
    "\n",
    "# Average feature importances across folds\n",
    "importances /= kf_2.get_n_splits()\n",
    "\n",
    "# Create a DataFrame for the feature importances\n",
    "feature_importances = pd.DataFrame({'Feature': data.loc[:,data.columns!='LotFrontage'].columns, 'Importance': importances})\n",
    "feature_importances = feature_importances.sort_values(by='Importance', ascending=False)\n",
    "\n",
    "print(feature_importances)"
   ]
  },
  {
   "cell_type": "code",
   "execution_count": 14,
   "id": "e876512c-3f4c-4ab4-ba1d-74b47bf22692",
   "metadata": {},
   "outputs": [
    {
     "name": "stdout",
     "output_type": "stream",
     "text": [
      "['LotArea', 'LotShape', 'LotConfig_CulDSac', 'LotConfig_Corner', 'BldgType_1Fam', 'Neighborhood_NridgHt', 'Neighborhood_OldTown', 'LandContour', 'BldgType_TwnhsE', 'Neighborhood_NAmes', 'HouseStyle_2Story', 'Neighborhood_Edwards']\n",
      "Top 10 important features:\n",
      "                 Feature  Importance  Cumulative Importance\n",
      "43               LotArea    0.730124               0.730124\n",
      "44              LotShape    0.034472               0.764596\n",
      "6      LotConfig_CulDSac    0.031936               0.796532\n",
      "5       LotConfig_Corner    0.025045               0.821577\n",
      "32         BldgType_1Fam    0.012857               0.834434\n",
      "23  Neighborhood_NridgHt    0.012004               0.846438\n",
      "25  Neighborhood_OldTown    0.011667               0.858105\n",
      "45           LandContour    0.010577               0.868681\n",
      "35       BldgType_TwnhsE    0.010288               0.878969\n",
      "20    Neighborhood_NAmes    0.008680               0.887650\n",
      "39     HouseStyle_2Story    0.008244               0.895893\n",
      "15  Neighborhood_Edwards    0.007851               0.903744\n",
      "37     HouseStyle_1.5Fin    0.007844               0.911588\n",
      "36     HouseStyle_1Story    0.007339               0.918927\n",
      "4       LotConfig_Inside    0.007211               0.926138\n"
     ]
    }
   ],
   "source": [
    "feature_importances =get_feature_importance(X,importances)#pd.DataFrame({'Feature': X_train.columns, 'Importance': rf_classifier.feature_importances_}).sort_values(by='Importance', ascending=False)#pd.Series(rf_classifier.feature_importances_, index=X_train.columns).sort_values(ascending=False)\n",
    "#feature_importances['Cumulative Importance'] = feature_importances['Importance'].cumsum()\n",
    "feature_importances.to_csv('best_features_LotFrontage.csv')\n",
    "top_features=get_best_features(feature_importances,0.9)\n",
    "print(top_features)\n",
    "print(\"Top 10 important features:\")\n",
    "print(feature_importances.head(15))"
   ]
  },
  {
   "cell_type": "code",
   "execution_count": 15,
   "id": "f3aa55de-c007-45ea-8da9-3001d09a1bb4",
   "metadata": {},
   "outputs": [
    {
     "data": {
      "text/plain": [
       "array(['BldgType_TwnhsE', 'Neighborhood_Edwards', 'Neighborhood_NridgHt',\n",
       "       'Neighborhood_OldTown', 'LotConfig_CulDSac', 'LandContour',\n",
       "       'LotConfig_Corner', 'Neighborhood_NAmes', 'HouseStyle_2Story',\n",
       "       'LotShape', 'LotArea', 'BldgType_1Fam'], dtype=object)"
      ]
     },
     "execution_count": 15,
     "metadata": {},
     "output_type": "execute_result"
    }
   ],
   "source": [
    "vif_data=calculate_vif(data.loc[:,top_features])\n",
    "vif_data.to_csv('vif_LotFrontage.csv')\n",
    "best_features=vif_data[vif_data['VIF']<10]['Feature'].values\n",
    "best_features"
   ]
  },
  {
   "cell_type": "code",
   "execution_count": 16,
   "id": "d5887897-e50a-463e-8163-651996c81251",
   "metadata": {},
   "outputs": [],
   "source": [
    "def mean_absolute_percentage_error(y_true, y_pred):\n",
    "    y_true, y_pred = np.array(y_true), np.array(y_pred)\n",
    "    return np.mean(np.abs((y_true - y_pred) / y_true)) * 100"
   ]
  },
  {
   "cell_type": "code",
   "execution_count": 17,
   "id": "36a28511-7eb6-421c-8f39-50ad54184bd7",
   "metadata": {},
   "outputs": [
    {
     "name": "stdout",
     "output_type": "stream",
     "text": [
      "Average MAE: 0.12\n",
      "Average MSE: 0.04\n",
      "Average RMSE: 0.19\n",
      "Average R^2: 0.71\n",
      "Average MAPE: 2.77%\n"
     ]
    }
   ],
   "source": [
    "rf_regressor_cv = RandomForestRegressor()\n",
    "mae_scorer = make_scorer(mean_absolute_error, greater_is_better=False)\n",
    "mse_scorer = make_scorer(mean_squared_error, greater_is_better=False)\n",
    "mape_scorer = make_scorer(mean_absolute_percentage_error, greater_is_better=False)\n",
    "mae_scores = cross_val_score(rf_regressor_cv,data.loc[:,data.columns!='LotFrontage'],data.loc[:,'LotFrontage'], cv=10, scoring=mae_scorer)\n",
    "cv_mse_scores = cross_val_score(rf_regressor_cv, data.loc[:,data.columns!='LotFrontage'],data.loc[:,'LotFrontage'], cv=10, scoring=mse_scorer)\n",
    "cv_r2_scores = cross_val_score(rf_regressor_cv, data.loc[:,data.columns!='LotFrontage'],data.loc[:,'LotFrontage'], cv=10, scoring='r2')\n",
    "cv_mape_scores = cross_val_score(rf_regressor_cv, data.loc[:,data.columns!='LotFrontage'],data.loc[:,'LotFrontage'], cv=10, scoring=mape_scorer)\n",
    "\n",
    "cv_mae_scores = -mae_scores\n",
    "mse_scores = -cv_mse_scores\n",
    "rmse_scores = np.sqrt(mse_scores)\n",
    "mape_scores = -cv_mape_scores\n",
    "\n",
    "print(f\"Average MAE: {cv_mae_scores.mean():.2f}\")\n",
    "print(f\"Average MSE: {mse_scores.mean():.2f}\")\n",
    "print(f\"Average RMSE: {rmse_scores.mean():.2f}\")\n",
    "print(f\"Average R^2: {cv_r2_scores.mean():.2f}\")\n",
    "print(f\"Average MAPE: {mape_scores.mean():.2f}%\")"
   ]
  },
  {
   "cell_type": "code",
   "execution_count": 18,
   "id": "a28969ea-6caa-458c-aa33-190d8a0d0bcb",
   "metadata": {},
   "outputs": [
    {
     "name": "stdout",
     "output_type": "stream",
     "text": [
      "Average MAE: 0.12\n",
      "Average MSE: 0.04\n",
      "Average RMSE: 0.20\n",
      "Average R^2: 0.67\n",
      "Average MAPE: 2.93%\n"
     ]
    }
   ],
   "source": [
    "rf_regressor_cv = RandomForestRegressor()\n",
    "mae_scorer = make_scorer(mean_absolute_error, greater_is_better=False)\n",
    "mse_scorer = make_scorer(mean_squared_error, greater_is_better=False)\n",
    "mape_scorer = make_scorer(mean_absolute_percentage_error, greater_is_better=False)\n",
    "mae_scores = cross_val_score(rf_regressor_cv,data.loc[:,best_features],data.loc[:,'LotFrontage'], cv=10, scoring=mae_scorer)\n",
    "cv_mse_scores = cross_val_score(rf_regressor_cv, data.loc[:,best_features],data.loc[:,'LotFrontage'], cv=10, scoring=mse_scorer)\n",
    "cv_r2_scores = cross_val_score(rf_regressor_cv, data.loc[:,best_features],data.loc[:,'LotFrontage'], cv=10, scoring='r2')\n",
    "cv_mape_scores = cross_val_score(rf_regressor_cv, data.loc[:,best_features],data.loc[:,'LotFrontage'], cv=10, scoring=mape_scorer)\n",
    "\n",
    "cv_mae_scores = -mae_scores\n",
    "mse_scores = -cv_mse_scores\n",
    "rmse_scores = np.sqrt(mse_scores)\n",
    "mape_scores = -cv_mape_scores\n",
    "\n",
    "print(f\"Average MAE: {cv_mae_scores.mean():.2f}\")\n",
    "print(f\"Average MSE: {mse_scores.mean():.2f}\")\n",
    "print(f\"Average RMSE: {rmse_scores.mean():.2f}\")\n",
    "print(f\"Average R^2: {cv_r2_scores.mean():.2f}\")\n",
    "print(f\"Average MAPE: {mape_scores.mean():.2f}%\")"
   ]
  }
 ],
 "metadata": {
  "kernelspec": {
   "display_name": "Python 3 (ipykernel)",
   "language": "python",
   "name": "python3"
  },
  "language_info": {
   "codemirror_mode": {
    "name": "ipython",
    "version": 3
   },
   "file_extension": ".py",
   "mimetype": "text/x-python",
   "name": "python",
   "nbconvert_exporter": "python",
   "pygments_lexer": "ipython3",
   "version": "3.11.5"
  }
 },
 "nbformat": 4,
 "nbformat_minor": 5
}
