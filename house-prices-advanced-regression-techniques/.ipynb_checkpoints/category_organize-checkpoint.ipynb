{
 "cells": [
  {
   "cell_type": "code",
   "execution_count": 1,
   "id": "7bd23fba-3b92-4f99-87f6-37446b63cce6",
   "metadata": {},
   "outputs": [],
   "source": [
    "import pandas as pd\n",
    "import numpy as np\n",
    "import json"
   ]
  },
  {
   "cell_type": "code",
   "execution_count": 2,
   "id": "72a3419e-90a9-4fe8-8ed6-093a61e78fb5",
   "metadata": {},
   "outputs": [],
   "source": [
    "nc_mapping={\n",
    "    'MSSubClass': {\n",
    "    20: '1-Story', 30: '1-Story', 40: '1-Story', 45: '1-1/2 Story', 50: '1-1/2 Story',  # Combined here\n",
    "    60: '2-Story', 70: '2-Story', 75: '2-1/2 Story',  # Combined here as well\n",
    "    80: 'Multi-Level', 85: 'Multi-Level',90: 'Other', 120: 'PUD', 150: 'PUD', 160: 'PUD',\n",
    "    180: 'Multi-Level', 190: 'Other'  # Map 190 to 'Other'\n",
    "},\n",
    "    'Exterior1st':{\n",
    "    'AsbShng': 'Shingles-based',\n",
    "    'AsphShn': 'Shingles-based',\n",
    "    'BrkComm': 'Brick-based',\n",
    "    'BrkFace': 'Brick-based',\n",
    "    'CBlock': 'Cement-based',\n",
    "    'CemntBd': 'Cement-based',\n",
    "    'HdBoard': 'Wood-based',\n",
    "    'ImStucc': 'Cement-based',\n",
    "    'MetalSd': 'Metal-based',\n",
    "    'Other': 'Other',\n",
    "    'Plywood': 'Other',\n",
    "    'PreCast': 'Other',\n",
    "    'Stone': 'Stone-based',\n",
    "    'Stucco': 'Cement-based',\n",
    "    'VinylSd': 'Vinyl-based',\n",
    "    'Wd Sdng': 'Wood-based',\n",
    "    'WdShing': 'Wood-based'\n",
    "},\n",
    "    'Exterior2nd':{\n",
    "    'AsbShng': 'Shingles-based',\n",
    "    'AsphShn': 'Shingles-based',\n",
    "    'Brk Cmn': 'Brick-based',\n",
    "    'BrkFace': 'Brick-based',\n",
    "    'CBlock': 'Cement-based',\n",
    "    'CmentBd': 'Cement-based',\n",
    "    'HdBoard': 'Wood-based',\n",
    "    'ImStucc': 'Cement-based',\n",
    "    'MetalSd': 'Metal-based',\n",
    "    'Other': 'Other',\n",
    "    'Plywood': 'Other',\n",
    "    'PreCast': 'Other',\n",
    "    'Stone': 'Stone-based',\n",
    "    'Stucco': 'Cement-based',\n",
    "    'VinylSd': 'Vinyl-based',\n",
    "    'Wd Sdng': 'Wood-based',\n",
    "    'Wd Shng': 'Wood-based'\n",
    "},\n",
    "    'Electrical':{\n",
    "    'SBrkr':'Romex_Wiring','FuseA':'Romex_Wiring','FuseP':'FuseP','FuseF':'Mix','Mix':'Mix'\n",
    "},\n",
    "    'Condition1':{\n",
    "    'Artery': 'Road Proximity',\n",
    "    'Feedr': 'Road Proximity',\n",
    "    'Norm': 'Road Proximity',\n",
    "    'RRNn': 'Railroad Proximity',\n",
    "    'RRAn': 'Railroad Proximity',\n",
    "    'RRNe': 'Railroad Proximity',\n",
    "    'RRAe': 'Railroad Proximity',\n",
    "    'PosN': 'Positive Features',\n",
    "    'PosA': 'Positive Features'\n",
    "},\n",
    "    'Condition2':{\n",
    "    'Artery': 'Road Proximity',\n",
    "    'Feedr': 'Road Proximity',\n",
    "    'Norm': 'Road Proximity',\n",
    "    'RRNn': 'Railroad Proximity',\n",
    "    'RRAn': 'Railroad Proximity',\n",
    "    'RRNe': 'Railroad Proximity',\n",
    "    'RRAe': 'Railroad Proximity',\n",
    "    'PosN': 'Positive Features',\n",
    "    'PosA': 'Positive Features'\n",
    "},\n",
    "  'RoofMatl':{\n",
    "    'CompShg': 'Standard Roofing',\n",
    "    'WdShake': 'Wood Roofing',\n",
    "    'WdShngl': 'Wood Roofing',\n",
    "    'ClyTile': 'Specialty Roofing',\n",
    "    'Membran': 'Specialty Roofing',\n",
    "    'Metal': 'Specialty Roofing',\n",
    "    'Roll': 'Specialty Roofing',\n",
    "    'Tar&Grv': 'Flat Roofing'\n",
    "},\n",
    "    'Heating':{\n",
    "    'GasA': 'Forced Air',\n",
    "    'GasW': 'Hot Water/Steam',\n",
    "    'OthW': 'Hot Water/Steam',\n",
    "    'Grav': 'Gravity-Based',\n",
    "    'Floor': 'Gravity-Based',\n",
    "    'Wall': 'Wall-Based'\n",
    "}\n",
    "}"
   ]
  },
  {
   "cell_type": "code",
   "execution_count": 3,
   "id": "15bb0a8a-b151-4142-8283-9d55393a8a06",
   "metadata": {},
   "outputs": [
    {
     "name": "stdout",
     "output_type": "stream",
     "text": [
      "Dictionary saved as 'nc_mapping.json' successfully!\n"
     ]
    }
   ],
   "source": [
    "with open(\"nc_mapping.json\", \"w\") as json_file:\n",
    "    json.dump(nc_mapping, json_file, indent=4)\n",
    "\n",
    "print(\"Dictionary saved as 'nc_mapping.json' successfully!\")"
   ]
  }
 ],
 "metadata": {
  "kernelspec": {
   "display_name": "Python 3 (ipykernel)",
   "language": "python",
   "name": "python3"
  },
  "language_info": {
   "codemirror_mode": {
    "name": "ipython",
    "version": 3
   },
   "file_extension": ".py",
   "mimetype": "text/x-python",
   "name": "python",
   "nbconvert_exporter": "python",
   "pygments_lexer": "ipython3",
   "version": "3.11.5"
  }
 },
 "nbformat": 4,
 "nbformat_minor": 5
}
